{
 "cells": [
  {
   "cell_type": "code",
   "execution_count": 1,
   "id": "aa840e19-ab5c-49df-a87f-e6d8e82ebc0c",
   "metadata": {
    "tags": []
   },
   "outputs": [
    {
     "name": "stdout",
     "output_type": "stream",
     "text": [
      "Starting Spark application\n"
     ]
    },
    {
     "data": {
      "text/html": [
       "<table>\n",
       "<tr><th>ID</th><th>YARN Application ID</th><th>Kind</th><th>State</th><th>Spark UI</th><th>Driver log</th><th>User</th><th>Current session?</th></tr><tr><td>582</td><td>application_1732639283265_0549</td><td>pyspark</td><td>idle</td><td><a target=\"_blank\" href=\"http://ip-192-168-1-36.eu-central-1.compute.internal:20888/proxy/application_1732639283265_0549/\">Link</a></td><td><a target=\"_blank\" href=\"http://ip-192-168-1-193.eu-central-1.compute.internal:8042/node/containerlogs/container_1732639283265_0549_01_000002/livy\">Link</a></td><td>None</td><td>✔</td></tr></table>"
      ],
      "text/plain": [
       "<IPython.core.display.HTML object>"
      ]
     },
     "metadata": {},
     "output_type": "display_data"
    },
    {
     "data": {
      "application/vnd.jupyter.widget-view+json": {
       "model_id": "",
       "version_major": 2,
       "version_minor": 0
      },
      "text/plain": [
       "FloatProgress(value=0.0, bar_style='info', description='Progress:', layout=Layout(height='25px', width='50%'),…"
      ]
     },
     "metadata": {},
     "output_type": "display_data"
    },
    {
     "name": "stdout",
     "output_type": "stream",
     "text": [
      "SparkSession available as 'spark'.\n"
     ]
    },
    {
     "data": {
      "application/vnd.jupyter.widget-view+json": {
       "model_id": "",
       "version_major": 2,
       "version_minor": 0
      },
      "text/plain": [
       "FloatProgress(value=0.0, bar_style='info', description='Progress:', layout=Layout(height='25px', width='50%'),…"
      ]
     },
     "metadata": {},
     "output_type": "display_data"
    },
    {
     "name": "stdout",
     "output_type": "stream",
     "text": [
      "root\n",
      " |-- BG10: string (nullable = true)\n",
      " |-- BG10FIP10: string (nullable = true)\n",
      " |-- BG12: string (nullable = true)\n",
      " |-- CB10: string (nullable = true)\n",
      " |-- CEN_FIP13: string (nullable = true)\n",
      " |-- CITY: string (nullable = true)\n",
      " |-- CITYCOM: string (nullable = true)\n",
      " |-- COMM: string (nullable = true)\n",
      " |-- CT10: string (nullable = true)\n",
      " |-- CT12: string (nullable = true)\n",
      " |-- CTCB10: string (nullable = true)\n",
      " |-- HD_2012: long (nullable = true)\n",
      " |-- HD_NAME: string (nullable = true)\n",
      " |-- HOUSING10: long (nullable = true)\n",
      " |-- LA_FIP10: string (nullable = true)\n",
      " |-- OBJECTID: long (nullable = true)\n",
      " |-- POP_2010: long (nullable = true)\n",
      " |-- PUMA10: string (nullable = true)\n",
      " |-- SPA_2012: long (nullable = true)\n",
      " |-- SPA_NAME: string (nullable = true)\n",
      " |-- SUP_DIST: string (nullable = true)\n",
      " |-- SUP_LABEL: string (nullable = true)\n",
      " |-- ShapeSTArea: double (nullable = true)\n",
      " |-- ShapeSTLength: double (nullable = true)\n",
      " |-- ZCTA10: string (nullable = true)\n",
      " |-- geometry: geometry (nullable = true)"
     ]
    }
   ],
   "source": [
    "from sedona.spark import *\n",
    "from pyspark.sql.functions import col\n",
    "from pyspark.sql import SparkSession\n",
    "import time\n",
    "# Create Spark Session with configurations\n",
    "spark = SparkSession.builder \\\n",
    "    .appName(\"GeoJSON read\") \\\n",
    "    .config(\"spark.executor.instances\", \"2\") \\\n",
    "    .config(\"spark.executor.memory\", \"1g\") \\\n",
    "    .config(\"spark.executor.cores\", \"2\") \\\n",
    "    .config(\"spark.driver.memory\", \"4g\") \\\n",
    "    .getOrCreate()\n",
    "\n",
    "# Create Sedona context\n",
    "sedona = SedonaContext.create(spark)\n",
    "\n",
    "# Read the file from s3\n",
    "geojson_path = \"s3://initial-notebook-data-bucket-dblab-905418150721/2010_Census_Blocks.geojson\"\n",
    "blocks_df = sedona.read.format(\"geojson\") \\\n",
    "            .option(\"multiLine\", \"true\").load(geojson_path) \\\n",
    "            .selectExpr(\"explode(features) as features\") \\\n",
    "            .select(\"features.*\")\n",
    "\n",
    "# Formatting magic\n",
    "flattened_df = blocks_df.select(\n",
    "    [col(f\"properties.{col_name}\").alias(col_name) for col_name in\n",
    "     blocks_df.schema[\"properties\"].dataType.fieldNames()] + [\"geometry\"]) \\\n",
    "    .drop(\"properties\") \\\n",
    "    .drop(\"type\")\n",
    "\n",
    "# Print schema\n",
    "flattened_df.printSchema()\n"
   ]
  },
  {
   "cell_type": "code",
   "execution_count": 2,
   "id": "90c4edf9-a5ca-476c-aa46-bd7fc9cfa30f",
   "metadata": {
    "tags": []
   },
   "outputs": [
    {
     "data": {
      "application/vnd.jupyter.widget-view+json": {
       "model_id": "",
       "version_major": 2,
       "version_minor": 0
      },
      "text/plain": [
       "FloatProgress(value=0.0, bar_style='info', description='Progress:', layout=Layout(height='25px', width='50%'),…"
      ]
     },
     "metadata": {},
     "output_type": "display_data"
    }
   ],
   "source": [
    "race_path = 's3://initial-notebook-data-bucket-dblab-905418150721/RE_codes.csv'\n",
    "data1_path = 's3://initial-notebook-data-bucket-dblab-905418150721/CrimeData/Crime_Data_from_2010_to_2019_20241101.csv'\n",
    "data2_path = 's3://initial-notebook-data-bucket-dblab-905418150721/CrimeData/Crime_Data_from_2020_to_Present_20241101.csv'\n",
    "area_path = 's3://initial-notebook-data-bucket-dblab-905418150721/LA_income_2015.csv'\n",
    "df_area = spark.read.csv(area_path, header = True, inferSchema=True)\n",
    "df_race = spark.read.csv(race_path, header=True, inferSchema=True)\n",
    "df1 = spark.read.csv(data1_path, header=True, inferSchema=True)\n",
    "df2 = spark.read.csv(data2_path, header=True, inferSchema=True)\n",
    "df_combined = df1.union(df2)"
   ]
  },
  {
   "cell_type": "code",
   "execution_count": 3,
   "id": "cbf4c7cc-17c7-46e7-ba2f-86badc911735",
   "metadata": {
    "tags": []
   },
   "outputs": [
    {
     "data": {
      "application/vnd.jupyter.widget-view+json": {
       "model_id": "",
       "version_major": 2,
       "version_minor": 0
      },
      "text/plain": [
       "FloatProgress(value=0.0, bar_style='info', description='Progress:', layout=Layout(height='25px', width='50%'),…"
      ]
     },
     "metadata": {},
     "output_type": "display_data"
    },
    {
     "name": "stdout",
     "output_type": "stream",
     "text": [
      "Time it took: 0.2964513301849365\n",
      "Los Angeles (West Hills), Bell Canyon\n",
      "Redondo Beach, Torrance\n",
      "Bouquet Canyon, Green Valley, Mint Canyon, Santa Clarita (Canyon County)\n",
      "Time it took:0.17139673233032227\n",
      "Topanga\n",
      "Los Angeles (Century City)\n",
      "Long Beach\n",
      "91307\n",
      "90277\n",
      "91350"
     ]
    }
   ],
   "source": [
    "from pyspark.sql.functions import col, year, to_timestamp\n",
    "#from sedona.sql.types import ST_Point\n",
    "#from sedona.sql.functions import ST_Contains\n",
    "start_time = time.time()\n",
    "# Step 1: Filter `df_area` by `Estimated Median Income` in ascending order and get the top 3\n",
    "result_asc = df_area.orderBy(col(\"Estimated Median Income\").asc())\n",
    "res1 = result_asc.limit(3).collect()\n",
    "end_time = time.time()\n",
    "print(f\"Time it took: {end_time-start_time}\")\n",
    "for row in res1:\n",
    "    print(row[\"Community\"])\n",
    "\n",
    "# Step 2: Filter `df_area` by `Estimated Median Income` in descending order and get the top 3\n",
    "start_time = time.time()\n",
    "result_desc = df_area.orderBy(col(\"Estimated Median Income\").desc())\n",
    "res2 = result_desc.limit(3).collect()\n",
    "end_time = time.time()\n",
    "print(f\"Time it took:{end_time - start_time}\")\n",
    "for row in res2:\n",
    "    print(row[\"Community\"])\n",
    "\n",
    "# Step 3: Collect the zip codes of the lowest income areas\n",
    "codes1 = [row[\"Zip Code\"] for row in res1]\n",
    "for code in codes1:\n",
    "    print(code)\n"
   ]
  },
  {
   "cell_type": "code",
   "execution_count": 4,
   "id": "d6ceee1c-1fc4-427a-9e4f-054762a6a854",
   "metadata": {
    "tags": []
   },
   "outputs": [
    {
     "data": {
      "application/vnd.jupyter.widget-view+json": {
       "model_id": "",
       "version_major": 2,
       "version_minor": 0
      },
      "text/plain": [
       "FloatProgress(value=0.0, bar_style='info', description='Progress:', layout=Layout(height='25px', width='50%'),…"
      ]
     },
     "metadata": {},
     "output_type": "display_data"
    },
    {
     "name": "stdout",
     "output_type": "stream",
     "text": [
      "Time it took:0.03467965126037598"
     ]
    }
   ],
   "source": [
    "\n",
    "# Step 4: Filter `flattened_df` for records matching the collected zip codes\n",
    "start_time = time.time()\n",
    "flattened_df = flattened_df.filter(col(\"ZCTA10\").isin(codes1))\n",
    "#res.show(10)\n",
    "\n",
    "# Step 5: Filter `df_combined` for crimes occurring in 2015\n",
    "crime_2015 = df_combined.filter(\n",
    "    year(to_timestamp(col(\"DATE OCC\"), \"MM/dd/yyyy hh:mm:ss a\")) == 2015\n",
    ")\n",
    "end_time = time.time()\n",
    "print(f\"Time it took:{end_time-start_time}\")\n",
    "# Show the filtered crimes\n",
    "#crime_2015.show()\n"
   ]
  },
  {
   "cell_type": "code",
   "execution_count": 5,
   "id": "211365fa-3558-4a80-bf92-c98d6111a0e5",
   "metadata": {
    "tags": []
   },
   "outputs": [
    {
     "data": {
      "application/vnd.jupyter.widget-view+json": {
       "model_id": "",
       "version_major": 2,
       "version_minor": 0
      },
      "text/plain": [
       "FloatProgress(value=0.0, bar_style='info', description='Progress:', layout=Layout(height='25px', width='50%'),…"
      ]
     },
     "metadata": {},
     "output_type": "display_data"
    },
    {
     "name": "stdout",
     "output_type": "stream",
     "text": [
      "+------+--------------------+-------+---------+--------------------+\n",
      "|Crm Cd|         Crm Cd Desc|    LAT|      LON|                geom|\n",
      "+------+--------------------+-------+---------+--------------------+\n",
      "|   946|OTHER MISCELLANEO...|34.0448|-118.2474|POINT (-118.2474 ...|\n",
      "|   510|    VEHICLE - STOLEN|34.0618|-118.2954|POINT (-118.2954 ...|\n",
      "|   510|    VEHICLE - STOLEN|33.8202|-118.3037|POINT (-118.3037 ...|\n",
      "|   510|    VEHICLE - STOLEN|34.0691|-118.2979|POINT (-118.2979 ...|\n",
      "|   330|BURGLARY FROM VEH...|34.0461|-118.2476|POINT (-118.2476 ...|\n",
      "|   510|    VEHICLE - STOLEN|33.7469|-118.2835|POINT (-118.2835 ...|\n",
      "|   510|    VEHICLE - STOLEN|33.9113|-118.2872|POINT (-118.2872 ...|\n",
      "|   510|    VEHICLE - STOLEN|33.7842|-118.2779|POINT (-118.2779 ...|\n",
      "|   510|    VEHICLE - STOLEN|34.1974|-118.5994|POINT (-118.5994 ...|\n",
      "|   330|BURGLARY FROM VEH...|33.9815|-118.2739|POINT (-118.2739 ...|\n",
      "|   510|    VEHICLE - STOLEN|34.2216|-118.4488|POINT (-118.4488 ...|\n",
      "|   310|            BURGLARY| 33.949|-118.3744|POINT (-118.3744 ...|\n",
      "|   510|    VEHICLE - STOLEN|34.0553| -118.283|POINT (-118.283 3...|\n",
      "|   510|    VEHICLE - STOLEN|33.9553|-118.4488|POINT (-118.4488 ...|\n",
      "|   230|ASSAULT WITH DEAD...|34.0526|-118.2989|POINT (-118.2989 ...|\n",
      "|   946|OTHER MISCELLANEO...| 33.944|-118.4073|POINT (-118.4073 ...|\n",
      "|   354|   THEFT OF IDENTITY|34.1936|-118.4166|POINT (-118.4166 ...|\n",
      "|   354|   THEFT OF IDENTITY|34.0962|-118.3452|POINT (-118.3452 ...|\n",
      "|   354|   THEFT OF IDENTITY|34.0572|-118.3459|POINT (-118.3459 ...|\n",
      "|   330|BURGLARY FROM VEH...|34.2282|-118.5951|POINT (-118.5951 ...|\n",
      "+------+--------------------+-------+---------+--------------------+\n",
      "only showing top 20 rows\n",
      "\n",
      "Time it took:0.1006019115447998"
     ]
    }
   ],
   "source": [
    "start_time = time.time()\n",
    "# Step 6: Add a geometry column (`geom`) to `crime_2015` using ST_Point\n",
    "crime_2015 = crime_2015.withColumn(\"geom\", ST_Point(col(\"LON\"), col(\"LAT\")))\n",
    "end_time = time.time()\n",
    "crime_2015.select(\"Crm Cd\", \"Crm Cd Desc\", \"LAT\", \"LON\", \"geom\").show(20)\n",
    "print(f\"Time it took:{end_time-start_time}\")\n"
   ]
  },
  {
   "cell_type": "code",
   "execution_count": 6,
   "id": "0cb395eb-a361-4c1a-9f85-616320a25914",
   "metadata": {},
   "outputs": [
    {
     "data": {
      "application/vnd.jupyter.widget-view+json": {
       "model_id": "",
       "version_major": 2,
       "version_minor": 0
      },
      "text/plain": [
       "FloatProgress(value=0.0, bar_style='info', description='Progress:', layout=Layout(height='25px', width='50%'),…"
      ]
     },
     "metadata": {},
     "output_type": "display_data"
    },
    {
     "name": "stdout",
     "output_type": "stream",
     "text": [
      "Time it took0.033895015716552734"
     ]
    }
   ],
   "source": [
    "start_time = time.time()\n",
    "# Step 7: Perform the spatial join using ST_Contains\n",
    "result_df = flattened_df.join(\n",
    "    crime_2015,\n",
    "    ST_Contains(flattened_df[\"geometry\"], crime_2015[\"geom\"]),\n",
    "    \"inner\",  # Keep only the rows where the points are inside the polygons\n",
    ")\n",
    "end_time = time.time()\n",
    "print(f\"Time it took{end_time-start_time}\")\n",
    "# Show the spatial join results\n",
    "#result_df.show(10)"
   ]
  },
  {
   "cell_type": "code",
   "execution_count": 7,
   "id": "fb804cd4-e4d7-4713-a018-76470dcc5e9f",
   "metadata": {},
   "outputs": [
    {
     "data": {
      "application/vnd.jupyter.widget-view+json": {
       "model_id": "",
       "version_major": 2,
       "version_minor": 0
      },
      "text/plain": [
       "FloatProgress(value=0.0, bar_style='info', description='Progress:', layout=Layout(height='25px', width='50%'),…"
      ]
     },
     "metadata": {},
     "output_type": "display_data"
    },
    {
     "name": "stdout",
     "output_type": "stream",
     "text": [
      "Time it took:0.02087259292602539\n",
      "+------------+-----+\n",
      "|Vict Descent|count|\n",
      "+------------+-----+\n",
      "|        NULL|   34|\n",
      "|           B|   56|\n",
      "|           J|    1|\n",
      "|           H|  127|\n",
      "|           F|    2|\n",
      "|           O|  128|\n",
      "|           X|   90|\n",
      "|           W|  470|\n",
      "|           A|   24|\n",
      "+------------+-----+"
     ]
    }
   ],
   "source": [
    "start_time = time.time()\n",
    "grouped_df = result_df.groupBy('Vict Descent').count()\n",
    "end_time = time.time()\n",
    "print(f\"Time it took:{end_time-start_time}\")\n",
    "grouped_df.show()"
   ]
  },
  {
   "cell_type": "markdown",
   "id": "8485669b-44af-4562-8dc1-6acef6cd728a",
   "metadata": {},
   "source": [
    "Τα στατιστικά για τις 3 πιο πλούσιες περιοχές"
   ]
  },
  {
   "cell_type": "code",
   "execution_count": 8,
   "id": "dc7eca21-65d2-455a-a74a-de3ab36e97ff",
   "metadata": {},
   "outputs": [
    {
     "data": {
      "application/vnd.jupyter.widget-view+json": {
       "model_id": "",
       "version_major": 2,
       "version_minor": 0
      },
      "text/plain": [
       "FloatProgress(value=0.0, bar_style='info', description='Progress:', layout=Layout(height='25px', width='50%'),…"
      ]
     },
     "metadata": {},
     "output_type": "display_data"
    },
    {
     "name": "stdout",
     "output_type": "stream",
     "text": [
      "Time it took:0.010543346405029297\n",
      "+--------------------+---+\n",
      "|   Vict Descent Full|  #|\n",
      "+--------------------+---+\n",
      "|               Black| 56|\n",
      "|            Japanese|  1|\n",
      "|Hispanic/Latin/Me...|127|\n",
      "|            Filipino|  2|\n",
      "|               Other|128|\n",
      "|             Unknown| 90|\n",
      "|               White|470|\n",
      "|         Other Asian| 24|\n",
      "+--------------------+---+"
     ]
    }
   ],
   "source": [
    "start_time = time.time()\n",
    "final_df = grouped_df.join(\n",
    "    df_race,\n",
    "    grouped_df['Vict Descent'] == df_race['Vict Descent'],\n",
    "    \"inner\")\n",
    "end_time = time.time()\n",
    "print(f\"Time it took:{end_time-start_time}\")\n",
    "final_df.select('Vict Descent Full',grouped_df['count'].alias('#')).show()"
   ]
  },
  {
   "cell_type": "code",
   "execution_count": 9,
   "id": "8e3f3daf-f863-42f5-9b3a-c2ca4ee284fa",
   "metadata": {},
   "outputs": [
    {
     "data": {
      "application/vnd.jupyter.widget-view+json": {
       "model_id": "",
       "version_major": 2,
       "version_minor": 0
      },
      "text/plain": [
       "FloatProgress(value=0.0, bar_style='info', description='Progress:', layout=Layout(height='25px', width='50%'),…"
      ]
     },
     "metadata": {},
     "output_type": "display_data"
    },
    {
     "name": "stdout",
     "output_type": "stream",
     "text": [
      "90290\n",
      "90067\n",
      "90808\n",
      "Time it took:0.02120041847229004\n",
      "97\n",
      "Time it took:0.0209658145904541\n",
      "+------------+-----+\n",
      "|Vict Descent|count|\n",
      "+------------+-----+\n",
      "|        NULL|    2|\n",
      "|           B|    5|\n",
      "|           H|    8|\n",
      "|           O|   15|\n",
      "|           X|    8|\n",
      "|           W|   57|\n",
      "|           A|    2|\n",
      "+------------+-----+"
     ]
    }
   ],
   "source": [
    "flattened_df = blocks_df.select( \\\n",
    "                [col(f\"properties.{col_name}\").alias(col_name) for col_name in \\\n",
    "                blocks_df.schema[\"properties\"].dataType.fieldNames()] + [\"geometry\"]) \\\n",
    "            .drop(\"properties\") \\\n",
    "            .drop(\"type\")\n",
    "# Print schema\n",
    "\n",
    "codes2 = [row[\"Zip Code\"] for row in res2]\n",
    "for code in codes2:\n",
    "    print(code)\n",
    "flattened_df = flattened_df.filter(col(\"ZCTA10\").isin(codes2))\n",
    "#res.show(10)\n",
    "\n",
    "start_time = time.time()\n",
    "result_df = flattened_df.join(\n",
    "    crime_2015,\n",
    "    ST_Contains(flattened_df[\"geometry\"], crime_2015[\"geom\"]),\n",
    "    \"inner\",  # Keep only the rows where the points are inside the polygons\n",
    ")\n",
    "end_time = time.time()\n",
    "print(f\"Time it took:{end_time-start_time}\")\n",
    "#result_df.show()\n",
    "print(result_df.count())\n",
    "start_time = time.time()\n",
    "grouped_df = result_df.groupBy('Vict Descent').count()\n",
    "end_time = time.time()\n",
    "print(f\"Time it took:{end_time-start_time}\")\n",
    "grouped_df.show()\n"
   ]
  },
  {
   "cell_type": "markdown",
   "id": "028ac352-b7bc-44c6-85e3-6d876774205a",
   "metadata": {},
   "source": [
    "Στατιστικά για τις 3 πιο φτωχές περιοχές"
   ]
  },
  {
   "cell_type": "code",
   "execution_count": 10,
   "id": "601f855d-5dfc-443d-a060-ad4034c2964d",
   "metadata": {
    "tags": []
   },
   "outputs": [
    {
     "data": {
      "application/vnd.jupyter.widget-view+json": {
       "model_id": "",
       "version_major": 2,
       "version_minor": 0
      },
      "text/plain": [
       "FloatProgress(value=0.0, bar_style='info', description='Progress:', layout=Layout(height='25px', width='50%'),…"
      ]
     },
     "metadata": {},
     "output_type": "display_data"
    },
    {
     "name": "stdout",
     "output_type": "stream",
     "text": [
      "Time it took:0.0055463314056396484\n",
      "+--------------------+---+\n",
      "|   Vict Descent Full|  #|\n",
      "+--------------------+---+\n",
      "|               Black|  5|\n",
      "|Hispanic/Latin/Me...|  8|\n",
      "|               Other| 15|\n",
      "|             Unknown|  8|\n",
      "|               White| 57|\n",
      "|         Other Asian|  2|\n",
      "+--------------------+---+"
     ]
    }
   ],
   "source": [
    "start_time = time.time()\n",
    "final_df = grouped_df.join(\n",
    "    df_race,\n",
    "    grouped_df['Vict Descent'] == df_race['Vict Descent'],\n",
    "    \"inner\")\n",
    "end_time = time.time()\n",
    "print(f\"Time it took:{end_time - start_time}\")\n",
    "final_df.select('Vict Descent Full',grouped_df['count'].alias('#')).show()\n",
    "#result_df.show(10)\n"
   ]
  }
 ],
 "metadata": {
  "kernelspec": {
   "display_name": "Sparkmagic (PySpark)",
   "language": "python",
   "name": "pysparkkernel"
  },
  "language_info": {
   "codemirror_mode": {
    "name": "python",
    "version": 3
   },
   "file_extension": ".py",
   "mimetype": "text/x-python",
   "name": "pyspark",
   "pygments_lexer": "python3"
  }
 },
 "nbformat": 4,
 "nbformat_minor": 5
}
