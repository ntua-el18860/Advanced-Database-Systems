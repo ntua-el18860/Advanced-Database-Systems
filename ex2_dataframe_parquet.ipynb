{
 "cells": [
  {
   "cell_type": "markdown",
   "id": "6f647910-fddb-4ad2-be6c-e992949822ac",
   "metadata": {},
   "source": [
    "## DataFrame API Parquet - Query2"
   ]
  },
  {
   "cell_type": "code",
   "execution_count": 1,
   "id": "efd0baf6-e369-4cb1-a6fa-397f3ac5d223",
   "metadata": {
    "tags": []
   },
   "outputs": [
    {
     "name": "stdout",
     "output_type": "stream",
     "text": [
      "Starting Spark application\n"
     ]
    },
    {
     "data": {
      "text/html": [
       "<table>\n",
       "<tr><th>ID</th><th>YARN Application ID</th><th>Kind</th><th>State</th><th>Spark UI</th><th>Driver log</th><th>User</th><th>Current session?</th></tr><tr><td>3469</td><td>application_1732639283265_3425</td><td>pyspark</td><td>idle</td><td><a target=\"_blank\" href=\"http://ip-192-168-1-36.eu-central-1.compute.internal:20888/proxy/application_1732639283265_3425/\">Link</a></td><td><a target=\"_blank\" href=\"http://ip-192-168-1-94.eu-central-1.compute.internal:8042/node/containerlogs/container_1732639283265_3425_01_000001/livy\">Link</a></td><td>None</td><td>✔</td></tr></table>"
      ],
      "text/plain": [
       "<IPython.core.display.HTML object>"
      ]
     },
     "metadata": {},
     "output_type": "display_data"
    },
    {
     "data": {
      "application/vnd.jupyter.widget-view+json": {
       "model_id": "",
       "version_major": 2,
       "version_minor": 0
      },
      "text/plain": [
       "FloatProgress(value=0.0, bar_style='info', description='Progress:', layout=Layout(height='25px', width='50%'),…"
      ]
     },
     "metadata": {},
     "output_type": "display_data"
    },
    {
     "name": "stdout",
     "output_type": "stream",
     "text": [
      "SparkSession available as 'spark'.\n"
     ]
    },
    {
     "data": {
      "application/vnd.jupyter.widget-view+json": {
       "model_id": "",
       "version_major": 2,
       "version_minor": 0
      },
      "text/plain": [
       "FloatProgress(value=0.0, bar_style='info', description='Progress:', layout=Layout(height='25px', width='50%'),…"
      ]
     },
     "metadata": {},
     "output_type": "display_data"
    }
   ],
   "source": [
    "from pyspark.sql import SparkSession\n",
    "from pyspark import SparkConf\n",
    "\n",
    "sc = SparkSession \\\n",
    "    .builder \\\n",
    "    .appName(\"ex2\") \\\n",
    "    .getOrCreate() \n",
    "\n"
   ]
  },
  {
   "cell_type": "code",
   "execution_count": 2,
   "id": "f6eb57b7-0faf-4baa-b44e-ad58651e64df",
   "metadata": {
    "tags": []
   },
   "outputs": [
    {
     "data": {
      "application/vnd.jupyter.widget-view+json": {
       "model_id": "",
       "version_major": 2,
       "version_minor": 0
      },
      "text/plain": [
       "FloatProgress(value=0.0, bar_style='info', description='Progress:', layout=Layout(height='25px', width='50%'),…"
      ]
     },
     "metadata": {},
     "output_type": "display_data"
    }
   ],
   "source": [
    "data_path = 's3://initial-notebook-data-bucket-dblab-905418150721/CrimeData/Crime_Data_from_2010_to_2019_20241101.csv'\n",
    "\n",
    "df = spark.read.csv(data_path, header=True, inferSchema=True)"
   ]
  },
  {
   "cell_type": "code",
   "execution_count": 3,
   "id": "4c54b56e-d61a-4c62-8fcd-da36034f0c67",
   "metadata": {
    "tags": []
   },
   "outputs": [
    {
     "data": {
      "application/vnd.jupyter.widget-view+json": {
       "model_id": "",
       "version_major": 2,
       "version_minor": 0
      },
      "text/plain": [
       "FloatProgress(value=0.0, bar_style='info', description='Progress:', layout=Layout(height='25px', width='50%'),…"
      ]
     },
     "metadata": {},
     "output_type": "display_data"
    }
   ],
   "source": [
    "data2_path = 's3://initial-notebook-data-bucket-dblab-905418150721/CrimeData/Crime_Data_from_2020_to_Present_20241101.csv'\n",
    "df2 = spark.read.csv(data2_path,header = True, inferSchema = True)\n"
   ]
  },
  {
   "cell_type": "code",
   "execution_count": 4,
   "id": "c8e52523-f5d4-4c52-8b20-dae5598885a1",
   "metadata": {
    "tags": []
   },
   "outputs": [
    {
     "data": {
      "application/vnd.jupyter.widget-view+json": {
       "model_id": "",
       "version_major": 2,
       "version_minor": 0
      },
      "text/plain": [
       "FloatProgress(value=0.0, bar_style='info', description='Progress:', layout=Layout(height='25px', width='50%'),…"
      ]
     },
     "metadata": {},
     "output_type": "display_data"
    },
    {
     "name": "stdout",
     "output_type": "stream",
     "text": [
      "['DR_NO', 'Date Rptd', 'DATE OCC', 'TIME OCC', 'AREA ', 'AREA NAME', 'Rpt Dist No', 'Part 1-2', 'Crm Cd', 'Crm Cd Desc', 'Mocodes', 'Vict Age', 'Vict Sex', 'Vict Descent', 'Premis Cd', 'Premis Desc', 'Weapon Used Cd', 'Weapon Desc', 'Status', 'Status Desc', 'Crm Cd 1', 'Crm Cd 2', 'Crm Cd 3', 'Crm Cd 4', 'LOCATION', 'Cross Street', 'LAT', 'LON']"
     ]
    }
   ],
   "source": [
    "df_combined = df.union(df2)\n",
    "df_combined.columns"
   ]
  },
  {
   "cell_type": "code",
   "execution_count": 5,
   "id": "1132efac-c234-4f47-8389-5e12e94804f6",
   "metadata": {
    "tags": []
   },
   "outputs": [
    {
     "data": {
      "application/vnd.jupyter.widget-view+json": {
       "model_id": "",
       "version_major": 2,
       "version_minor": 0
      },
      "text/plain": [
       "FloatProgress(value=0.0, bar_style='info', description='Progress:', layout=Layout(height='25px', width='50%'),…"
      ]
     },
     "metadata": {},
     "output_type": "display_data"
    },
    {
     "name": "stdout",
     "output_type": "stream",
     "text": [
      "Data successfully written to s3://groups-bucket-dblab-905418150721/group9/q2/ in Parquet format."
     ]
    }
   ],
   "source": [
    "# Αποθήκευση σε Parquet στο S3\n",
    "group_name = '9'\n",
    "s3_path = f\"s3://groups-bucket-dblab-905418150721/group{group_name}/q2/\"\n",
    "df_combined.write.mode(\"overwrite\").parquet(s3_path)\n",
    "\n",
    "print(f\"Data successfully written to {s3_path} in Parquet format.\")"
   ]
  },
  {
   "cell_type": "code",
   "execution_count": 6,
   "id": "aeb04cad-04d9-499d-9f39-d62d2cc46321",
   "metadata": {
    "tags": []
   },
   "outputs": [
    {
     "data": {
      "application/vnd.jupyter.widget-view+json": {
       "model_id": "",
       "version_major": 2,
       "version_minor": 0
      },
      "text/plain": [
       "FloatProgress(value=0.0, bar_style='info', description='Progress:', layout=Layout(height='25px', width='50%'),…"
      ]
     },
     "metadata": {},
     "output_type": "display_data"
    }
   ],
   "source": [
    "import time\n",
    "start_time = time.time()\n",
    "# Φόρτωση των δεδομένων από το Parquet αρχείο\n",
    "df_parquet = spark.read.parquet(s3_path)"
   ]
  },
  {
   "cell_type": "code",
   "execution_count": 7,
   "id": "5b064dad-6ba9-4492-aa2f-7e00f9bcd797",
   "metadata": {
    "tags": []
   },
   "outputs": [
    {
     "data": {
      "application/vnd.jupyter.widget-view+json": {
       "model_id": "",
       "version_major": 2,
       "version_minor": 0
      },
      "text/plain": [
       "FloatProgress(value=0.0, bar_style='info', description='Progress:', layout=Layout(height='25px', width='50%'),…"
      ]
     },
     "metadata": {},
     "output_type": "display_data"
    },
    {
     "name": "stdout",
     "output_type": "stream",
     "text": [
      "root\n",
      " |-- DR_NO: integer (nullable = true)\n",
      " |-- Date Rptd: string (nullable = true)\n",
      " |-- DATE OCC: string (nullable = true)\n",
      " |-- TIME OCC: integer (nullable = true)\n",
      " |-- AREA : integer (nullable = true)\n",
      " |-- AREA NAME: string (nullable = true)\n",
      " |-- Rpt Dist No: integer (nullable = true)\n",
      " |-- Part 1-2: integer (nullable = true)\n",
      " |-- Crm Cd: integer (nullable = true)\n",
      " |-- Crm Cd Desc: string (nullable = true)\n",
      " |-- Mocodes: string (nullable = true)\n",
      " |-- Vict Age: integer (nullable = true)\n",
      " |-- Vict Sex: string (nullable = true)\n",
      " |-- Vict Descent: string (nullable = true)\n",
      " |-- Premis Cd: integer (nullable = true)\n",
      " |-- Premis Desc: string (nullable = true)\n",
      " |-- Weapon Used Cd: integer (nullable = true)\n",
      " |-- Weapon Desc: string (nullable = true)\n",
      " |-- Status: string (nullable = true)\n",
      " |-- Status Desc: string (nullable = true)\n",
      " |-- Crm Cd 1: integer (nullable = true)\n",
      " |-- Crm Cd 2: integer (nullable = true)\n",
      " |-- Crm Cd 3: integer (nullable = true)\n",
      " |-- Crm Cd 4: integer (nullable = true)\n",
      " |-- LOCATION: string (nullable = true)\n",
      " |-- Cross Street: string (nullable = true)\n",
      " |-- LAT: double (nullable = true)\n",
      " |-- LON: double (nullable = true)"
     ]
    }
   ],
   "source": [
    "df_parquet.count()\n",
    "df_parquet.printSchema()"
   ]
  },
  {
   "cell_type": "code",
   "execution_count": 8,
   "id": "97d192b6-994e-4bd0-89c3-707ff926c638",
   "metadata": {},
   "outputs": [
    {
     "data": {
      "application/vnd.jupyter.widget-view+json": {
       "model_id": "",
       "version_major": 2,
       "version_minor": 0
      },
      "text/plain": [
       "FloatProgress(value=0.0, bar_style='info', description='Progress:', layout=Layout(height='25px', width='50%'),…"
      ]
     },
     "metadata": {},
     "output_type": "display_data"
    },
    {
     "name": "stdout",
     "output_type": "stream",
     "text": [
      "+-----------+\n",
      "|  AREA NAME|\n",
      "+-----------+\n",
      "|     Harbor|\n",
      "|N Hollywood|\n",
      "|   Van Nuys|\n",
      "|West Valley|\n",
      "|   Wilshire|\n",
      "|    Topanga|\n",
      "|   Foothill|\n",
      "| Devonshire|\n",
      "|    Pacific|\n",
      "|    Central|\n",
      "|    West LA|\n",
      "|  Northeast|\n",
      "|    Mission|\n",
      "|  Southeast|\n",
      "|    Olympic|\n",
      "|  Southwest|\n",
      "|    Rampart|\n",
      "|77th Street|\n",
      "|  Hollywood|\n",
      "|     Newton|\n",
      "+-----------+\n",
      "only showing top 20 rows"
     ]
    }
   ],
   "source": [
    "df_parquet.select('AREA NAME').distinct().show() "
   ]
  },
  {
   "cell_type": "code",
   "execution_count": 9,
   "id": "cd4d3a5a-fbb3-4a1a-81a9-618db086459a",
   "metadata": {},
   "outputs": [
    {
     "data": {
      "application/vnd.jupyter.widget-view+json": {
       "model_id": "",
       "version_major": 2,
       "version_minor": 0
      },
      "text/plain": [
       "FloatProgress(value=0.0, bar_style='info', description='Progress:', layout=Layout(height='25px', width='50%'),…"
      ]
     },
     "metadata": {},
     "output_type": "display_data"
    },
    {
     "name": "stdout",
     "output_type": "stream",
     "text": [
      "+------+------------+\n",
      "|Status| Status Desc|\n",
      "+------+------------+\n",
      "|    JA|  Juv Arrest|\n",
      "|    AA|Adult Arrest|\n",
      "|    JO|   Juv Other|\n",
      "|    AO| Adult Other|\n",
      "|    IC| Invest Cont|\n",
      "|    TH|         UNK|\n",
      "|    CC|         UNK|\n",
      "|  NULL|         UNK|\n",
      "|    19|         UNK|\n",
      "|    13|         UNK|\n",
      "+------+------------+"
     ]
    }
   ],
   "source": [
    "df_parquet.select('Status','Status Desc').distinct().show()"
   ]
  },
  {
   "cell_type": "code",
   "execution_count": 10,
   "id": "99ac4718-d6d4-4b6e-b26a-31414dee37b5",
   "metadata": {},
   "outputs": [
    {
     "data": {
      "application/vnd.jupyter.widget-view+json": {
       "model_id": "",
       "version_major": 2,
       "version_minor": 0
      },
      "text/plain": [
       "FloatProgress(value=0.0, bar_style='info', description='Progress:', layout=Layout(height='25px', width='50%'),…"
      ]
     },
     "metadata": {},
     "output_type": "display_data"
    }
   ],
   "source": [
    "from pyspark.sql.functions import year, to_date\n",
    "\n",
    "# Ensure legacy time parser is enabled (if required)\n",
    "spark.conf.set(\"spark.sql.legacy.timeParserPolicy\", \"LEGACY\")\n",
    "df_parquet = df_parquet.withColumn('Year', year(to_date('Date Rptd', 'MM/dd/yyyy hh:mm:ss a')))"
   ]
  },
  {
   "cell_type": "code",
   "execution_count": 11,
   "id": "0bece4a9-b1f4-4db3-8c06-1bf2acbce2e5",
   "metadata": {
    "tags": []
   },
   "outputs": [
    {
     "data": {
      "application/vnd.jupyter.widget-view+json": {
       "model_id": "",
       "version_major": 2,
       "version_minor": 0
      },
      "text/plain": [
       "FloatProgress(value=0.0, bar_style='info', description='Progress:', layout=Layout(height='25px', width='50%'),…"
      ]
     },
     "metadata": {},
     "output_type": "display_data"
    },
    {
     "name": "stdout",
     "output_type": "stream",
     "text": [
      "year   precinct             closed_case_rate     #    \n",
      "------------------------------------------------------------\n",
      "2010   Rampart              32.94736             1    \n",
      "2010   Olympic              31.96271             2    \n",
      "2010   Harbor               29.63203             3    \n",
      "2011   Olympic              35.21217             1    \n",
      "2011   Rampart              32.51178             2    \n",
      "2011   Harbor               28.65221             3    \n",
      "2012   Olympic              34.41482             1    \n",
      "2012   Rampart              32.94642             2    \n",
      "2012   Harbor               29.81513             3    \n",
      "2013   Olympic              33.52812             1    \n",
      "2013   Rampart              32.08287             2    \n",
      "2013   Harbor               29.16422             3    \n",
      "2014   Van Nuys             31.80567             1    \n",
      "2014   West Valley          31.31199             2    \n",
      "2014   Mission              31.16279             3    \n",
      "2015   Van Nuys             32.64135             1    \n",
      "2015   West Valley          30.27597             2    \n",
      "2015   Mission              30.17946             3    \n",
      "2016   Van Nuys             31.88076             1    \n",
      "2016   West Valley          31.54799             2    \n",
      "2016   Foothill             29.87029             3    \n",
      "2017   Van Nuys             32.02034             1    \n",
      "2017   Mission              31.03893             2    \n",
      "2017   Foothill             30.46923             3    \n",
      "2018   Foothill             30.70895             1    \n",
      "2018   Mission              30.69066             2    \n",
      "2018   Van Nuys             29.07869             3    \n",
      "2019   West Valley          30.77447             1    \n",
      "2019   Mission              30.74852             2    \n",
      "2019   Foothill             29.53842             3    \n",
      "2020   West Valley          31.14489             1    \n",
      "2020   Mission              30.38778             2    \n",
      "2020   Harbor               29.88066             3    \n",
      "2021   Mission              30.91391             1    \n",
      "2021   West Valley          28.87750             2    \n",
      "2021   Foothill             28.46479             3    \n",
      "2022   West Valley          26.64366             1    \n",
      "2022   Harbor               26.33406             2    \n",
      "2022   Topanga              26.27340             3    \n",
      "2023   Foothill             26.82160             1    \n",
      "2023   Topanga              26.40781             2    \n",
      "2023   Mission              25.94120             3    \n",
      "2024   N Hollywood          19.51498             1    \n",
      "2024   Foothill             18.53183             2    \n",
      "2024   77th Street          17.34914             3    \n",
      "Time parquet taken: 11.58 seconds"
     ]
    }
   ],
   "source": [
    "from pyspark.sql import functions as F\n",
    "\n",
    "# Υπολογισμός συνολικών περιπτώσεων και κλειστών περιπτώσεων ανά έτος και περιοχή\n",
    "aggregated_data = df_parquet.filter(\n",
    "    df_parquet['Status'].isin('JA', 'AA', 'JO', 'AO')\n",
    ").groupBy('Year', 'AREA NAME').agg(\n",
    "    F.count('*').alias('closed_cases')\n",
    ").join(\n",
    "    df_parquet.groupBy('Year', 'AREA NAME').agg(\n",
    "        F.count('*').alias('total_cases')\n",
    "    ),\n",
    "    on=['Year', 'AREA NAME']\n",
    ")\n",
    "\n",
    "# Υπολογισμός ποσοστού\n",
    "result = aggregated_data.withColumn(\n",
    "    'closed_case_rate',\n",
    "    (F.col('closed_cases') / F.col('total_cases') * 100)\n",
    ").select('Year', 'AREA NAME', 'closed_case_rate')\n",
    "\n",
    "# Υπολογισμός κατάταξης\n",
    "from pyspark.sql.window import Window\n",
    "window_spec = Window.partitionBy('Year').orderBy(F.col('closed_case_rate').desc())\n",
    "\n",
    "ranked_results = result.withColumn(\n",
    "    'rank',\n",
    "    F.rank().over(window_spec)\n",
    ").filter(F.col('rank') <= 3)\n",
    "\n",
    "# Συλλογή αποτελεσμάτων\n",
    "final_results = ranked_results.collect()\n",
    "\n",
    "# Εμφάνιση\n",
    "print(f\"{'year':<6} {'precinct':<20} {'closed_case_rate':<20} {'#':<5}\")\n",
    "print(\"-\" * 60)\n",
    "for row in final_results:\n",
    "    print(f\"{row['Year']:<6} {row['AREA NAME']:<20} {row['closed_case_rate']:<20.5f} {row['rank']:<5}\")\n",
    "\n",
    "end_time = time.time()\n",
    "elapsed_time = end_time - start_time\n",
    "print(f\"Time parquet taken: {elapsed_time:.2f} seconds\")\n"
   ]
  }
 ],
 "metadata": {
  "kernelspec": {
   "display_name": "Sparkmagic (PySpark)",
   "language": "python",
   "name": "pysparkkernel"
  },
  "language_info": {
   "codemirror_mode": {
    "name": "python",
    "version": 3
   },
   "file_extension": ".py",
   "mimetype": "text/x-python",
   "name": "pyspark",
   "pygments_lexer": "python3"
  }
 },
 "nbformat": 4,
 "nbformat_minor": 5
}
