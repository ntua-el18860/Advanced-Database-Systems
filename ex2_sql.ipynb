{
 "cells": [
  {
   "cell_type": "markdown",
   "id": "5b8b6cb3-c90a-4165-9a61-c722b12b3a9f",
   "metadata": {},
   "source": [
    "## SQL API - Query2"
   ]
  },
  {
   "cell_type": "code",
   "execution_count": 1,
   "id": "50a11be9-2af0-4ca6-853c-81501afa5abb",
   "metadata": {
    "tags": []
   },
   "outputs": [
    {
     "name": "stdout",
     "output_type": "stream",
     "text": [
      "Starting Spark application\n"
     ]
    },
    {
     "data": {
      "text/html": [
       "<table>\n",
       "<tr><th>ID</th><th>YARN Application ID</th><th>Kind</th><th>State</th><th>Spark UI</th><th>Driver log</th><th>User</th><th>Current session?</th></tr><tr><td>3466</td><td>application_1732639283265_3422</td><td>pyspark</td><td>idle</td><td><a target=\"_blank\" href=\"http://ip-192-168-1-36.eu-central-1.compute.internal:20888/proxy/application_1732639283265_3422/\">Link</a></td><td><a target=\"_blank\" href=\"http://ip-192-168-1-16.eu-central-1.compute.internal:8042/node/containerlogs/container_1732639283265_3422_01_000002/livy\">Link</a></td><td>None</td><td>✔</td></tr></table>"
      ],
      "text/plain": [
       "<IPython.core.display.HTML object>"
      ]
     },
     "metadata": {},
     "output_type": "display_data"
    },
    {
     "data": {
      "application/vnd.jupyter.widget-view+json": {
       "model_id": "",
       "version_major": 2,
       "version_minor": 0
      },
      "text/plain": [
       "FloatProgress(value=0.0, bar_style='info', description='Progress:', layout=Layout(height='25px', width='50%'),…"
      ]
     },
     "metadata": {},
     "output_type": "display_data"
    },
    {
     "name": "stdout",
     "output_type": "stream",
     "text": [
      "SparkSession available as 'spark'.\n"
     ]
    },
    {
     "data": {
      "application/vnd.jupyter.widget-view+json": {
       "model_id": "",
       "version_major": 2,
       "version_minor": 0
      },
      "text/plain": [
       "FloatProgress(value=0.0, bar_style='info', description='Progress:', layout=Layout(height='25px', width='50%'),…"
      ]
     },
     "metadata": {},
     "output_type": "display_data"
    }
   ],
   "source": [
    "#import spark\n",
    "from pyspark.sql import SparkSession\n",
    "from pyspark.sql.types import StructField, StructType, IntegerType, FloatType, StringType\n",
    "spark = SparkSession \\\n",
    "    .builder \\\n",
    "    .appName(\"Sql 2 execution\") \\\n",
    "    .getOrCreate()"
   ]
  },
  {
   "cell_type": "code",
   "execution_count": 2,
   "id": "8cf06665-c4c4-4c92-9b1d-faf8a68cea77",
   "metadata": {
    "tags": []
   },
   "outputs": [
    {
     "data": {
      "application/vnd.jupyter.widget-view+json": {
       "model_id": "",
       "version_major": 2,
       "version_minor": 0
      },
      "text/plain": [
       "FloatProgress(value=0.0, bar_style='info', description='Progress:', layout=Layout(height='25px', width='50%'),…"
      ]
     },
     "metadata": {},
     "output_type": "display_data"
    },
    {
     "name": "stdout",
     "output_type": "stream",
     "text": [
      "Schema of data_1\n",
      "root\n",
      " |-- DR_NO: string (nullable = true)\n",
      " |-- Date Rptd: string (nullable = true)\n",
      " |-- DATE OCC: string (nullable = true)\n",
      " |-- TIME OCC: string (nullable = true)\n",
      " |-- AREA : string (nullable = true)\n",
      " |-- AREA NAME: string (nullable = true)\n",
      " |-- Rpt Dist No: string (nullable = true)\n",
      " |-- Part 1-2: string (nullable = true)\n",
      " |-- Crm Cd: string (nullable = true)\n",
      " |-- Crm Cd Desc: string (nullable = true)\n",
      " |-- Mocodes: string (nullable = true)\n",
      " |-- Vict Age: string (nullable = true)\n",
      " |-- Vict Sex: string (nullable = true)\n",
      " |-- Vict Descent: string (nullable = true)\n",
      " |-- Premis Cd: string (nullable = true)\n",
      " |-- Premis Desc: string (nullable = true)\n",
      " |-- Weapon Used Cd: string (nullable = true)\n",
      " |-- Weapon Desc: string (nullable = true)\n",
      " |-- Status: string (nullable = true)\n",
      " |-- Status Desc: string (nullable = true)\n",
      " |-- Crm Cd 1: string (nullable = true)\n",
      " |-- Crm Cd 2: string (nullable = true)\n",
      " |-- Crm Cd 3: string (nullable = true)\n",
      " |-- Crm Cd 4: string (nullable = true)\n",
      " |-- LOCATION: string (nullable = true)\n",
      " |-- Cross Street: string (nullable = true)\n",
      " |-- LAT: string (nullable = true)\n",
      " |-- LON: string (nullable = true)\n",
      "\n",
      "Schema of data_2\n",
      "root\n",
      " |-- DR_NO: string (nullable = true)\n",
      " |-- Date Rptd: string (nullable = true)\n",
      " |-- DATE OCC: string (nullable = true)\n",
      " |-- TIME OCC: string (nullable = true)\n",
      " |-- AREA: string (nullable = true)\n",
      " |-- AREA NAME: string (nullable = true)\n",
      " |-- Rpt Dist No: string (nullable = true)\n",
      " |-- Part 1-2: string (nullable = true)\n",
      " |-- Crm Cd: string (nullable = true)\n",
      " |-- Crm Cd Desc: string (nullable = true)\n",
      " |-- Mocodes: string (nullable = true)\n",
      " |-- Vict Age: string (nullable = true)\n",
      " |-- Vict Sex: string (nullable = true)\n",
      " |-- Vict Descent: string (nullable = true)\n",
      " |-- Premis Cd: string (nullable = true)\n",
      " |-- Premis Desc: string (nullable = true)\n",
      " |-- Weapon Used Cd: string (nullable = true)\n",
      " |-- Weapon Desc: string (nullable = true)\n",
      " |-- Status: string (nullable = true)\n",
      " |-- Status Desc: string (nullable = true)\n",
      " |-- Crm Cd 1: string (nullable = true)\n",
      " |-- Crm Cd 2: string (nullable = true)\n",
      " |-- Crm Cd 3: string (nullable = true)\n",
      " |-- Crm Cd 4: string (nullable = true)\n",
      " |-- LOCATION: string (nullable = true)\n",
      " |-- Cross Street: string (nullable = true)\n",
      " |-- LAT: string (nullable = true)\n",
      " |-- LON: string (nullable = true)"
     ]
    }
   ],
   "source": [
    "#load csv files\n",
    "data = spark.read.csv(\n",
    "    \"s3://initial-notebook-data-bucket-dblab-905418150721/CrimeData/Crime_Data_from_2010_to_2019_20241101.csv\",\n",
    "    header='true'\n",
    ")\n",
    "data_2 = spark.read.csv(\n",
    "    \"s3://initial-notebook-data-bucket-dblab-905418150721/CrimeData/Crime_Data_from_2020_to_Present_20241101.csv\",\n",
    "    header='true'\n",
    ")\n",
    "print(\"Schema of data_1\")\n",
    "data.printSchema()\n",
    "\n",
    "print(\"Schema of data_2\")\n",
    "data_2.printSchema()\n"
   ]
  },
  {
   "cell_type": "code",
   "execution_count": 3,
   "id": "caf255dd-e7c9-4b9e-8233-4b81f71564f1",
   "metadata": {
    "tags": []
   },
   "outputs": [
    {
     "data": {
      "application/vnd.jupyter.widget-view+json": {
       "model_id": "",
       "version_major": 2,
       "version_minor": 0
      },
      "text/plain": [
       "FloatProgress(value=0.0, bar_style='info', description='Progress:', layout=Layout(height='25px', width='50%'),…"
      ]
     },
     "metadata": {},
     "output_type": "display_data"
    }
   ],
   "source": [
    "# Καταχώρηση ως προσωρινό view για χρήση SQL\n",
    "data.createOrReplaceTempView(\"data\")\n",
    "data_2.createOrReplaceTempView(\"data_2\")\n"
   ]
  },
  {
   "cell_type": "code",
   "execution_count": 4,
   "id": "54e39ede-6ea3-4836-8522-28448ec88363",
   "metadata": {
    "tags": []
   },
   "outputs": [
    {
     "data": {
      "application/vnd.jupyter.widget-view+json": {
       "model_id": "",
       "version_major": 2,
       "version_minor": 0
      },
      "text/plain": [
       "FloatProgress(value=0.0, bar_style='info', description='Progress:', layout=Layout(height='25px', width='50%'),…"
      ]
     },
     "metadata": {},
     "output_type": "display_data"
    },
    {
     "name": "stdout",
     "output_type": "stream",
     "text": [
      "Row(Status='JA', Status Desc='Juv Arrest')\n",
      "Row(Status='AA', Status Desc='Adult Arrest')\n",
      "Row(Status='JO', Status Desc='Juv Other')\n",
      "Row(Status='CC', Status Desc='UNK')\n",
      "Row(Status='AO', Status Desc='Adult Other')\n",
      "Row(Status=None, Status Desc='UNK')\n",
      "Row(Status='IC', Status Desc='Invest Cont')\n",
      "Row(Status='13', Status Desc='UNK')\n",
      "Row(Status='TH', Status Desc='UNK')\n",
      "Row(Status='19', Status Desc='UNK')"
     ]
    }
   ],
   "source": [
    "# Find all unique statuses of crimes\n",
    "id_query = \"\"\"\n",
    "    SELECT DISTINCT Status, `Status Desc`\n",
    "    FROM data\n",
    "\"\"\"\n",
    "choices_data = spark.sql(id_query)\n",
    "for row in choices_data.collect():\n",
    "    print(row)\n"
   ]
  },
  {
   "cell_type": "code",
   "execution_count": 5,
   "id": "f3187ca6-c0cc-4197-8c4c-768c0806b3f5",
   "metadata": {
    "tags": []
   },
   "outputs": [
    {
     "data": {
      "application/vnd.jupyter.widget-view+json": {
       "model_id": "",
       "version_major": 2,
       "version_minor": 0
      },
      "text/plain": [
       "FloatProgress(value=0.0, bar_style='info', description='Progress:', layout=Layout(height='25px', width='50%'),…"
      ]
     },
     "metadata": {},
     "output_type": "display_data"
    },
    {
     "name": "stdout",
     "output_type": "stream",
     "text": [
      "Row(Status='JA', Status Desc='Juv Arrest')\n",
      "Row(Status='AA', Status Desc='Adult Arrest')\n",
      "Row(Status='JO', Status Desc='Juv Other')\n",
      "Row(Status='CC', Status Desc='UNK')\n",
      "Row(Status='AO', Status Desc='Adult Other')\n",
      "Row(Status='IC', Status Desc='Invest Cont')\n",
      "Row(Status=None, Status Desc='UNK')"
     ]
    }
   ],
   "source": [
    "# Find all unique statuses of crimes\n",
    "id_query = \"\"\"\n",
    "    SELECT DISTINCT Status, `Status Desc`\n",
    "    FROM data_2\n",
    "\"\"\"\n",
    "choices_data = spark.sql(id_query)\n",
    "for row in choices_data.collect():\n",
    "    print(row)\n"
   ]
  },
  {
   "cell_type": "code",
   "execution_count": 6,
   "id": "865e0142-8434-4610-84e6-2fe897d6b29c",
   "metadata": {
    "tags": []
   },
   "outputs": [
    {
     "data": {
      "application/vnd.jupyter.widget-view+json": {
       "model_id": "",
       "version_major": 2,
       "version_minor": 0
      },
      "text/plain": [
       "FloatProgress(value=0.0, bar_style='info', description='Progress:', layout=Layout(height='25px', width='50%'),…"
      ]
     },
     "metadata": {},
     "output_type": "display_data"
    },
    {
     "name": "stdout",
     "output_type": "stream",
     "text": [
      "Row(AREA ='09', AREA NAME='Van Nuys')\n",
      "Row(AREA ='17', AREA NAME='Devonshire')\n",
      "Row(AREA ='11', AREA NAME='Northeast')\n",
      "Row(AREA ='05', AREA NAME='Harbor')\n",
      "Row(AREA ='03', AREA NAME='Southwest')\n",
      "Row(AREA ='08', AREA NAME='West LA')\n",
      "Row(AREA ='06', AREA NAME='Hollywood')\n",
      "Row(AREA ='13', AREA NAME='Newton')\n",
      "Row(AREA ='21', AREA NAME='Topanga')\n",
      "Row(AREA ='01', AREA NAME='Central')\n",
      "Row(AREA ='15', AREA NAME='N Hollywood')\n",
      "Row(AREA ='04', AREA NAME='Hollenbeck')\n",
      "Row(AREA ='12', AREA NAME='77th Street')\n",
      "Row(AREA ='20', AREA NAME='Olympic')\n",
      "Row(AREA ='02', AREA NAME='Rampart')\n",
      "Row(AREA ='19', AREA NAME='Mission')\n",
      "Row(AREA ='10', AREA NAME='West Valley')\n",
      "Row(AREA ='07', AREA NAME='Wilshire')\n",
      "Row(AREA ='18', AREA NAME='Southeast')\n",
      "Row(AREA ='14', AREA NAME='Pacific')\n",
      "Row(AREA ='16', AREA NAME='Foothill')"
     ]
    }
   ],
   "source": [
    "# Find all unique statuses of crimes\n",
    "id_query = \"\"\"\n",
    "    SELECT DISTINCT `AREA `, `AREA NAME`\n",
    "    FROM data\n",
    "\"\"\"\n",
    "choices_data = spark.sql(id_query)\n",
    "for row in choices_data.collect():\n",
    "    print(row)\n"
   ]
  },
  {
   "cell_type": "code",
   "execution_count": 7,
   "id": "a01215ec-860a-48e3-86b7-953fb6b83e8e",
   "metadata": {
    "tags": []
   },
   "outputs": [
    {
     "data": {
      "application/vnd.jupyter.widget-view+json": {
       "model_id": "",
       "version_major": 2,
       "version_minor": 0
      },
      "text/plain": [
       "FloatProgress(value=0.0, bar_style='info', description='Progress:', layout=Layout(height='25px', width='50%'),…"
      ]
     },
     "metadata": {},
     "output_type": "display_data"
    },
    {
     "name": "stdout",
     "output_type": "stream",
     "text": [
      "Row(AREA='09', AREA NAME='Van Nuys')\n",
      "Row(AREA='17', AREA NAME='Devonshire')\n",
      "Row(AREA='11', AREA NAME='Northeast')\n",
      "Row(AREA='05', AREA NAME='Harbor')\n",
      "Row(AREA='03', AREA NAME='Southwest')\n",
      "Row(AREA='08', AREA NAME='West LA')\n",
      "Row(AREA='06', AREA NAME='Hollywood')\n",
      "Row(AREA='13', AREA NAME='Newton')\n",
      "Row(AREA='21', AREA NAME='Topanga')\n",
      "Row(AREA='01', AREA NAME='Central')\n",
      "Row(AREA='15', AREA NAME='N Hollywood')\n",
      "Row(AREA='04', AREA NAME='Hollenbeck')\n",
      "Row(AREA='12', AREA NAME='77th Street')\n",
      "Row(AREA='20', AREA NAME='Olympic')\n",
      "Row(AREA='02', AREA NAME='Rampart')\n",
      "Row(AREA='19', AREA NAME='Mission')\n",
      "Row(AREA='10', AREA NAME='West Valley')\n",
      "Row(AREA='07', AREA NAME='Wilshire')\n",
      "Row(AREA='18', AREA NAME='Southeast')\n",
      "Row(AREA='14', AREA NAME='Pacific')\n",
      "Row(AREA='16', AREA NAME='Foothill')"
     ]
    }
   ],
   "source": [
    "# Find all unique statuses of crimes\n",
    "id_query = \"\"\"\n",
    "    SELECT DISTINCT AREA, `AREA NAME`\n",
    "    FROM data_2\n",
    "\"\"\"\n",
    "choices_data = spark.sql(id_query)\n",
    "for row in choices_data.collect():\n",
    "    print(row)\n"
   ]
  },
  {
   "cell_type": "code",
   "execution_count": 8,
   "id": "16250d6a-2ef5-4dbf-8334-0b390e98168a",
   "metadata": {
    "tags": []
   },
   "outputs": [
    {
     "data": {
      "application/vnd.jupyter.widget-view+json": {
       "model_id": "",
       "version_major": 2,
       "version_minor": 0
      },
      "text/plain": [
       "FloatProgress(value=0.0, bar_style='info', description='Progress:', layout=Layout(height='25px', width='50%'),…"
      ]
     },
     "metadata": {},
     "output_type": "display_data"
    },
    {
     "name": "stdout",
     "output_type": "stream",
     "text": [
      "+----+-----------+-----------------+----+\n",
      "|year|precinct   |closed_case_rate |rank|\n",
      "+----+-----------+-----------------+----+\n",
      "|2010|Rampart    |32.94735585531813|1   |\n",
      "|2010|Olympic    |31.96270619172842|2   |\n",
      "|2010|Harbor     |29.63203463203463|3   |\n",
      "|2011|Olympic    |35.21216768916155|1   |\n",
      "|2011|Rampart    |32.51177963030083|2   |\n",
      "|2011|Harbor     |28.65220520201501|3   |\n",
      "|2012|Olympic    |34.41481831052383|1   |\n",
      "|2012|Rampart    |32.94641810294290|2   |\n",
      "|2012|Harbor     |29.81513327601032|3   |\n",
      "|2013|Olympic    |33.52812271731191|1   |\n",
      "|2013|Rampart    |32.08287360549222|2   |\n",
      "|2013|Harbor     |29.16422459266206|3   |\n",
      "|2014|Van Nuys   |31.80567315834039|1   |\n",
      "|2014|West Valley|31.31198995605775|2   |\n",
      "|2014|Mission    |31.16279069767442|3   |\n",
      "|2015|Van Nuys   |32.64134698172773|1   |\n",
      "|2015|West Valley|30.27597402597403|2   |\n",
      "|2015|Mission    |30.17946067838016|3   |\n",
      "|2016|Van Nuys   |31.88075572011773|1   |\n",
      "|2016|West Valley|31.54798761609907|2   |\n",
      "|2016|Foothill   |29.87029184335246|3   |\n",
      "|2017|Van Nuys   |32.02034211742950|1   |\n",
      "|2017|Mission    |31.03892518634398|2   |\n",
      "|2017|Foothill   |30.46922608165753|3   |\n",
      "|2018|Foothill   |30.70895065507530|1   |\n",
      "|2018|Mission    |30.69066147859922|2   |\n",
      "|2018|Van Nuys   |29.07868573051794|3   |\n",
      "|2019|West Valley|30.77447195094254|1   |\n",
      "|2019|Mission    |30.74851911685514|2   |\n",
      "|2019|Foothill   |29.53842186694172|3   |\n",
      "|2020|West Valley|31.31156039398652|1   |\n",
      "|2020|Mission    |30.16882799119158|2   |\n",
      "|2020|Harbor     |30.11040092969204|3   |\n",
      "|2021|Mission    |30.62377210216110|1   |\n",
      "|2021|West Valley|28.81677128982589|2   |\n",
      "|2021|Foothill   |28.31351196446482|3   |\n",
      "|2022|West Valley|26.66407917717834|1   |\n",
      "|2022|Harbor     |26.30313626926019|2   |\n",
      "|2022|Topanga    |26.21687255833597|3   |\n",
      "|2023|Foothill   |26.80668785408318|1   |\n",
      "|2023|Topanga    |26.48504711183941|2   |\n",
      "|2023|Mission    |25.81423401688782|3   |\n",
      "|2024|N Hollywood|19.60671738194345|1   |\n",
      "|2024|Foothill   |18.44836533471718|2   |\n",
      "|2024|77th Street|17.40947075208914|3   |\n",
      "+----+-----------+-----------------+----+\n",
      "\n",
      "Time taken: 15.49 seconds"
     ]
    }
   ],
   "source": [
    "import time\n",
    "\n",
    "# Ρύθμιση πολιτικής Spark\n",
    "spark.conf.set(\"spark.sql.legacy.timeParserPolicy\", \"LEGACY\")\n",
    "\n",
    "# Χρονική μέτρηση\n",
    "start_time = time.time()\n",
    "\n",
    "# SQL Query\n",
    "query = \"\"\"\n",
    "    WITH year_area_stats AS (\n",
    "        SELECT \n",
    "            YEAR(TO_TIMESTAMP(`Date Rptd`, 'MM/dd/yyyy hh:mm:ss a')) AS year,\n",
    "            `AREA NAME` AS precinct,\n",
    "            COUNT(*) AS total_cases,\n",
    "            SUM(CASE \n",
    "                WHEN `Status Desc` IN ('Invest Cont', 'UNK') THEN 1 \n",
    "                ELSE 0 \n",
    "            END) AS open_cases,\n",
    "            SUM(CASE \n",
    "                WHEN `Status Desc` NOT IN ('Invest Cont', 'UNK') THEN 1 \n",
    "                ELSE 0 \n",
    "            END) AS closed_cases\n",
    "        FROM data\n",
    "        WHERE YEAR(TO_TIMESTAMP(`Date Rptd`, 'MM/dd/yyyy hh:mm:ss a')) BETWEEN 2010 AND 2019\n",
    "        GROUP BY YEAR(TO_TIMESTAMP(`Date Rptd`, 'MM/dd/yyyy hh:mm:ss a')), `AREA NAME`\n",
    "    ),\n",
    "    closed_case_rate_calc AS (\n",
    "        SELECT \n",
    "            year,\n",
    "            precinct,\n",
    "            (closed_cases * 100.0 / total_cases) AS closed_case_rate\n",
    "        FROM year_area_stats\n",
    "    ),\n",
    "    ranked_precincts AS (\n",
    "        SELECT \n",
    "            year,\n",
    "            precinct,\n",
    "            closed_case_rate,\n",
    "            RANK() OVER (PARTITION BY year ORDER BY closed_case_rate DESC) AS rank\n",
    "        FROM closed_case_rate_calc\n",
    "    )\n",
    "    SELECT \n",
    "        year,\n",
    "        precinct,\n",
    "        closed_case_rate,\n",
    "        rank\n",
    "    FROM ranked_precincts\n",
    "    WHERE rank <= 3\n",
    "    ORDER BY year, rank\n",
    "\"\"\"\n",
    "\n",
    "query_2 = \"\"\"\n",
    "    WITH year_area_stats AS (\n",
    "        SELECT \n",
    "            YEAR(TO_TIMESTAMP(`Date Rptd`, 'MM/dd/yyyy hh:mm:ss a')) AS year,\n",
    "            `AREA NAME` AS precinct,\n",
    "            COUNT(*) AS total_cases,\n",
    "            SUM(CASE \n",
    "                WHEN `Status Desc` IN ('Invest Cont', 'UNK') THEN 1 \n",
    "                ELSE 0 \n",
    "            END) AS open_cases,\n",
    "            SUM(CASE \n",
    "                WHEN `Status Desc` NOT IN ('Invest Cont', 'UNK') THEN 1 \n",
    "                ELSE 0 \n",
    "            END) AS closed_cases\n",
    "        FROM data_2\n",
    "        WHERE YEAR(TO_TIMESTAMP(`Date Rptd`, 'MM/dd/yyyy hh:mm:ss a')) BETWEEN 2020 AND 2024\n",
    "        GROUP BY YEAR(TO_TIMESTAMP(`Date Rptd`, 'MM/dd/yyyy hh:mm:ss a')), `AREA NAME`\n",
    "    ),\n",
    "    closed_case_rate_calc AS (\n",
    "        SELECT \n",
    "            year,\n",
    "            precinct,\n",
    "            (closed_cases * 100.0 / total_cases) AS closed_case_rate\n",
    "        FROM year_area_stats\n",
    "    ),\n",
    "    ranked_precincts AS (\n",
    "        SELECT \n",
    "            year,\n",
    "            precinct,\n",
    "            closed_case_rate,\n",
    "            RANK() OVER (PARTITION BY year ORDER BY closed_case_rate DESC) AS rank\n",
    "        FROM closed_case_rate_calc\n",
    "    )\n",
    "    SELECT \n",
    "        year,\n",
    "        precinct,\n",
    "        closed_case_rate,\n",
    "        rank\n",
    "    FROM ranked_precincts\n",
    "    WHERE rank <= 3\n",
    "    ORDER BY year, rank\n",
    "\"\"\"\n",
    "\n",
    "\n",
    "# Εκτέλεση του query\n",
    "result = spark.sql(query)\n",
    "result_2 = spark.sql(query_2)\n",
    "\n",
    "# Συνένωση των αποτελεσμάτων\n",
    "combined_results = result.union(result_2)\n",
    "\n",
    "# Προβολή όλων των αποτελεσμάτων\n",
    "combined_results.show(n=50, truncate=False)  \n",
    "\n",
    "end_time = time.time()\n",
    "elapsed_time = end_time - start_time\n",
    "print(f\"Time taken: {elapsed_time:.2f} seconds\")\n"
   ]
  }
 ],
 "metadata": {
  "kernelspec": {
   "display_name": "Sparkmagic (PySpark)",
   "language": "python",
   "name": "pysparkkernel"
  },
  "language_info": {
   "codemirror_mode": {
    "name": "python",
    "version": 3
   },
   "file_extension": ".py",
   "mimetype": "text/x-python",
   "name": "pyspark",
   "pygments_lexer": "python3"
  }
 },
 "nbformat": 4,
 "nbformat_minor": 5
}
