{
 "cells": [
  {
   "cell_type": "markdown",
   "id": "71b7961e-1767-44da-8796-198cc28d1dfe",
   "metadata": {},
   "source": [
    "# DataFrame - LA - Query_3"
   ]
  },
  {
   "cell_type": "markdown",
   "id": "6aeeadd8-9ee0-44f9-bb14-cddd47fe5bc0",
   "metadata": {},
   "source": [
    "## Import Data from csv files"
   ]
  },
  {
   "cell_type": "code",
   "execution_count": 1,
   "id": "6b335992-32e3-4e9d-b15c-9b337ee90f01",
   "metadata": {
    "tags": []
   },
   "outputs": [
    {
     "name": "stdout",
     "output_type": "stream",
     "text": [
      "Starting Spark application\n"
     ]
    },
    {
     "data": {
      "text/html": [
       "<table>\n",
       "<tr><th>ID</th><th>YARN Application ID</th><th>Kind</th><th>State</th><th>Spark UI</th><th>Driver log</th><th>User</th><th>Current session?</th></tr><tr><td>3478</td><td>application_1732639283265_3434</td><td>pyspark</td><td>idle</td><td><a target=\"_blank\" href=\"http://ip-192-168-1-36.eu-central-1.compute.internal:20888/proxy/application_1732639283265_3434/\">Link</a></td><td><a target=\"_blank\" href=\"http://ip-192-168-1-174.eu-central-1.compute.internal:8042/node/containerlogs/container_1732639283265_3434_01_000001/livy\">Link</a></td><td>None</td><td>✔</td></tr></table>"
      ],
      "text/plain": [
       "<IPython.core.display.HTML object>"
      ]
     },
     "metadata": {},
     "output_type": "display_data"
    },
    {
     "data": {
      "application/vnd.jupyter.widget-view+json": {
       "model_id": "",
       "version_major": 2,
       "version_minor": 0
      },
      "text/plain": [
       "FloatProgress(value=0.0, bar_style='info', description='Progress:', layout=Layout(height='25px', width='50%'),…"
      ]
     },
     "metadata": {},
     "output_type": "display_data"
    },
    {
     "name": "stdout",
     "output_type": "stream",
     "text": [
      "SparkSession available as 'spark'.\n"
     ]
    },
    {
     "data": {
      "application/vnd.jupyter.widget-view+json": {
       "model_id": "",
       "version_major": 2,
       "version_minor": 0
      },
      "text/plain": [
       "FloatProgress(value=0.0, bar_style='info', description='Progress:', layout=Layout(height='25px', width='50%'),…"
      ]
     },
     "metadata": {},
     "output_type": "display_data"
    },
    {
     "name": "stdout",
     "output_type": "stream",
     "text": [
      "root\n",
      " |-- BG10: string (nullable = true)\n",
      " |-- BG10FIP10: string (nullable = true)\n",
      " |-- BG12: string (nullable = true)\n",
      " |-- CB10: string (nullable = true)\n",
      " |-- CEN_FIP13: string (nullable = true)\n",
      " |-- CITY: string (nullable = true)\n",
      " |-- CITYCOM: string (nullable = true)\n",
      " |-- COMM: string (nullable = true)\n",
      " |-- CT10: string (nullable = true)\n",
      " |-- CT12: string (nullable = true)\n",
      " |-- CTCB10: string (nullable = true)\n",
      " |-- HD_2012: long (nullable = true)\n",
      " |-- HD_NAME: string (nullable = true)\n",
      " |-- HOUSING10: long (nullable = true)\n",
      " |-- LA_FIP10: string (nullable = true)\n",
      " |-- OBJECTID: long (nullable = true)\n",
      " |-- POP_2010: long (nullable = true)\n",
      " |-- PUMA10: string (nullable = true)\n",
      " |-- SPA_2012: long (nullable = true)\n",
      " |-- SPA_NAME: string (nullable = true)\n",
      " |-- SUP_DIST: string (nullable = true)\n",
      " |-- SUP_LABEL: string (nullable = true)\n",
      " |-- ShapeSTArea: double (nullable = true)\n",
      " |-- ShapeSTLength: double (nullable = true)\n",
      " |-- ZCTA10: string (nullable = true)\n",
      " |-- geometry: geometry (nullable = true)"
     ]
    }
   ],
   "source": [
    "from sedona.spark import *\n",
    "from pyspark.sql.functions import col\n",
    "from pyspark.sql import SparkSession\n",
    "from pyspark.sql.functions import sum as _sum\n",
    "from pyspark.sql import SparkSession\n",
    "\n",
    "spark = SparkSession.builder \\\n",
    "    .appName(\"GeoJSON read\") \\\n",
    "    .getOrCreate()\n",
    "\n",
    "# Create sedona context\n",
    "sedona = SedonaContext.create(spark)\n",
    "# Read the file from s3\n",
    "geojson_path = \"s3://initial-notebook-data-bucket-dblab-905418150721/2010_Census_Blocks.geojson\"\n",
    "blocks_df = sedona.read.format(\"geojson\") \\\n",
    "            .option(\"multiLine\", \"true\").load(geojson_path) \\\n",
    "            .selectExpr(\"explode(features) as features\") \\\n",
    "            .select(\"features.*\")\n",
    "# Formatting magic\n",
    "flattened_df = blocks_df.select( \\\n",
    "                [col(f\"properties.{col_name}\").alias(col_name) for col_name in \\\n",
    "                blocks_df.schema[\"properties\"].dataType.fieldNames()] + [\"geometry\"]) \\\n",
    "            .drop(\"properties\") \\\n",
    "            .drop(\"type\")\n",
    "# Print schema\n",
    "flattened_df.printSchema()\n"
   ]
  },
  {
   "cell_type": "code",
   "execution_count": 2,
   "id": "ea3f8a6b-9d5e-40fd-a042-10db936837db",
   "metadata": {
    "tags": []
   },
   "outputs": [
    {
     "data": {
      "application/vnd.jupyter.widget-view+json": {
       "model_id": "",
       "version_major": 2,
       "version_minor": 0
      },
      "text/plain": [
       "FloatProgress(value=0.0, bar_style='info', description='Progress:', layout=Layout(height='25px', width='50%'),…"
      ]
     },
     "metadata": {},
     "output_type": "display_data"
    },
    {
     "name": "stdout",
     "output_type": "stream",
     "text": [
      "root\n",
      " |-- DR_NO: integer (nullable = true)\n",
      " |-- Date Rptd: string (nullable = true)\n",
      " |-- DATE OCC: string (nullable = true)\n",
      " |-- TIME OCC: integer (nullable = true)\n",
      " |-- AREA : integer (nullable = true)\n",
      " |-- AREA NAME: string (nullable = true)\n",
      " |-- Rpt Dist No: integer (nullable = true)\n",
      " |-- Part 1-2: integer (nullable = true)\n",
      " |-- Crm Cd: integer (nullable = true)\n",
      " |-- Crm Cd Desc: string (nullable = true)\n",
      " |-- Mocodes: string (nullable = true)\n",
      " |-- Vict Age: integer (nullable = true)\n",
      " |-- Vict Sex: string (nullable = true)\n",
      " |-- Vict Descent: string (nullable = true)\n",
      " |-- Premis Cd: integer (nullable = true)\n",
      " |-- Premis Desc: string (nullable = true)\n",
      " |-- Weapon Used Cd: integer (nullable = true)\n",
      " |-- Weapon Desc: string (nullable = true)\n",
      " |-- Status: string (nullable = true)\n",
      " |-- Status Desc: string (nullable = true)\n",
      " |-- Crm Cd 1: integer (nullable = true)\n",
      " |-- Crm Cd 2: integer (nullable = true)\n",
      " |-- Crm Cd 3: integer (nullable = true)\n",
      " |-- Crm Cd 4: integer (nullable = true)\n",
      " |-- LOCATION: string (nullable = true)\n",
      " |-- Cross Street: string (nullable = true)\n",
      " |-- LAT: double (nullable = true)\n",
      " |-- LON: double (nullable = true)"
     ]
    }
   ],
   "source": [
    "#load data from crimes\n",
    "data_path = 's3://initial-notebook-data-bucket-dblab-905418150721/CrimeData/Crime_Data_from_2010_to_2019_20241101.csv'\n",
    "\n",
    "df = spark.read.csv(data_path, header=True, inferSchema=True)\n",
    "\n",
    "data2_path = 's3://initial-notebook-data-bucket-dblab-905418150721/CrimeData/Crime_Data_from_2020_to_Present_20241101.csv'\n",
    "df2 = spark.read.csv(data2_path,header = True, inferSchema = True)\n",
    "\n",
    "df_combined = df.union(df2)\n",
    "df_combined.columns\n",
    "df_combined.count()\n",
    "df_combined.printSchema()\n",
    "\n"
   ]
  },
  {
   "cell_type": "code",
   "execution_count": 3,
   "id": "1a771c8a-d191-4df0-9c8e-d29ee7fb875f",
   "metadata": {
    "tags": []
   },
   "outputs": [
    {
     "data": {
      "application/vnd.jupyter.widget-view+json": {
       "model_id": "",
       "version_major": 2,
       "version_minor": 0
      },
      "text/plain": [
       "FloatProgress(value=0.0, bar_style='info', description='Progress:', layout=Layout(height='25px', width='50%'),…"
      ]
     },
     "metadata": {},
     "output_type": "display_data"
    },
    {
     "name": "stdout",
     "output_type": "stream",
     "text": [
      "root\n",
      " |-- Zip Code: integer (nullable = true)\n",
      " |-- Community: string (nullable = true)\n",
      " |-- Estimated Median Income: string (nullable = true)"
     ]
    }
   ],
   "source": [
    "#load data from LA income\n",
    "data3_path = 's3://initial-notebook-data-bucket-dblab-905418150721/LA_income_2015.csv'\n",
    "df3 = spark.read.csv(data3_path,header = True, inferSchema = True)\n",
    "df3.columns\n",
    "df3.count()\n",
    "df3.printSchema()"
   ]
  },
  {
   "cell_type": "markdown",
   "id": "add660ff-c666-436c-8dd8-55d70c1a81f8",
   "metadata": {},
   "source": [
    "## The average annual income per person for each area of Los Angeles "
   ]
  },
  {
   "cell_type": "code",
   "execution_count": 4,
   "id": "408c372c-0fea-47f8-8263-7f1b8fc8b9b9",
   "metadata": {
    "tags": []
   },
   "outputs": [
    {
     "data": {
      "application/vnd.jupyter.widget-view+json": {
       "model_id": "",
       "version_major": 2,
       "version_minor": 0
      },
      "text/plain": [
       "FloatProgress(value=0.0, bar_style='info', description='Progress:', layout=Layout(height='25px', width='50%'),…"
      ]
     },
     "metadata": {},
     "output_type": "display_data"
    },
    {
     "name": "stdout",
     "output_type": "stream",
     "text": [
      "+--------------------+----------------+----------------+-------------------------------------+---------------------+\n",
      "|Community           |Total Population|Total Households|Estimated Median Income per Household|Income per Individual|\n",
      "+--------------------+----------------+----------------+-------------------------------------+---------------------+\n",
      "|Culver City         |77766           |34982           |$75,913.50                           |$34,148.68           |\n",
      "|Pico Rivera         |62942           |17109           |$55,758.00                           |$15,156.23           |\n",
      "|Malibu              |12645           |6864            |$123,681.00                          |$67,136.92           |\n",
      "|Hacienda Heights    |53594           |16524           |$78,000.00                           |$24,048.81           |\n",
      "|Montebello          |62500           |19768           |$45,898.00                           |$14,516.99           |\n",
      "|Hawaiian Gardens    |14254           |3703            |$37,543.00                           |$9,753.17            |\n",
      "|Westlake Village    |16540           |6768            |$104,382.50                          |$42,712.26           |\n",
      "|Carson              |183428          |52452           |$74,351.50                           |$21,261.12           |\n",
      "|Glendale            |1150314         |457614          |$66,520.33                           |$26,462.89           |\n",
      "|Signal Hill         |11016           |4389            |$65,935.00                           |$26,269.85           |\n",
      "|Glendora            |101388          |35964           |$76,010.00                           |$26,962.00           |\n",
      "|Gardena             |176487          |64416           |$49,137.67                           |$17,934.76           |\n",
      "|Claremont           |35348           |12306           |$89,161.00                           |$31,040.38           |\n",
      "|Norwalk             |105549          |28083           |$59,756.00                           |$15,899.04           |\n",
      "|Monterey Park       |120538          |41700           |$53,341.50                           |$18,453.44           |\n",
      "|Beverly Hills       |102327          |49182           |$102,447.00                          |$49,239.68           |\n",
      "|Paramount           |54098           |14571           |$45,792.00                           |$12,333.82           |\n",
      "|La Cañada Flintridge|20246           |7089            |$156,933.00                          |$54,949.03           |\n",
      "|Altadena            |42777           |15947           |$86,310.00                           |$32,175.83           |\n",
      "|Ladera Heights      |6498            |2867            |$84,099.00                           |$37,105.55           |\n",
      "|La Mirada           |48527           |15092           |$78,373.00                           |$24,374.17           |\n",
      "|Artesia             |16522           |4697            |$60,749.00                           |$17,270.19           |\n",
      "|Santa Monica        |269208          |152736          |$93,137.33                           |$52,841.76           |\n",
      "|South Gate          |94396           |24160           |$43,552.00                           |$11,146.83           |\n",
      "|San Marino          |13147           |4477            |$134,286.00                          |$45,728.94           |\n",
      "|Hermosa Beach       |19506           |10162           |$111,187.00                          |$57,924.86           |\n",
      "|Acton               |8134            |3075            |$86,944.00                           |$32,868.55           |\n",
      "|East Los Angeles    |126492          |32199           |$37,916.00                           |$9,651.66            |\n",
      "|Diamond Bar         |55544           |18455           |$90,522.00                           |$30,076.76           |\n",
      "|Alhambra            |166178          |61830           |$54,360.50                           |$20,225.96           |\n",
      "|Torrance            |581752          |233508          |$74,483.75                           |$29,896.85           |\n",
      "|San Gabriel         |79436           |26474           |$61,311.00                           |$20,433.40           |\n",
      "|Covina              |128078          |42082           |$63,711.50                           |$20,933.39           |\n",
      "|Temple City         |35558           |12117           |$63,410.00                           |$21,608.05           |\n",
      "|Sierra Madre        |10917           |5113            |$92,384.00                           |$43,268.24           |\n",
      "|Lomita              |20256           |8412            |$56,103.00                           |$23,298.70           |\n",
      "|Bellflower          |76616           |24897           |$48,823.00                           |$15,865.44           |\n",
      "|Rosemead            |53764           |14805           |$46,729.00                           |$12,867.77           |\n",
      "|Cerritos            |49587           |16003           |$89,720.00                           |$28,954.95           |\n",
      "|Monrovia            |40446           |15681           |$70,307.00                           |$27,258.17           |\n",
      "|El Monte            |227226          |58224           |$38,070.00                           |$9,754.99            |\n",
      "|Bradbury            |1292            |592             |$90,000.00                           |$41,238.39           |\n",
      "|Pomona              |302012          |81800           |$47,705.00                           |$12,920.91           |\n",
      "|Whittier            |177744          |61738           |$68,485.50                           |$23,787.91           |\n",
      "|Lynwood             |69772           |15277           |$43,231.00                           |$9,465.69            |\n",
      "|Arcadia             |127866          |46792           |$77,771.50                           |$28,460.14           |\n",
      "|Burbank             |413360          |177236          |$62,016.75                           |$26,590.87           |\n",
      "|San Dimas           |33371           |12506           |$77,742.00                           |$29,134.32           |\n",
      "|La Habra Heights    |5992            |2095            |$67,797.00                           |$23,704.06           |\n",
      "|Pasadena            |822732          |357306          |$76,752.50                           |$33,333.00           |\n",
      "|Manhattan Beach     |35135           |14929           |$143,527.00                          |$60,985.19           |\n",
      "|Inglewood           |438692          |153716          |$46,038.50                           |$16,131.71           |\n",
      "|Lakewood            |240489          |82500           |$76,765.67                           |$26,334.54           |\n",
      "|Lawndale            |32769           |10151           |$51,648.00                           |$15,999.23           |\n",
      "|Lancaster           |156633          |51835           |$35,434.00                           |$11,726.27           |\n",
      "|Long Beach          |2782002         |1059456         |$57,920.33                           |$22,057.51           |\n",
      "|South Pasadena      |25619           |11118           |$79,089.00                           |$34,322.63           |\n",
      "|Stevenson Ranch     |19938           |6780            |$114,610.00                          |$38,973.61           |\n",
      "|La Verne            |33224           |12343           |$75,635.00                           |$28,099.05           |\n",
      "|Palmdale            |153458          |46786           |$54,132.00                           |$16,503.67           |\n",
      "|West Covina         |318294          |98115           |$69,635.00                           |$21,465.18           |\n",
      "|Santa Fe Springs    |16223           |4976            |$54,674.00                           |$16,769.88           |\n",
      "|Downey              |335316          |106803          |$64,316.00                           |$20,485.58           |\n",
      "|El Segundo          |16654           |7410            |$85,727.00                           |$38,143.21           |\n",
      "+--------------------+----------------+----------------+-------------------------------------+---------------------+"
     ]
    }
   ],
   "source": [
    "from pyspark.sql import functions as F\n",
    "\n",
    "# Join με την βάση df3\n",
    "joined_df = flattened_df.join(df3, flattened_df[\"COMM\"] == df3[\"Community\"], \"inner\")\n",
    "\n",
    "# Καθαρισμός της στήλης \"Estimated Median Income\"\n",
    "joined_df = joined_df.withColumn(\n",
    "    \"Cleaned Estimated Median Income\",\n",
    "    F.regexp_replace(F.col(\"Estimated Median Income\"), \"[$,]\", \"\").cast(\"double\")\n",
    ")\n",
    "joined_df.select(\"Community\",\"Cleaned Estimated Median Income\",\"POP_2010\",\"HOUSING10\")\n",
    "# Ομαδοποίηση κατά την περιοχή \"Community\" και υπολογισμός των απαιτούμενων τιμών\n",
    "grouped_df = joined_df.groupBy(\"Community\").agg(\n",
    "    F.sum(\"POP_2010\").alias(\"Total Population\"),\n",
    "    F.sum(\"HOUSING10\").alias(\"Total Households\"),\n",
    "    F.avg(\"Cleaned Estimated Median Income\").alias(\"Avg Estimated Median Income\")\n",
    ")\n",
    "\n",
    "# Υπολογισμός της στήλης \"Income per Individual\"\n",
    "grouped_df = grouped_df.withColumn(\n",
    "    \"Income per Individual\",\n",
    "    (F.col(\"Total Households\") * F.col(\"Avg Estimated Median Income\")) / F.col(\"Total Population\")\n",
    ")\n",
    "\n",
    "# Δημιουργία της στήλης με το δολάριο για τα αποτελέσματα\n",
    "grouped_df = grouped_df.withColumn(\n",
    "    \"Estimated Median Income per Household\",\n",
    "    F.concat(F.lit(\"$\"), F.format_number(F.col(\"Avg Estimated Median Income\"), 2))\n",
    ")\n",
    "\n",
    "grouped_df = grouped_df.withColumn(\n",
    "    \"Income per Individual\",\n",
    "    F.concat(F.lit(\"$\"), F.format_number(F.col(\"Income per Individual\"), 2))\n",
    ")\n",
    "\n",
    "# Επιλογή των στηλών για εμφάνιση\n",
    "result_df = grouped_df.select(\n",
    "    \"Community\", \n",
    "    \"Total Population\", \n",
    "    \"Total Households\", \n",
    "    \"Estimated Median Income per Household\",\n",
    "    \"Income per Individual\"\n",
    ")\n",
    "\n",
    "# Εμφάνιση του αποτελέσματος\n",
    "result_df.show(truncate=False,n=500)\n"
   ]
  },
  {
   "cell_type": "markdown",
   "id": "0e1daf65-1c16-4f22-b700-f82542042a84",
   "metadata": {},
   "source": [
    "## The ratio of total number of crimes per person for each Los Angeles area"
   ]
  },
  {
   "cell_type": "code",
   "execution_count": 5,
   "id": "77910ab8-5b84-4641-9991-e78bf7c415b9",
   "metadata": {
    "tags": []
   },
   "outputs": [
    {
     "data": {
      "application/vnd.jupyter.widget-view+json": {
       "model_id": "",
       "version_major": 2,
       "version_minor": 0
      },
      "text/plain": [
       "FloatProgress(value=0.0, bar_style='info', description='Progress:', layout=Layout(height='25px', width='50%'),…"
      ]
     },
     "metadata": {},
     "output_type": "display_data"
    },
    {
     "name": "stdout",
     "output_type": "stream",
     "text": [
      "+--------------------+----------------+-------------+--------------------------+\n",
      "|Community           |Total Population|Sum_of_Crimes|Ratio_of_Crimes_Per_Person|\n",
      "+--------------------+----------------+-------------+--------------------------+\n",
      "|Culver City         |77766           |2780         |0.03574827045238279       |\n",
      "|Pico Rivera         |62942           |2            |3.177528518318452E-5      |\n",
      "|Malibu              |12645           |1            |7.908264136022143E-5      |\n",
      "|Hacienda Heights    |53594           |NULL         |NULL                      |\n",
      "|Montebello          |62500           |6            |9.6E-5                    |\n",
      "|Hawaiian Gardens    |14254           |NULL         |NULL                      |\n",
      "|Westlake Village    |16540           |2            |1.2091898428053205E-4     |\n",
      "|Carson              |183428          |862          |0.004699391586889679      |\n",
      "|Glendale            |1150314         |816          |7.093715281218867E-4      |\n",
      "|Signal Hill         |11016           |2            |1.8155410312273057E-4     |\n",
      "|Glendora            |101388          |2            |1.9726200339290646E-5     |\n",
      "|Gardena             |176487          |1311         |0.007428309167247446      |\n",
      "|Claremont           |35348           |6            |1.697408622835804E-4      |\n",
      "|Norwalk             |105549          |5            |4.7371363063600794E-5     |\n",
      "|Monterey Park       |120538          |10           |8.296138976920142E-5      |\n",
      "|Beverly Hills       |102327          |4059         |0.03966695007182855       |\n",
      "|Paramount           |54098           |31           |5.730341232577914E-4      |\n",
      "|La Cañada Flintridge|20246           |1            |4.9392472587177715E-5     |\n",
      "|Altadena            |42777           |1            |2.3377048413867265E-5     |\n",
      "|Ladera Heights      |6498            |945          |0.14542936288088643       |\n",
      "|La Mirada           |48527           |1            |2.0607084715725267E-5     |\n",
      "|Artesia             |16522           |NULL         |NULL                      |\n",
      "|Santa Monica        |269208          |2385         |0.008859320673977         |\n",
      "|South Gate          |94396           |2            |2.1187338446544345E-5     |\n",
      "|San Marino          |13147           |NULL         |NULL                      |\n",
      "|Hermosa Beach       |19506           |18           |9.227929867733005E-4      |\n",
      "|Acton               |8134            |1            |1.2294074256208508E-4     |\n",
      "|East Los Angeles    |126492          |440          |0.0034784808525440344     |\n",
      "|Diamond Bar         |55544           |1            |1.8003744778914014E-5     |\n",
      "|Alhambra            |166178          |174          |0.0010470700092671714     |\n",
      "|Torrance            |581752          |2680         |0.004606774020544837      |\n",
      "|San Gabriel         |79436           |NULL         |NULL                      |\n",
      "|Covina              |128078          |2            |1.5615484314246007E-5     |\n",
      "|Temple City         |35558           |NULL         |NULL                      |\n",
      "|Sierra Madre        |10917           |NULL         |NULL                      |\n",
      "|Lomita              |20256           |76           |0.0037519747235387046     |\n",
      "|Bellflower          |76616           |3            |3.9156311997494E-5        |\n",
      "|Rosemead            |53764           |1            |1.8599806562011755E-5     |\n",
      "|Cerritos            |49587           |5            |1.008328795853752E-4      |\n",
      "|Monrovia            |40446           |1            |2.472432378974435E-5      |\n",
      "|El Monte            |227226          |8            |3.520723860825786E-5      |\n",
      "|Bradbury            |1292            |NULL         |NULL                      |\n",
      "|Pomona              |302012          |14           |4.635577394275724E-5      |\n",
      "|Whittier            |177744          |4            |2.2504275812404356E-5     |\n",
      "|Lynwood             |69772           |28           |4.01307114601846E-4       |\n",
      "|Arcadia             |127866          |4            |3.1282749127993365E-5     |\n",
      "|Burbank             |413360          |4036         |0.009763886200890266      |\n",
      "|San Dimas           |33371           |2            |5.9932276527523896E-5     |\n",
      "|La Habra Heights    |5992            |1            |1.6688918558077436E-4     |\n",
      "|Pasadena            |822732          |258          |3.135893583815872E-4      |\n",
      "|Manhattan Beach     |35135           |32           |9.107727337412837E-4      |\n",
      "|Inglewood           |438692          |3788         |0.008634759694728876      |\n",
      "|Lakewood            |240489          |3            |1.2474583037061987E-5     |\n",
      "|Lawndale            |32769           |NULL         |NULL                      |\n",
      "|Lancaster           |156633          |7            |4.469045475729891E-5      |\n",
      "|Long Beach          |2782002         |660          |2.3723922556489894E-4     |\n",
      "|South Pasadena      |25619           |24           |9.368047152504001E-4      |\n",
      "|Stevenson Ranch     |19938           |NULL         |NULL                      |\n",
      "|La Verne            |33224           |1            |3.009872381411028E-5      |\n",
      "|Palmdale            |153458          |17           |1.1077949667009866E-4     |\n",
      "|West Covina         |318294          |6            |1.8850496710588324E-5     |\n",
      "|Santa Fe Springs    |16223           |1            |6.164088023176972E-5      |\n",
      "|Downey              |335316          |102          |3.041906738718105E-4      |\n",
      "|El Segundo          |16654           |98           |0.005884472198871142      |\n",
      "+--------------------+----------------+-------------+--------------------------+"
     ]
    }
   ],
   "source": [
    "# Βήμα 1: Προσθήκη στήλης για γεωμετρικά σημεία στα δεδομένα εγκλημάτων\n",
    "df_combined = df_combined.withColumn(\"geom\", ST_Point(\"LON\", \"LAT\"))\n",
    "\n",
    "# Βήμα 2: Εντοπισμός αν τα σημεία ανήκουν σε κάποιο πολύγωνο\n",
    "df_joined = flattened_df.join(\n",
    "    df_combined,\n",
    "    ST_Contains(flattened_df[\"geometry\"], df_combined[\"geom\"]),\n",
    "    how=\"inner\"\n",
    ")\n",
    "\n",
    "df_zip = df_joined.join(df3, df_joined[\"COMM\"] == df3[\"Community\"], \"inner\")\n",
    "df_zip.select(\"Community\",\"geometry\")\n",
    "# Βήμα 3: Προσθήκη στήλης \"Sum of Crimes\"\n",
    "df_aggregated = df_zip.groupBy(\"Community\").agg(\n",
    "    _sum(col(\"geometry\").isNotNull().cast(\"int\")).alias(\"Sum_of_Crimes\")\n",
    ")\n",
    "\n",
    "\n",
    "df_final=result_df.join(df_aggregated, result_df['Community'] == df_aggregated['Community'], \"left\")\n",
    "\n",
    "# Βήμα 4: Υπολογισμός της στήλης \"Ratio_of_Crimes_Per_Person\"\n",
    "df_final = df_final.withColumn(\n",
    "    \"Ratio_of_Crimes_Per_Person\", \n",
    "    col(\"Sum_of_Crimes\") / col(\"Total Population\")\n",
    ")\n",
    "\n",
    "# Βήμα 5: Εμφάνιση των αποτελεσμάτων\n",
    "df_final = df_final.select(result_df['Community'],\"Total Population\",\"Sum_of_Crimes\",\"Ratio_of_Crimes_Per_Person\")\n",
    "\n",
    "# Προβολή των αποτελεσμάτων\n",
    "df_final.show(truncate=False,n=500)\n"
   ]
  },
  {
   "cell_type": "markdown",
   "id": "e534b2c4-d6eb-4c2f-9094-6edfa530a673",
   "metadata": {},
   "source": [
    "### Εxplain"
   ]
  },
  {
   "cell_type": "code",
   "execution_count": 6,
   "id": "e9276ead-a4cc-4e93-8050-6bceb177f80f",
   "metadata": {
    "tags": []
   },
   "outputs": [
    {
     "data": {
      "application/vnd.jupyter.widget-view+json": {
       "model_id": "",
       "version_major": 2,
       "version_minor": 0
      },
      "text/plain": [
       "FloatProgress(value=0.0, bar_style='info', description='Progress:', layout=Layout(height='25px', width='50%'),…"
      ]
     },
     "metadata": {},
     "output_type": "display_data"
    },
    {
     "name": "stdout",
     "output_type": "stream",
     "text": [
      "Explain for first task\n",
      "== Physical Plan ==\n",
      "AdaptiveSparkPlan (15)\n",
      "+- Project (14)\n",
      "   +- HashAggregate (13)\n",
      "      +- Exchange (12)\n",
      "         +- HashAggregate (11)\n",
      "            +- Project (10)\n",
      "               +- BroadcastHashJoin Inner BuildRight (9)\n",
      "                  :- Project (5)\n",
      "                  :  +- Filter (4)\n",
      "                  :     +- Generate (3)\n",
      "                  :        +- Filter (2)\n",
      "                  :           +- Scan geojson  (1)\n",
      "                  +- BroadcastExchange (8)\n",
      "                     +- Filter (7)\n",
      "                        +- Scan csv  (6)\n",
      "\n",
      "\n",
      "(1) Scan geojson \n",
      "Output [1]: [features#25]\n",
      "Batched: false\n",
      "Location: InMemoryFileIndex [s3://initial-notebook-data-bucket-dblab-905418150721/2010_Census_Blocks.geojson]\n",
      "PushedFilters: [IsNotNull(features)]\n",
      "ReadSchema: struct<features:array<struct<geometry:binary,properties:struct<BG10:string,BG10FIP10:string,BG12:string,CB10:string,CEN_FIP13:string,CITY:string,CITYCOM:string,COMM:string,CT10:string,CT12:string,CTCB10:string,HD_2012:bigint,HD_NAME:string,HOUSING10:bigint,LA_FIP10:string,OBJECTID:bigint,POP_2010:bigint,PUMA10:string,SPA_2012:bigint,SPA_NAME:string,SUP_DIST:string,SUP_LABEL:string,ShapeSTArea:double,ShapeSTLength:double,ZCTA10:string>,type:string>>>\n",
      "\n",
      "(2) Filter\n",
      "Input [1]: [features#25]\n",
      "Condition : ((size(features#25, true) > 0) AND isnotnull(features#25))\n",
      "\n",
      "(3) Generate\n",
      "Input [1]: [features#25]\n",
      "Arguments: explode(features#25), false, [features#33]\n",
      "\n",
      "(4) Filter\n",
      "Input [1]: [features#33]\n",
      "Condition : isnotnull(features#33.properties.COMM)\n",
      "\n",
      "(5) Project\n",
      "Output [3]: [features#33.properties.COMM AS COMM#49, features#33.properties.HOUSING10 AS HOUSING10#55L, features#33.properties.POP_2010 AS POP_2010#58L]\n",
      "Input [1]: [features#33]\n",
      "\n",
      "(6) Scan csv \n",
      "Output [2]: [Community#398, Estimated Median Income#399]\n",
      "Batched: false\n",
      "Location: InMemoryFileIndex [s3://initial-notebook-data-bucket-dblab-905418150721/LA_income_2015.csv]\n",
      "PushedFilters: [IsNotNull(Community)]\n",
      "ReadSchema: struct<Community:string,Estimated Median Income:string>\n",
      "\n",
      "(7) Filter\n",
      "Input [2]: [Community#398, Estimated Median Income#399]\n",
      "Condition : isnotnull(Community#398)\n",
      "\n",
      "(8) BroadcastExchange\n",
      "Input [2]: [Community#398, Estimated Median Income#399]\n",
      "Arguments: HashedRelationBroadcastMode(List(input[0, string, false]),false), [plan_id=1211]\n",
      "\n",
      "(9) BroadcastHashJoin\n",
      "Left keys [1]: [COMM#49]\n",
      "Right keys [1]: [Community#398]\n",
      "Join type: Inner\n",
      "Join condition: None\n",
      "\n",
      "(10) Project\n",
      "Output [4]: [HOUSING10#55L, POP_2010#58L, Community#398, cast(regexp_replace(Estimated Median Income#399, [$,], , 1) as double) AS Cleaned Estimated Median Income#470]\n",
      "Input [5]: [COMM#49, HOUSING10#55L, POP_2010#58L, Community#398, Estimated Median Income#399]\n",
      "\n",
      "(11) HashAggregate\n",
      "Input [4]: [HOUSING10#55L, POP_2010#58L, Community#398, Cleaned Estimated Median Income#470]\n",
      "Keys [1]: [Community#398]\n",
      "Functions [3]: [partial_sum(POP_2010#58L), partial_sum(HOUSING10#55L), partial_avg(Cleaned Estimated Median Income#470)]\n",
      "Aggregate Attributes [4]: [sum#585L, sum#587L, sum#589, count#590L]\n",
      "Results [5]: [Community#398, sum#586L, sum#588L, sum#591, count#592L]\n",
      "\n",
      "(12) Exchange\n",
      "Input [5]: [Community#398, sum#586L, sum#588L, sum#591, count#592L]\n",
      "Arguments: hashpartitioning(Community#398, 1000), ENSURE_REQUIREMENTS, [plan_id=1216]\n",
      "\n",
      "(13) HashAggregate\n",
      "Input [5]: [Community#398, sum#586L, sum#588L, sum#591, count#592L]\n",
      "Keys [1]: [Community#398]\n",
      "Functions [3]: [sum(POP_2010#58L), sum(HOUSING10#55L), avg(Cleaned Estimated Median Income#470)]\n",
      "Aggregate Attributes [3]: [sum(POP_2010#58L)#535L, sum(HOUSING10#55L)#537L, avg(Cleaned Estimated Median Income#470)#539]\n",
      "Results [4]: [Community#398, sum(POP_2010#58L)#535L AS Total Population#536L, sum(HOUSING10#55L)#537L AS Total Households#538L, avg(Cleaned Estimated Median Income#470)#539 AS Avg Estimated Median Income#540]\n",
      "\n",
      "(14) Project\n",
      "Output [5]: [Community#398, Total Population#536L, Total Households#538L, concat($, format_number(Avg Estimated Median Income#540, 2)) AS Estimated Median Income per Household#551, concat($, format_number(((cast(Total Households#538L as double) * Avg Estimated Median Income#540) / cast(Total Population#536L as double)), 2)) AS Income per Individual#558]\n",
      "Input [4]: [Community#398, Total Population#536L, Total Households#538L, Avg Estimated Median Income#540]\n",
      "\n",
      "(15) AdaptiveSparkPlan\n",
      "Output [5]: [Community#398, Total Population#536L, Total Households#538L, Estimated Median Income per Household#551, Income per Individual#558]\n",
      "Arguments: isFinalPlan=false"
     ]
    }
   ],
   "source": [
    "print(\"Explain for first task\")\n",
    "result_df.explain(mode=\"formatted\")"
   ]
  },
  {
   "cell_type": "code",
   "execution_count": 7,
   "id": "dc30a48e-12c6-42a9-839a-622c5f99d609",
   "metadata": {
    "tags": []
   },
   "outputs": [
    {
     "data": {
      "application/vnd.jupyter.widget-view+json": {
       "model_id": "",
       "version_major": 2,
       "version_minor": 0
      },
      "text/plain": [
       "FloatProgress(value=0.0, bar_style='info', description='Progress:', layout=Layout(height='25px', width='50%'),…"
      ]
     },
     "metadata": {},
     "output_type": "display_data"
    },
    {
     "name": "stdout",
     "output_type": "stream",
     "text": [
      "Explain for second task\n",
      "== Physical Plan ==\n",
      "AdaptiveSparkPlan (40)\n",
      "+- Project (39)\n",
      "   +- SortMergeJoin LeftOuter (38)\n",
      "      :- Sort (14)\n",
      "      :  +- HashAggregate (13)\n",
      "      :     +- Exchange (12)\n",
      "      :        +- HashAggregate (11)\n",
      "      :           +- Project (10)\n",
      "      :              +- BroadcastHashJoin Inner BuildRight (9)\n",
      "      :                 :- Project (5)\n",
      "      :                 :  +- Filter (4)\n",
      "      :                 :     +- Generate (3)\n",
      "      :                 :        +- Filter (2)\n",
      "      :                 :           +- Scan geojson  (1)\n",
      "      :                 +- BroadcastExchange (8)\n",
      "      :                    +- Filter (7)\n",
      "      :                       +- Scan csv  (6)\n",
      "      +- Sort (37)\n",
      "         +- HashAggregate (36)\n",
      "            +- Exchange (35)\n",
      "               +- HashAggregate (34)\n",
      "                  +- Project (33)\n",
      "                     +- BroadcastHashJoin Inner BuildRight (32)\n",
      "                        :- Project (28)\n",
      "                        :  +- RangeJoin (27)\n",
      "                        :     :- Project (19)\n",
      "                        :     :  +- Filter (18)\n",
      "                        :     :     +- Generate (17)\n",
      "                        :     :        +- Filter (16)\n",
      "                        :     :           +- Scan geojson  (15)\n",
      "                        :     +- Union (26)\n",
      "                        :        :- Project (22)\n",
      "                        :        :  +- Filter (21)\n",
      "                        :        :     +- Scan csv  (20)\n",
      "                        :        +- Project (25)\n",
      "                        :           +- Filter (24)\n",
      "                        :              +- Scan csv  (23)\n",
      "                        +- BroadcastExchange (31)\n",
      "                           +- Filter (30)\n",
      "                              +- Scan csv  (29)\n",
      "\n",
      "\n",
      "(1) Scan geojson \n",
      "Output [1]: [features#25]\n",
      "Batched: false\n",
      "Location: InMemoryFileIndex [s3://initial-notebook-data-bucket-dblab-905418150721/2010_Census_Blocks.geojson]\n",
      "PushedFilters: [IsNotNull(features)]\n",
      "ReadSchema: struct<features:array<struct<geometry:binary,properties:struct<BG10:string,BG10FIP10:string,BG12:string,CB10:string,CEN_FIP13:string,CITY:string,CITYCOM:string,COMM:string,CT10:string,CT12:string,CTCB10:string,HD_2012:bigint,HD_NAME:string,HOUSING10:bigint,LA_FIP10:string,OBJECTID:bigint,POP_2010:bigint,PUMA10:string,SPA_2012:bigint,SPA_NAME:string,SUP_DIST:string,SUP_LABEL:string,ShapeSTArea:double,ShapeSTLength:double,ZCTA10:string>,type:string>>>\n",
      "\n",
      "(2) Filter\n",
      "Input [1]: [features#25]\n",
      "Condition : ((size(features#25, true) > 0) AND isnotnull(features#25))\n",
      "\n",
      "(3) Generate\n",
      "Input [1]: [features#25]\n",
      "Arguments: explode(features#25), false, [features#33]\n",
      "\n",
      "(4) Filter\n",
      "Input [1]: [features#33]\n",
      "Condition : isnotnull(features#33.properties.COMM)\n",
      "\n",
      "(5) Project\n",
      "Output [2]: [features#33.properties.COMM AS COMM#49, features#33.properties.POP_2010 AS POP_2010#58L]\n",
      "Input [1]: [features#33]\n",
      "\n",
      "(6) Scan csv \n",
      "Output [1]: [Community#398]\n",
      "Batched: false\n",
      "Location: InMemoryFileIndex [s3://initial-notebook-data-bucket-dblab-905418150721/LA_income_2015.csv]\n",
      "PushedFilters: [IsNotNull(Community)]\n",
      "ReadSchema: struct<Community:string>\n",
      "\n",
      "(7) Filter\n",
      "Input [1]: [Community#398]\n",
      "Condition : isnotnull(Community#398)\n",
      "\n",
      "(8) BroadcastExchange\n",
      "Input [1]: [Community#398]\n",
      "Arguments: HashedRelationBroadcastMode(List(input[0, string, false]),false), [plan_id=1414]\n",
      "\n",
      "(9) BroadcastHashJoin\n",
      "Left keys [1]: [COMM#49]\n",
      "Right keys [1]: [Community#398]\n",
      "Join type: Inner\n",
      "Join condition: None\n",
      "\n",
      "(10) Project\n",
      "Output [2]: [POP_2010#58L, Community#398]\n",
      "Input [3]: [COMM#49, POP_2010#58L, Community#398]\n",
      "\n",
      "(11) HashAggregate\n",
      "Input [2]: [POP_2010#58L, Community#398]\n",
      "Keys [1]: [Community#398]\n",
      "Functions [1]: [partial_sum(POP_2010#58L)]\n",
      "Aggregate Attributes [1]: [sum#585L]\n",
      "Results [2]: [Community#398, sum#586L]\n",
      "\n",
      "(12) Exchange\n",
      "Input [2]: [Community#398, sum#586L]\n",
      "Arguments: hashpartitioning(Community#398, 1000), ENSURE_REQUIREMENTS, [plan_id=1419]\n",
      "\n",
      "(13) HashAggregate\n",
      "Input [2]: [Community#398, sum#586L]\n",
      "Keys [1]: [Community#398]\n",
      "Functions [1]: [sum(POP_2010#58L)]\n",
      "Aggregate Attributes [1]: [sum(POP_2010#58L)#535L]\n",
      "Results [2]: [Community#398, sum(POP_2010#58L)#535L AS Total Population#536L]\n",
      "\n",
      "(14) Sort\n",
      "Input [2]: [Community#398, Total Population#536L]\n",
      "Arguments: [Community#398 ASC NULLS FIRST], false, 0\n",
      "\n",
      "(15) Scan geojson \n",
      "Output [1]: [features#950]\n",
      "Batched: false\n",
      "Location: InMemoryFileIndex [s3://initial-notebook-data-bucket-dblab-905418150721/2010_Census_Blocks.geojson]\n",
      "PushedFilters: [IsNotNull(features)]\n",
      "ReadSchema: struct<features:array<struct<geometry:binary,properties:struct<BG10:string,BG10FIP10:string,BG12:string,CB10:string,CEN_FIP13:string,CITY:string,CITYCOM:string,COMM:string,CT10:string,CT12:string,CTCB10:string,HD_2012:bigint,HD_NAME:string,HOUSING10:bigint,LA_FIP10:string,OBJECTID:bigint,POP_2010:bigint,PUMA10:string,SPA_2012:bigint,SPA_NAME:string,SUP_DIST:string,SUP_LABEL:string,ShapeSTArea:double,ShapeSTLength:double,ZCTA10:string>,type:string>>>\n",
      "\n",
      "(16) Filter\n",
      "Input [1]: [features#950]\n",
      "Condition : ((size(features#950, true) > 0) AND isnotnull(features#950))\n",
      "\n",
      "(17) Generate\n",
      "Input [1]: [features#950]\n",
      "Arguments: explode(features#950), false, [features#33]\n",
      "\n",
      "(18) Filter\n",
      "Input [1]: [features#33]\n",
      "Condition : (isnotnull(features#33.geometry) AND isnotnull(features#33.properties.COMM))\n",
      "\n",
      "(19) Project\n",
      "Output [2]: [features#33.properties.COMM AS COMM#49, features#33.geometry AS geometry#36]\n",
      "Input [1]: [features#33]\n",
      "\n",
      "(20) Scan csv \n",
      "Output [2]: [LAT#214, LON#215]\n",
      "Batched: false\n",
      "Location: InMemoryFileIndex [s3://initial-notebook-data-bucket-dblab-905418150721/CrimeData/Crime_Data_from_2010_to_2019_20241101.csv]\n",
      "ReadSchema: struct<LAT:double,LON:double>\n",
      "\n",
      "(21) Filter\n",
      "Input [2]: [LAT#214, LON#215]\n",
      "Condition : isnotnull( **org.apache.spark.sql.sedona_sql.expressions.ST_Point**  )\n",
      "\n",
      "(22) Project\n",
      "Output [1]: [ **org.apache.spark.sql.sedona_sql.expressions.ST_Point**   AS geom#629]\n",
      "Input [2]: [LAT#214, LON#215]\n",
      "\n",
      "(23) Scan csv \n",
      "Output [2]: [LAT#288, LON#289]\n",
      "Batched: false\n",
      "Location: InMemoryFileIndex [s3://initial-notebook-data-bucket-dblab-905418150721/CrimeData/Crime_Data_from_2020_to_Present_20241101.csv]\n",
      "ReadSchema: struct<LAT:double,LON:double>\n",
      "\n",
      "(24) Filter\n",
      "Input [2]: [LAT#288, LON#289]\n",
      "Condition : isnotnull( **org.apache.spark.sql.sedona_sql.expressions.ST_Point**  )\n",
      "\n",
      "(25) Project\n",
      "Output [1]: [ **org.apache.spark.sql.sedona_sql.expressions.ST_Point**   AS geom#1047]\n",
      "Input [2]: [LAT#288, LON#289]\n",
      "\n",
      "(26) Union\n",
      "\n",
      "(27) RangeJoin\n",
      "Arguments: geometry#36: geometry, geom#629: geometry, CONTAINS\n",
      "\n",
      "(28) Project\n",
      "Output [2]: [COMM#49, geometry#36]\n",
      "Input [3]: [COMM#49, geometry#36, geom#629]\n",
      "\n",
      "(29) Scan csv \n",
      "Output [1]: [Community#954]\n",
      "Batched: false\n",
      "Location: InMemoryFileIndex [s3://initial-notebook-data-bucket-dblab-905418150721/LA_income_2015.csv]\n",
      "PushedFilters: [IsNotNull(Community)]\n",
      "ReadSchema: struct<Community:string>\n",
      "\n",
      "(30) Filter\n",
      "Input [1]: [Community#954]\n",
      "Condition : isnotnull(Community#954)\n",
      "\n",
      "(31) BroadcastExchange\n",
      "Input [1]: [Community#954]\n",
      "Arguments: HashedRelationBroadcastMode(List(input[0, string, false]),false), [plan_id=1421]\n",
      "\n",
      "(32) BroadcastHashJoin\n",
      "Left keys [1]: [COMM#49]\n",
      "Right keys [1]: [Community#954]\n",
      "Join type: Inner\n",
      "Join condition: None\n",
      "\n",
      "(33) Project\n",
      "Output [2]: [geometry#36, Community#954]\n",
      "Input [3]: [COMM#49, geometry#36, Community#954]\n",
      "\n",
      "(34) HashAggregate\n",
      "Input [2]: [geometry#36, Community#954]\n",
      "Keys [1]: [Community#954]\n",
      "Functions [1]: [partial_sum(cast(isnotnull(geometry#36) as int))]\n",
      "Aggregate Attributes [1]: [sum#999L]\n",
      "Results [2]: [Community#954, sum#1000L]\n",
      "\n",
      "(35) Exchange\n",
      "Input [2]: [Community#954, sum#1000L]\n",
      "Arguments: hashpartitioning(Community#954, 1000), ENSURE_REQUIREMENTS, [plan_id=1426]\n",
      "\n",
      "(36) HashAggregate\n",
      "Input [2]: [Community#954, sum#1000L]\n",
      "Keys [1]: [Community#954]\n",
      "Functions [1]: [sum(cast(isnotnull(geometry#36) as int))]\n",
      "Aggregate Attributes [1]: [sum(cast(isnotnull(geometry#36) as int))#945L]\n",
      "Results [2]: [Community#954, sum(cast(isnotnull(geometry#36) as int))#945L AS Sum_of_Crimes#946L]\n",
      "\n",
      "(37) Sort\n",
      "Input [2]: [Community#954, Sum_of_Crimes#946L]\n",
      "Arguments: [Community#954 ASC NULLS FIRST], false, 0\n",
      "\n",
      "(38) SortMergeJoin\n",
      "Left keys [1]: [Community#398]\n",
      "Right keys [1]: [Community#954]\n",
      "Join type: LeftOuter\n",
      "Join condition: None\n",
      "\n",
      "(39) Project\n",
      "Output [4]: [Community#398, Total Population#536L, Sum_of_Crimes#946L, (cast(Sum_of_Crimes#946L as double) / cast(Total Population#536L as double)) AS Ratio_of_Crimes_Per_Person#972]\n",
      "Input [4]: [Community#398, Total Population#536L, Community#954, Sum_of_Crimes#946L]\n",
      "\n",
      "(40) AdaptiveSparkPlan\n",
      "Output [4]: [Community#398, Total Population#536L, Sum_of_Crimes#946L, Ratio_of_Crimes_Per_Person#972]\n",
      "Arguments: isFinalPlan=false"
     ]
    }
   ],
   "source": [
    "print(\"Explain for second task\")\n",
    "df_final.explain(mode=\"formatted\")"
   ]
  },
  {
   "cell_type": "markdown",
   "id": "5cc6a4af-fa9d-43f1-b87f-8689ec47ebbb",
   "metadata": {},
   "source": [
    "#### Conclutions"
   ]
  },
  {
   "cell_type": "code",
   "execution_count": 8,
   "id": "7f6d2e38-d51d-42bd-ba71-f14e17440e57",
   "metadata": {
    "tags": []
   },
   "outputs": [
    {
     "data": {
      "application/vnd.jupyter.widget-view+json": {
       "model_id": "",
       "version_major": 2,
       "version_minor": 0
      },
      "text/plain": [
       "FloatProgress(value=0.0, bar_style='info', description='Progress:', layout=Layout(height='25px', width='50%'),…"
      ]
     },
     "metadata": {},
     "output_type": "display_data"
    },
    {
     "name": "stdout",
     "output_type": "stream",
     "text": [
      "Task 1:\n",
      "In the first task, we perform 1 join:\n",
      "  joined_df = flattened_df.join(df3, flattened_df['ZCTA10'] == df3['Zip Code'], 'inner')\n",
      "This join uses the BroadcastHashJoin strategy. It connects the 2010_Census_Blocks.geojson data with LA_income_2015.csv, linking income data to the population per Community of L.A.\n",
      "\n",
      "Task 2:\n",
      "In the second task, we perform 3 joins:\n",
      "  1. df_joined = flattened_df.join(df_combined, ST_Contains(flattened_df['geometry'], df_combined['geom']), 'inner')\n",
      "     - Strategy: RangeJoin\n",
      "  2. df_zip = df_joined.join(df3, df_joined['ZCTA10'] == df3['Zip Code'], 'inner')\n",
      "     - Strategy: BroadcastHashJoin\n",
      "  3. df_final = result_df.join(df_aggregated, result_df['Community'] == df_aggregated['Community'], 'left')\n",
      "     - Strategy: SortMergeJoin"
     ]
    }
   ],
   "source": [
    "print(\"Task 1:\")\n",
    "print(\"In the first task, we perform 1 join:\")\n",
    "print(\"  joined_df = flattened_df.join(df3, flattened_df['ZCTA10'] == df3['Zip Code'], 'inner')\")\n",
    "print(\n",
    "    \"This join uses the BroadcastHashJoin strategy. \"\n",
    "    \"It connects the 2010_Census_Blocks.geojson data with LA_income_2015.csv, \"\n",
    "    \"linking income data to the population per Community of L.A.\"\n",
    ")\n",
    "\n",
    "print(\"\\nTask 2:\")\n",
    "print(\"In the second task, we perform 3 joins:\")\n",
    "print(\"  1. df_joined = flattened_df.join(df_combined, ST_Contains(flattened_df['geometry'], df_combined['geom']), 'inner')\")\n",
    "print(\"     - Strategy: RangeJoin\")\n",
    "print(\"  2. df_zip = df_joined.join(df3, df_joined['ZCTA10'] == df3['Zip Code'], 'inner')\")\n",
    "print(\"     - Strategy: BroadcastHashJoin\")\n",
    "print(\"  3. df_final = result_df.join(df_aggregated, result_df['Community'] == df_aggregated['Community'], 'left')\")\n",
    "print(\"     - Strategy: SortMergeJoin\")\n"
   ]
  }
 ],
 "metadata": {
  "kernelspec": {
   "display_name": "Sparkmagic (PySpark)",
   "language": "python",
   "name": "pysparkkernel"
  },
  "language_info": {
   "codemirror_mode": {
    "name": "python",
    "version": 3
   },
   "file_extension": ".py",
   "mimetype": "text/x-python",
   "name": "pyspark",
   "pygments_lexer": "python3"
  }
 },
 "nbformat": 4,
 "nbformat_minor": 5
}
