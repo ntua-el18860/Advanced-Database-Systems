{
 "cells": [
  {
   "cell_type": "code",
   "execution_count": 14,
   "id": "d546cb17-cb70-453d-ad82-1cc01166896f",
   "metadata": {
    "tags": []
   },
   "outputs": [
    {
     "data": {
      "application/vnd.jupyter.widget-view+json": {
       "model_id": "",
       "version_major": 2,
       "version_minor": 0
      },
      "text/plain": [
       "FloatProgress(value=0.0, bar_style='info', description='Progress:', layout=Layout(height='25px', width='50%'),…"
      ]
     },
     "metadata": {},
     "output_type": "display_data"
    },
    {
     "name": "stdout",
     "output_type": "stream",
     "text": [
      "root\n",
      " |-- BG10: string (nullable = true)\n",
      " |-- BG10FIP10: string (nullable = true)\n",
      " |-- BG12: string (nullable = true)\n",
      " |-- CB10: string (nullable = true)\n",
      " |-- CEN_FIP13: string (nullable = true)\n",
      " |-- CITY: string (nullable = true)\n",
      " |-- CITYCOM: string (nullable = true)\n",
      " |-- COMM: string (nullable = true)\n",
      " |-- CT10: string (nullable = true)\n",
      " |-- CT12: string (nullable = true)\n",
      " |-- CTCB10: string (nullable = true)\n",
      " |-- HD_2012: long (nullable = true)\n",
      " |-- HD_NAME: string (nullable = true)\n",
      " |-- HOUSING10: long (nullable = true)\n",
      " |-- LA_FIP10: string (nullable = true)\n",
      " |-- OBJECTID: long (nullable = true)\n",
      " |-- POP_2010: long (nullable = true)\n",
      " |-- PUMA10: string (nullable = true)\n",
      " |-- SPA_2012: long (nullable = true)\n",
      " |-- SPA_NAME: string (nullable = true)\n",
      " |-- SUP_DIST: string (nullable = true)\n",
      " |-- SUP_LABEL: string (nullable = true)\n",
      " |-- ShapeSTArea: double (nullable = true)\n",
      " |-- ShapeSTLength: double (nullable = true)\n",
      " |-- ZCTA10: string (nullable = true)\n",
      " |-- geometry: geometry (nullable = true)"
     ]
    }
   ],
   "source": [
    "from sedona.spark import *\n",
    "from pyspark.sql.functions import col\n",
    "from pyspark.sql import SparkSession\n",
    "import time\n",
    "# Create Spark Session with configurations\n",
    "spark = SparkSession.builder \\\n",
    "    .appName(\"GeoJSON read\") \\\n",
    "    .config(\"spark.executor.instances\", \"2\") \\\n",
    "    .config(\"spark.executor.memory\", \"1g\") \\\n",
    "    .config(\"spark.executor.cores\", \"1\") \\\n",
    "    .config(\"spark.driver.memory\", \"2g\") \\\n",
    "    .getOrCreate()\n",
    "\n",
    "# Create Sedona context\n",
    "sedona = SedonaContext.create(spark)\n",
    "\n",
    "# Read the file from s3\n",
    "geojson_path = \"s3://initial-notebook-data-bucket-dblab-905418150721/2010_Census_Blocks.geojson\"\n",
    "blocks_df = sedona.read.format(\"geojson\") \\\n",
    "            .option(\"multiLine\", \"true\").load(geojson_path) \\\n",
    "            .selectExpr(\"explode(features) as features\") \\\n",
    "            .select(\"features.*\")\n",
    "\n",
    "# Formatting magic\n",
    "flattened_df = blocks_df.select(\n",
    "    [col(f\"properties.{col_name}\").alias(col_name) for col_name in\n",
    "     blocks_df.schema[\"properties\"].dataType.fieldNames()] + [\"geometry\"]) \\\n",
    "    .drop(\"properties\") \\\n",
    "    .drop(\"type\")\n",
    "\n",
    "# Print schema\n",
    "flattened_df.printSchema()\n"
   ]
  },
  {
   "cell_type": "code",
   "execution_count": 15,
   "id": "d6851e4a-d021-4fc7-a7c2-abc114f7bacb",
   "metadata": {
    "tags": []
   },
   "outputs": [
    {
     "data": {
      "application/vnd.jupyter.widget-view+json": {
       "model_id": "",
       "version_major": 2,
       "version_minor": 0
      },
      "text/plain": [
       "FloatProgress(value=0.0, bar_style='info', description='Progress:', layout=Layout(height='25px', width='50%'),…"
      ]
     },
     "metadata": {},
     "output_type": "display_data"
    }
   ],
   "source": [
    "race_path = 's3://initial-notebook-data-bucket-dblab-905418150721/RE_codes.csv'\n",
    "data1_path = 's3://initial-notebook-data-bucket-dblab-905418150721/CrimeData/Crime_Data_from_2010_to_2019_20241101.csv'\n",
    "data2_path = 's3://initial-notebook-data-bucket-dblab-905418150721/CrimeData/Crime_Data_from_2020_to_Present_20241101.csv'\n",
    "area_path = 's3://initial-notebook-data-bucket-dblab-905418150721/LA_income_2015.csv'\n",
    "df_area = spark.read.csv(area_path, header = True, inferSchema=True)\n",
    "df_race = spark.read.csv(race_path, header=True, inferSchema=True)\n",
    "df1 = spark.read.csv(data1_path, header=True, inferSchema=True)\n",
    "df2 = spark.read.csv(data2_path, header=True, inferSchema=True)\n",
    "df_combined = df1.union(df2)"
   ]
  },
  {
   "cell_type": "code",
   "execution_count": 16,
   "id": "8231aa19-dcac-4839-a07b-394bed23457b",
   "metadata": {
    "tags": []
   },
   "outputs": [
    {
     "data": {
      "application/vnd.jupyter.widget-view+json": {
       "model_id": "",
       "version_major": 2,
       "version_minor": 0
      },
      "text/plain": [
       "FloatProgress(value=0.0, bar_style='info', description='Progress:', layout=Layout(height='25px', width='50%'),…"
      ]
     },
     "metadata": {},
     "output_type": "display_data"
    },
    {
     "name": "stdout",
     "output_type": "stream",
     "text": [
      "Time it took: 0.3488943576812744\n",
      "Los Angeles (West Hills), Bell Canyon\n",
      "Redondo Beach, Torrance\n",
      "Bouquet Canyon, Green Valley, Mint Canyon, Santa Clarita (Canyon County)\n",
      "Time it took:0.16186857223510742\n",
      "Topanga\n",
      "Los Angeles (Century City)\n",
      "Long Beach\n",
      "91307\n",
      "90277\n",
      "91350"
     ]
    }
   ],
   "source": [
    "from pyspark.sql.functions import col, year, to_timestamp\n",
    "#from sedona.sql.types import ST_Point\n",
    "#from sedona.sql.functions import ST_Contains\n",
    "start_time = time.time()\n",
    "# Step 1: Filter `df_area` by `Estimated Median Income` in ascending order and get the top 3\n",
    "result_asc = df_area.orderBy(col(\"Estimated Median Income\").asc())\n",
    "res1 = result_asc.limit(3).collect()\n",
    "end_time = time.time()\n",
    "print(f\"Time it took: {end_time-start_time}\")\n",
    "for row in res1:\n",
    "    print(row[\"Community\"])\n",
    "\n",
    "# Step 2: Filter `df_area` by `Estimated Median Income` in descending order and get the top 3\n",
    "start_time = time.time()\n",
    "result_desc = df_area.orderBy(col(\"Estimated Median Income\").desc())\n",
    "res2 = result_desc.limit(3).collect()\n",
    "end_time = time.time()\n",
    "print(f\"Time it took:{end_time - start_time}\")\n",
    "for row in res2:\n",
    "    print(row[\"Community\"])\n",
    "\n",
    "# Step 3: Collect the zip codes of the lowest income areas\n",
    "codes1 = [row[\"Zip Code\"] for row in res1]\n",
    "for code in codes1:\n",
    "    print(code)\n"
   ]
  },
  {
   "cell_type": "code",
   "execution_count": 17,
   "id": "5e012cd1-99ac-49cc-b7a3-8df2cb143b59",
   "metadata": {
    "tags": []
   },
   "outputs": [
    {
     "data": {
      "application/vnd.jupyter.widget-view+json": {
       "model_id": "",
       "version_major": 2,
       "version_minor": 0
      },
      "text/plain": [
       "FloatProgress(value=0.0, bar_style='info', description='Progress:', layout=Layout(height='25px', width='50%'),…"
      ]
     },
     "metadata": {},
     "output_type": "display_data"
    },
    {
     "name": "stdout",
     "output_type": "stream",
     "text": [
      "Time it took:0.013997793197631836"
     ]
    }
   ],
   "source": [
    "\n",
    "# Step 4: Filter `flattened_df` for records matching the collected zip codes\n",
    "start_time = time.time()\n",
    "flattened_df = flattened_df.filter(col(\"ZCTA10\").isin(codes1))\n",
    "#res.show(10)\n",
    "\n",
    "# Step 5: Filter `df_combined` for crimes occurring in 2015\n",
    "crime_2015 = df_combined.filter(\n",
    "    year(to_timestamp(col(\"DATE OCC\"), \"MM/dd/yyyy hh:mm:ss a\")) == 2015\n",
    ")\n",
    "end_time = time.time()\n",
    "print(f\"Time it took:{end_time-start_time}\")\n",
    "# Show the filtered crimes\n",
    "#crime_2015.show()\n"
   ]
  },
  {
   "cell_type": "code",
   "execution_count": 18,
   "id": "4eba2d50-4750-46c7-aab6-defde03278e4",
   "metadata": {
    "tags": []
   },
   "outputs": [
    {
     "data": {
      "application/vnd.jupyter.widget-view+json": {
       "model_id": "",
       "version_major": 2,
       "version_minor": 0
      },
      "text/plain": [
       "FloatProgress(value=0.0, bar_style='info', description='Progress:', layout=Layout(height='25px', width='50%'),…"
      ]
     },
     "metadata": {},
     "output_type": "display_data"
    },
    {
     "name": "stdout",
     "output_type": "stream",
     "text": [
      "+------+--------------------+-------+---------+--------------------+\n",
      "|Crm Cd|         Crm Cd Desc|    LAT|      LON|                geom|\n",
      "+------+--------------------+-------+---------+--------------------+\n",
      "|   946|OTHER MISCELLANEO...|34.0448|-118.2474|POINT (-118.2474 ...|\n",
      "|   510|    VEHICLE - STOLEN|34.0618|-118.2954|POINT (-118.2954 ...|\n",
      "|   510|    VEHICLE - STOLEN|33.8202|-118.3037|POINT (-118.3037 ...|\n",
      "|   510|    VEHICLE - STOLEN|34.0691|-118.2979|POINT (-118.2979 ...|\n",
      "|   330|BURGLARY FROM VEH...|34.0461|-118.2476|POINT (-118.2476 ...|\n",
      "|   510|    VEHICLE - STOLEN|33.7469|-118.2835|POINT (-118.2835 ...|\n",
      "|   510|    VEHICLE - STOLEN|33.9113|-118.2872|POINT (-118.2872 ...|\n",
      "|   510|    VEHICLE - STOLEN|33.7842|-118.2779|POINT (-118.2779 ...|\n",
      "|   510|    VEHICLE - STOLEN|34.1974|-118.5994|POINT (-118.5994 ...|\n",
      "|   330|BURGLARY FROM VEH...|33.9815|-118.2739|POINT (-118.2739 ...|\n",
      "|   510|    VEHICLE - STOLEN|34.2216|-118.4488|POINT (-118.4488 ...|\n",
      "|   310|            BURGLARY| 33.949|-118.3744|POINT (-118.3744 ...|\n",
      "|   510|    VEHICLE - STOLEN|34.0553| -118.283|POINT (-118.283 3...|\n",
      "|   510|    VEHICLE - STOLEN|33.9553|-118.4488|POINT (-118.4488 ...|\n",
      "|   230|ASSAULT WITH DEAD...|34.0526|-118.2989|POINT (-118.2989 ...|\n",
      "|   946|OTHER MISCELLANEO...| 33.944|-118.4073|POINT (-118.4073 ...|\n",
      "|   354|   THEFT OF IDENTITY|34.1936|-118.4166|POINT (-118.4166 ...|\n",
      "|   354|   THEFT OF IDENTITY|34.0962|-118.3452|POINT (-118.3452 ...|\n",
      "|   354|   THEFT OF IDENTITY|34.0572|-118.3459|POINT (-118.3459 ...|\n",
      "|   330|BURGLARY FROM VEH...|34.2282|-118.5951|POINT (-118.5951 ...|\n",
      "+------+--------------------+-------+---------+--------------------+\n",
      "only showing top 20 rows\n",
      "\n",
      "Time it took:0.052733659744262695"
     ]
    }
   ],
   "source": [
    "start_time = time.time()\n",
    "# Step 6: Add a geometry column (`geom`) to `crime_2015` using ST_Point\n",
    "crime_2015 = crime_2015.withColumn(\"geom\", ST_Point(col(\"LON\"), col(\"LAT\")))\n",
    "end_time = time.time()\n",
    "crime_2015.select(\"Crm Cd\", \"Crm Cd Desc\", \"LAT\", \"LON\", \"geom\").show(20)\n",
    "print(f\"Time it took:{end_time-start_time}\")\n"
   ]
  },
  {
   "cell_type": "code",
   "execution_count": 19,
   "id": "5d4ae295-0ebb-44ac-afbc-25e90a1a85e1",
   "metadata": {
    "tags": []
   },
   "outputs": [
    {
     "data": {
      "application/vnd.jupyter.widget-view+json": {
       "model_id": "",
       "version_major": 2,
       "version_minor": 0
      },
      "text/plain": [
       "FloatProgress(value=0.0, bar_style='info', description='Progress:', layout=Layout(height='25px', width='50%'),…"
      ]
     },
     "metadata": {},
     "output_type": "display_data"
    },
    {
     "name": "stdout",
     "output_type": "stream",
     "text": [
      "Time it took0.014943122863769531"
     ]
    }
   ],
   "source": [
    "start_time = time.time()\n",
    "# Step 7: Perform the spatial join using ST_Contains\n",
    "result_df = flattened_df.join(\n",
    "    crime_2015,\n",
    "    ST_Contains(flattened_df[\"geometry\"], crime_2015[\"geom\"]),\n",
    "    \"inner\",  # Keep only the rows where the points are inside the polygons\n",
    ")\n",
    "end_time = time.time()\n",
    "print(f\"Time it took{end_time-start_time}\")\n",
    "# Show the spatial join results\n",
    "#result_df.show(10)"
   ]
  },
  {
   "cell_type": "code",
   "execution_count": 20,
   "id": "90d8e765-619b-4081-bf8e-b571c86fe191",
   "metadata": {
    "tags": []
   },
   "outputs": [
    {
     "data": {
      "application/vnd.jupyter.widget-view+json": {
       "model_id": "",
       "version_major": 2,
       "version_minor": 0
      },
      "text/plain": [
       "FloatProgress(value=0.0, bar_style='info', description='Progress:', layout=Layout(height='25px', width='50%'),…"
      ]
     },
     "metadata": {},
     "output_type": "display_data"
    },
    {
     "name": "stdout",
     "output_type": "stream",
     "text": [
      "215923"
     ]
    }
   ],
   "source": [
    "crime_2015.count()"
   ]
  },
  {
   "cell_type": "code",
   "execution_count": 21,
   "id": "1e05ec94-0745-4ede-8ceb-adaa0dd3ea33",
   "metadata": {
    "tags": []
   },
   "outputs": [
    {
     "data": {
      "application/vnd.jupyter.widget-view+json": {
       "model_id": "",
       "version_major": 2,
       "version_minor": 0
      },
      "text/plain": [
       "FloatProgress(value=0.0, bar_style='info', description='Progress:', layout=Layout(height='25px', width='50%'),…"
      ]
     },
     "metadata": {},
     "output_type": "display_data"
    },
    {
     "name": "stdout",
     "output_type": "stream",
     "text": [
      "932"
     ]
    }
   ],
   "source": [
    "result_df.count()"
   ]
  },
  {
   "cell_type": "code",
   "execution_count": 22,
   "id": "90193dc3-a633-41f7-a2be-5722fe70b4d2",
   "metadata": {
    "tags": []
   },
   "outputs": [
    {
     "data": {
      "application/vnd.jupyter.widget-view+json": {
       "model_id": "",
       "version_major": 2,
       "version_minor": 0
      },
      "text/plain": [
       "FloatProgress(value=0.0, bar_style='info', description='Progress:', layout=Layout(height='25px', width='50%'),…"
      ]
     },
     "metadata": {},
     "output_type": "display_data"
    },
    {
     "name": "stdout",
     "output_type": "stream",
     "text": [
      "root\n",
      " |-- BG10: string (nullable = true)\n",
      " |-- BG10FIP10: string (nullable = true)\n",
      " |-- BG12: string (nullable = true)\n",
      " |-- CB10: string (nullable = true)\n",
      " |-- CEN_FIP13: string (nullable = true)\n",
      " |-- CITY: string (nullable = true)\n",
      " |-- CITYCOM: string (nullable = true)\n",
      " |-- COMM: string (nullable = true)\n",
      " |-- CT10: string (nullable = true)\n",
      " |-- CT12: string (nullable = true)\n",
      " |-- CTCB10: string (nullable = true)\n",
      " |-- HD_2012: long (nullable = true)\n",
      " |-- HD_NAME: string (nullable = true)\n",
      " |-- HOUSING10: long (nullable = true)\n",
      " |-- LA_FIP10: string (nullable = true)\n",
      " |-- OBJECTID: long (nullable = true)\n",
      " |-- POP_2010: long (nullable = true)\n",
      " |-- PUMA10: string (nullable = true)\n",
      " |-- SPA_2012: long (nullable = true)\n",
      " |-- SPA_NAME: string (nullable = true)\n",
      " |-- SUP_DIST: string (nullable = true)\n",
      " |-- SUP_LABEL: string (nullable = true)\n",
      " |-- ShapeSTArea: double (nullable = true)\n",
      " |-- ShapeSTLength: double (nullable = true)\n",
      " |-- ZCTA10: string (nullable = true)\n",
      " |-- geometry: geometry (nullable = true)\n",
      " |-- DR_NO: integer (nullable = true)\n",
      " |-- Date Rptd: string (nullable = true)\n",
      " |-- DATE OCC: string (nullable = true)\n",
      " |-- TIME OCC: integer (nullable = true)\n",
      " |-- AREA : integer (nullable = true)\n",
      " |-- AREA NAME: string (nullable = true)\n",
      " |-- Rpt Dist No: integer (nullable = true)\n",
      " |-- Part 1-2: integer (nullable = true)\n",
      " |-- Crm Cd: integer (nullable = true)\n",
      " |-- Crm Cd Desc: string (nullable = true)\n",
      " |-- Mocodes: string (nullable = true)\n",
      " |-- Vict Age: integer (nullable = true)\n",
      " |-- Vict Sex: string (nullable = true)\n",
      " |-- Vict Descent: string (nullable = true)\n",
      " |-- Premis Cd: integer (nullable = true)\n",
      " |-- Premis Desc: string (nullable = true)\n",
      " |-- Weapon Used Cd: integer (nullable = true)\n",
      " |-- Weapon Desc: string (nullable = true)\n",
      " |-- Status: string (nullable = true)\n",
      " |-- Status Desc: string (nullable = true)\n",
      " |-- Crm Cd 1: integer (nullable = true)\n",
      " |-- Crm Cd 2: integer (nullable = true)\n",
      " |-- Crm Cd 3: integer (nullable = true)\n",
      " |-- Crm Cd 4: integer (nullable = true)\n",
      " |-- LOCATION: string (nullable = true)\n",
      " |-- Cross Street: string (nullable = true)\n",
      " |-- LAT: double (nullable = true)\n",
      " |-- LON: double (nullable = true)\n",
      " |-- geom: geometry (nullable = true)"
     ]
    }
   ],
   "source": [
    "result_df.printSchema()"
   ]
  },
  {
   "cell_type": "code",
   "execution_count": 23,
   "id": "fb5bc734-20aa-4882-b5d6-4b8b448ecd82",
   "metadata": {
    "tags": []
   },
   "outputs": [
    {
     "data": {
      "application/vnd.jupyter.widget-view+json": {
       "model_id": "",
       "version_major": 2,
       "version_minor": 0
      },
      "text/plain": [
       "FloatProgress(value=0.0, bar_style='info', description='Progress:', layout=Layout(height='25px', width='50%'),…"
      ]
     },
     "metadata": {},
     "output_type": "display_data"
    },
    {
     "name": "stdout",
     "output_type": "stream",
     "text": [
      "Time it took:0.029976844787597656\n",
      "+------------+-----+\n",
      "|Vict Descent|count|\n",
      "+------------+-----+\n",
      "|        NULL|   34|\n",
      "|           B|   56|\n",
      "|           J|    1|\n",
      "|           H|  127|\n",
      "|           F|    2|\n",
      "|           O|  128|\n",
      "|           X|   90|\n",
      "|           W|  470|\n",
      "|           A|   24|\n",
      "+------------+-----+"
     ]
    }
   ],
   "source": [
    "start_time = time.time()\n",
    "grouped_df = result_df.groupBy('Vict Descent').count()\n",
    "end_time = time.time()\n",
    "print(f\"Time it took:{end_time-start_time}\")\n",
    "grouped_df.show()"
   ]
  },
  {
   "cell_type": "markdown",
   "id": "3c9f438c-b672-49a1-8090-1e1dcdf9d10c",
   "metadata": {},
   "source": [
    "Τα στατιστικά για τις 3 πιο πλούσιες περιοχές."
   ]
  },
  {
   "cell_type": "code",
   "execution_count": 24,
   "id": "6888c349-efcf-4d94-9417-c2471212b95b",
   "metadata": {
    "tags": []
   },
   "outputs": [
    {
     "data": {
      "application/vnd.jupyter.widget-view+json": {
       "model_id": "",
       "version_major": 2,
       "version_minor": 0
      },
      "text/plain": [
       "FloatProgress(value=0.0, bar_style='info', description='Progress:', layout=Layout(height='25px', width='50%'),…"
      ]
     },
     "metadata": {},
     "output_type": "display_data"
    },
    {
     "name": "stdout",
     "output_type": "stream",
     "text": [
      "Time it took:0.004296302795410156\n",
      "+--------------------+---+\n",
      "|   Vict Descent Full|  #|\n",
      "+--------------------+---+\n",
      "|               Black| 56|\n",
      "|            Japanese|  1|\n",
      "|Hispanic/Latin/Me...|127|\n",
      "|            Filipino|  2|\n",
      "|               Other|128|\n",
      "|             Unknown| 90|\n",
      "|               White|470|\n",
      "|         Other Asian| 24|\n",
      "+--------------------+---+"
     ]
    }
   ],
   "source": [
    "start_time = time.time()\n",
    "final_df = grouped_df.join(\n",
    "    df_race,\n",
    "    grouped_df['Vict Descent'] == df_race['Vict Descent'],\n",
    "    \"inner\")\n",
    "end_time = time.time()\n",
    "print(f\"Time it took:{end_time-start_time}\")\n",
    "final_df.select('Vict Descent Full',grouped_df['count'].alias('#')).show()"
   ]
  },
  {
   "cell_type": "code",
   "execution_count": 25,
   "id": "f97abdb1-d16c-48b0-8c2d-8a6ca124cd38",
   "metadata": {
    "tags": []
   },
   "outputs": [
    {
     "data": {
      "application/vnd.jupyter.widget-view+json": {
       "model_id": "",
       "version_major": 2,
       "version_minor": 0
      },
      "text/plain": [
       "FloatProgress(value=0.0, bar_style='info', description='Progress:', layout=Layout(height='25px', width='50%'),…"
      ]
     },
     "metadata": {},
     "output_type": "display_data"
    }
   ],
   "source": [
    "flattened_df = blocks_df.select( \\\n",
    "                [col(f\"properties.{col_name}\").alias(col_name) for col_name in \\\n",
    "                blocks_df.schema[\"properties\"].dataType.fieldNames()] + [\"geometry\"]) \\\n",
    "            .drop(\"properties\") \\\n",
    "            .drop(\"type\")\n",
    "# Print schema"
   ]
  },
  {
   "cell_type": "code",
   "execution_count": 26,
   "id": "69ddacbe-cd93-4b6d-9389-1ffe47c77362",
   "metadata": {
    "tags": []
   },
   "outputs": [
    {
     "data": {
      "application/vnd.jupyter.widget-view+json": {
       "model_id": "",
       "version_major": 2,
       "version_minor": 0
      },
      "text/plain": [
       "FloatProgress(value=0.0, bar_style='info', description='Progress:', layout=Layout(height='25px', width='50%'),…"
      ]
     },
     "metadata": {},
     "output_type": "display_data"
    },
    {
     "name": "stdout",
     "output_type": "stream",
     "text": [
      "90290\n",
      "90067\n",
      "90808\n",
      "Time it took:0.013457775115966797\n",
      "97\n",
      "Time it took:0.008965730667114258\n",
      "+------------+-----+\n",
      "|Vict Descent|count|\n",
      "+------------+-----+\n",
      "|        NULL|    2|\n",
      "|           B|    5|\n",
      "|           H|    8|\n",
      "|           O|   15|\n",
      "|           X|    8|\n",
      "|           W|   57|\n",
      "|           A|    2|\n",
      "+------------+-----+"
     ]
    }
   ],
   "source": [
    "codes2 = [row[\"Zip Code\"] for row in res2]\n",
    "for code in codes2:\n",
    "    print(code)\n",
    "flattened_df = flattened_df.filter(col(\"ZCTA10\").isin(codes2))\n",
    "#res.show(10)\n",
    "\n",
    "start_time = time.time()\n",
    "result_df = flattened_df.join(\n",
    "    crime_2015,\n",
    "    ST_Contains(flattened_df[\"geometry\"], crime_2015[\"geom\"]),\n",
    "    \"inner\",  # Keep only the rows where the points are inside the polygons\n",
    ")\n",
    "end_time = time.time()\n",
    "print(f\"Time it took:{end_time-start_time}\")\n",
    "#result_df.show()\n",
    "print(result_df.count())\n",
    "start_time = time.time()\n",
    "grouped_df = result_df.groupBy('Vict Descent').count()\n",
    "end_time = time.time()\n",
    "print(f\"Time it took:{end_time-start_time}\")\n",
    "grouped_df.show()\n"
   ]
  },
  {
   "cell_type": "markdown",
   "id": "e5f5e0f2-d890-446d-b165-7a3329e6c5c3",
   "metadata": {},
   "source": [
    "Στατιστικά για τις 3 πιο φτωχές περιοχές"
   ]
  },
  {
   "cell_type": "code",
   "execution_count": 27,
   "id": "33793cf5-369a-4c3a-8994-af76a074e35a",
   "metadata": {
    "tags": []
   },
   "outputs": [
    {
     "data": {
      "application/vnd.jupyter.widget-view+json": {
       "model_id": "",
       "version_major": 2,
       "version_minor": 0
      },
      "text/plain": [
       "FloatProgress(value=0.0, bar_style='info', description='Progress:', layout=Layout(height='25px', width='50%'),…"
      ]
     },
     "metadata": {},
     "output_type": "display_data"
    },
    {
     "name": "stdout",
     "output_type": "stream",
     "text": [
      "Time it took:0.0041294097900390625\n",
      "+--------------------+---+\n",
      "|   Vict Descent Full|  #|\n",
      "+--------------------+---+\n",
      "|               Black|  5|\n",
      "|Hispanic/Latin/Me...|  8|\n",
      "|               Other| 15|\n",
      "|             Unknown|  8|\n",
      "|               White| 57|\n",
      "|         Other Asian|  2|\n",
      "+--------------------+---+"
     ]
    }
   ],
   "source": [
    "start_time = time.time()\n",
    "final_df = grouped_df.join(\n",
    "    df_race,\n",
    "    grouped_df['Vict Descent'] == df_race['Vict Descent'],\n",
    "    \"inner\")\n",
    "end_time = time.time()\n",
    "print(f\"Time it took:{end_time - start_time}\")\n",
    "final_df.select('Vict Descent Full',grouped_df['count'].alias('#')).show()\n",
    "#result_df.show(10)\n"
   ]
  }
 ],
 "metadata": {
  "kernelspec": {
   "display_name": "Sparkmagic (PySpark)",
   "language": "python",
   "name": "pysparkkernel"
  },
  "language_info": {
   "codemirror_mode": {
    "name": "python",
    "version": 3
   },
   "file_extension": ".py",
   "mimetype": "text/x-python",
   "name": "pyspark",
   "pygments_lexer": "python3"
  },
  "toc-showmarkdowntxt": true
 },
 "nbformat": 4,
 "nbformat_minor": 5
}
