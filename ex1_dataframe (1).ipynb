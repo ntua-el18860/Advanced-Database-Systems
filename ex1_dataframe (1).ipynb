{
 "cells": [
  {
   "cell_type": "markdown",
   "id": "52e4b16e-1f04-44eb-b5b4-62c1bf174ffa",
   "metadata": {},
   "source": [
    "## DataFrame API - Sorted AGGRAVATED ASSAULT CRIMES BY AGE GROUP"
   ]
  },
  {
   "cell_type": "code",
   "execution_count": 1,
   "id": "13984c89-6722-4eb5-b1c2-9d6032cb1468",
   "metadata": {
    "tags": []
   },
   "outputs": [
    {
     "name": "stdout",
     "output_type": "stream",
     "text": [
      "Starting Spark application\n"
     ]
    },
    {
     "data": {
      "text/html": [
       "<table>\n",
       "<tr><th>ID</th><th>YARN Application ID</th><th>Kind</th><th>State</th><th>Spark UI</th><th>Driver log</th><th>User</th><th>Current session?</th></tr><tr><td>3476</td><td>application_1732639283265_3432</td><td>pyspark</td><td>idle</td><td><a target=\"_blank\" href=\"http://ip-192-168-1-36.eu-central-1.compute.internal:20888/proxy/application_1732639283265_3432/\">Link</a></td><td><a target=\"_blank\" href=\"http://ip-192-168-1-227.eu-central-1.compute.internal:8042/node/containerlogs/container_1732639283265_3432_01_000001/livy\">Link</a></td><td>None</td><td>✔</td></tr></table>"
      ],
      "text/plain": [
       "<IPython.core.display.HTML object>"
      ]
     },
     "metadata": {},
     "output_type": "display_data"
    },
    {
     "data": {
      "application/vnd.jupyter.widget-view+json": {
       "model_id": "",
       "version_major": 2,
       "version_minor": 0
      },
      "text/plain": [
       "FloatProgress(value=0.0, bar_style='info', description='Progress:', layout=Layout(height='25px', width='50%'),…"
      ]
     },
     "metadata": {},
     "output_type": "display_data"
    },
    {
     "name": "stdout",
     "output_type": "stream",
     "text": [
      "SparkSession available as 'spark'.\n"
     ]
    },
    {
     "data": {
      "application/vnd.jupyter.widget-view+json": {
       "model_id": "",
       "version_major": 2,
       "version_minor": 0
      },
      "text/plain": [
       "FloatProgress(value=0.0, bar_style='info', description='Progress:', layout=Layout(height='25px', width='50%'),…"
      ]
     },
     "metadata": {},
     "output_type": "display_data"
    },
    {
     "name": "stdout",
     "output_type": "stream",
     "text": [
      "Schema of data_1\n",
      "root\n",
      " |-- DR_NO: string (nullable = true)\n",
      " |-- Date Rptd: string (nullable = true)\n",
      " |-- DATE OCC: string (nullable = true)\n",
      " |-- TIME OCC: string (nullable = true)\n",
      " |-- AREA : string (nullable = true)\n",
      " |-- AREA NAME: string (nullable = true)\n",
      " |-- Rpt Dist No: string (nullable = true)\n",
      " |-- Part 1-2: string (nullable = true)\n",
      " |-- Crm Cd: string (nullable = true)\n",
      " |-- Crm Cd Desc: string (nullable = true)\n",
      " |-- Mocodes: string (nullable = true)\n",
      " |-- Vict Age: string (nullable = true)\n",
      " |-- Vict Sex: string (nullable = true)\n",
      " |-- Vict Descent: string (nullable = true)\n",
      " |-- Premis Cd: string (nullable = true)\n",
      " |-- Premis Desc: string (nullable = true)\n",
      " |-- Weapon Used Cd: string (nullable = true)\n",
      " |-- Weapon Desc: string (nullable = true)\n",
      " |-- Status: string (nullable = true)\n",
      " |-- Status Desc: string (nullable = true)\n",
      " |-- Crm Cd 1: string (nullable = true)\n",
      " |-- Crm Cd 2: string (nullable = true)\n",
      " |-- Crm Cd 3: string (nullable = true)\n",
      " |-- Crm Cd 4: string (nullable = true)\n",
      " |-- LOCATION: string (nullable = true)\n",
      " |-- Cross Street: string (nullable = true)\n",
      " |-- LAT: string (nullable = true)\n",
      " |-- LON: string (nullable = true)\n",
      "\n",
      "Schema of data_2\n",
      "root\n",
      " |-- DR_NO: string (nullable = true)\n",
      " |-- Date Rptd: string (nullable = true)\n",
      " |-- DATE OCC: string (nullable = true)\n",
      " |-- TIME OCC: string (nullable = true)\n",
      " |-- AREA: string (nullable = true)\n",
      " |-- AREA NAME: string (nullable = true)\n",
      " |-- Rpt Dist No: string (nullable = true)\n",
      " |-- Part 1-2: string (nullable = true)\n",
      " |-- Crm Cd: string (nullable = true)\n",
      " |-- Crm Cd Desc: string (nullable = true)\n",
      " |-- Mocodes: string (nullable = true)\n",
      " |-- Vict Age: string (nullable = true)\n",
      " |-- Vict Sex: string (nullable = true)\n",
      " |-- Vict Descent: string (nullable = true)\n",
      " |-- Premis Cd: string (nullable = true)\n",
      " |-- Premis Desc: string (nullable = true)\n",
      " |-- Weapon Used Cd: string (nullable = true)\n",
      " |-- Weapon Desc: string (nullable = true)\n",
      " |-- Status: string (nullable = true)\n",
      " |-- Status Desc: string (nullable = true)\n",
      " |-- Crm Cd 1: string (nullable = true)\n",
      " |-- Crm Cd 2: string (nullable = true)\n",
      " |-- Crm Cd 3: string (nullable = true)\n",
      " |-- Crm Cd 4: string (nullable = true)\n",
      " |-- LOCATION: string (nullable = true)\n",
      " |-- Cross Street: string (nullable = true)\n",
      " |-- LAT: string (nullable = true)\n",
      " |-- LON: string (nullable = true)"
     ]
    }
   ],
   "source": [
    "from pyspark.sql import SparkSession\n",
    "from pyspark.sql.functions import col\n",
    "import time\n",
    "\n",
    "# Δημιουργία SparkSession\n",
    "spark = SparkSession \\\n",
    "    .builder \\\n",
    "    .appName(\"Query 1 execution\") \\\n",
    "    .config(\"spark.executor.instances\", \"4\") \\\n",
    "    .getOrCreate()\n",
    "\n",
    "# Φόρτωση δεδομένων από CSV\n",
    "data = spark.read.csv(\n",
    "    \"s3://initial-notebook-data-bucket-dblab-905418150721/CrimeData/Crime_Data_from_2010_to_2019_20241101.csv\",\n",
    "    header='true'\n",
    ")\n",
    "data_2 = spark.read.csv(\n",
    "    \"s3://initial-notebook-data-bucket-dblab-905418150721/CrimeData/Crime_Data_from_2020_to_Present_20241101.csv\",\n",
    "    header='true'\n",
    ")\n",
    "print(\"Schema of data_1\")\n",
    "data.printSchema()\n",
    "\n",
    "print(\"Schema of data_2\")\n",
    "data_2.printSchema()"
   ]
  },
  {
   "cell_type": "code",
   "execution_count": 2,
   "id": "972f319b-e2f2-4d5b-a6de-b61c2b9533a8",
   "metadata": {
    "tags": []
   },
   "outputs": [
    {
     "data": {
      "application/vnd.jupyter.widget-view+json": {
       "model_id": "",
       "version_major": 2,
       "version_minor": 0
      },
      "text/plain": [
       "FloatProgress(value=0.0, bar_style='info', description='Progress:', layout=Layout(height='25px', width='50%'),…"
      ]
     },
     "metadata": {},
     "output_type": "display_data"
    },
    {
     "name": "stdout",
     "output_type": "stream",
     "text": [
      "Row(DR_NO='200808494', Vict_Age=120, Crm Cd Desc='ASSAULT WITH DEADLY WEAPON, AGGRAVATED ASSAULT')\n",
      "Row(DR_NO='180713962', Vict_Age=99, Crm Cd Desc='INTIMATE PARTNER - AGGRAVATED ASSAULT')\n",
      "Row(DR_NO='101408873', Vict_Age=99, Crm Cd Desc='ASSAULT WITH DEADLY WEAPON, AGGRAVATED ASSAULT')\n",
      "Row(DR_NO='180412016', Vict_Age=99, Crm Cd Desc='ASSAULT WITH DEADLY WEAPON, AGGRAVATED ASSAULT')\n",
      "Row(DR_NO='170207284', Vict_Age=99, Crm Cd Desc='ASSAULT WITH DEADLY WEAPON, AGGRAVATED ASSAULT')\n",
      "Row(DR_NO='131209628', Vict_Age=99, Crm Cd Desc='ASSAULT WITH DEADLY WEAPON, AGGRAVATED ASSAULT')\n",
      "Row(DR_NO='170132132', Vict_Age=99, Crm Cd Desc='ASSAULT WITH DEADLY WEAPON, AGGRAVATED ASSAULT')\n",
      "Row(DR_NO='191406441', Vict_Age=99, Crm Cd Desc='ASSAULT WITH DEADLY WEAPON, AGGRAVATED ASSAULT')\n",
      "Row(DR_NO='171805899', Vict_Age=99, Crm Cd Desc='ASSAULT WITH DEADLY WEAPON, AGGRAVATED ASSAULT')\n",
      "Row(DR_NO='131012876', Vict_Age=99, Crm Cd Desc='ASSAULT WITH DEADLY WEAPON, AGGRAVATED ASSAULT')\n",
      "Row(DR_NO='140511426', Vict_Age=99, Crm Cd Desc='ASSAULT WITH DEADLY WEAPON, AGGRAVATED ASSAULT')\n",
      "Row(DR_NO='132005705', Vict_Age=99, Crm Cd Desc='ASSAULT WITH DEADLY WEAPON, AGGRAVATED ASSAULT')\n",
      "Row(DR_NO='191004453', Vict_Age=99, Crm Cd Desc='ASSAULT WITH DEADLY WEAPON, AGGRAVATED ASSAULT')\n",
      "Row(DR_NO='122117683', Vict_Age=99, Crm Cd Desc='ASSAULT WITH DEADLY WEAPON, AGGRAVATED ASSAULT')\n",
      "Row(DR_NO='190323894', Vict_Age=99, Crm Cd Desc='INTIMATE PARTNER - AGGRAVATED ASSAULT')\n",
      "Row(DR_NO='160108922', Vict_Age=99, Crm Cd Desc='ASSAULT WITH DEADLY WEAPON, AGGRAVATED ASSAULT')\n",
      "Row(DR_NO='191000673', Vict_Age=99, Crm Cd Desc='ASSAULT WITH DEADLY WEAPON, AGGRAVATED ASSAULT')\n",
      "Row(DR_NO='180121778', Vict_Age=99, Crm Cd Desc='INTIMATE PARTNER - AGGRAVATED ASSAULT')\n",
      "Row(DR_NO='191221126', Vict_Age=99, Crm Cd Desc='ASSAULT WITH DEADLY WEAPON, AGGRAVATED ASSAULT')\n",
      "Row(DR_NO='160509846', Vict_Age=99, Crm Cd Desc='ASSAULT WITH DEADLY WEAPON, AGGRAVATED ASSAULT')"
     ]
    }
   ],
   "source": [
    "# Χρονική μέτρηση\n",
    "start_time = time.time()\n",
    "\n",
    "# Φιλτράρισμα δεδομένων για να περιλαμβάνει μόνο ακέραιες τιμές στη στήλη \"Vict Age\" και ηλικίες από 65 και πάνω\n",
    "filtered_data = data.filter(\n",
    "    (data[\"Crm Cd Desc\"].isin(\n",
    "        \"ASSAULT WITH DEADLY WEAPON, AGGRAVATED ASSAULT\",\n",
    "        \"INTIMATE PARTNER - AGGRAVATED ASSAULT\"\n",
    "    )) & \n",
    "    (data[\"Vict Age\"].rlike(\"^[0-9]+$\")) &  # Έλεγχος αν το \"Vict Age\" περιέχει μόνο αριθμούς\n",
    "    (data[\"Vict Age\"].cast(\"int\").between(65, float('inf')))  # Επιπλέον φίλτρο για ηλικίες 65 και πάνω\n",
    ").select(\n",
    "    data[\"DR_NO\"],\n",
    "    data[\"Vict Age\"].cast(\"int\").alias(\"Vict_Age\"),\n",
    "    data[\"Crm Cd Desc\"]\n",
    ")\n",
    "\n",
    "# Φιλτράρισμα δεδομένων για το δεύτερο DataFrame με παρόμοιο τρόπο\n",
    "filtered_data_2 = data_2.filter(\n",
    "    (data_2[\"Crm Cd Desc\"].isin(\n",
    "        \"ASSAULT WITH DEADLY WEAPON, AGGRAVATED ASSAULT\",\n",
    "        \"INTIMATE PARTNER - AGGRAVATED ASSAULT\"\n",
    "    )) & \n",
    "    (data_2[\"Vict Age\"].rlike(\"^[0-9]+$\")) &  # Έλεγχος αν το \"Vict Age\" περιέχει μόνο αριθμούς\n",
    "    (data_2[\"Vict Age\"].cast(\"int\").between(65, float('inf')))  # Επιπλέον φίλτρο για ηλικίες 65 και πάνω\n",
    ").select(\n",
    "    data_2[\"DR_NO\"],\n",
    "    data_2[\"Vict Age\"].cast(\"int\").alias(\"Vict_Age\"),\n",
    "    data_2[\"Crm Cd Desc\"]\n",
    ")\n",
    "\n",
    "# Συνένωση των φιλτραρισμένων δεδομένων\n",
    "combined_data = filtered_data.union(filtered_data_2)\n",
    "\n",
    "# Ταξινόμηση με βάση την ηλικία\n",
    "sorted_data = combined_data.orderBy(combined_data[\"Vict_Age\"].desc())\n",
    "\n",
    "for item in sorted_data.take(20):\n",
    "    print(item)"
   ]
  },
  {
   "cell_type": "code",
   "execution_count": 3,
   "id": "39f01007-4c26-40b8-ac58-247b421b754f",
   "metadata": {
    "tags": []
   },
   "outputs": [
    {
     "data": {
      "application/vnd.jupyter.widget-view+json": {
       "model_id": "",
       "version_major": 2,
       "version_minor": 0
      },
      "text/plain": [
       "FloatProgress(value=0.0, bar_style='info', description='Progress:', layout=Layout(height='25px', width='50%'),…"
      ]
     },
     "metadata": {},
     "output_type": "display_data"
    },
    {
     "name": "stdout",
     "output_type": "stream",
     "text": [
      "Row(DR_NO='131805923', Vict_Age=64, Crm Cd Desc='INTIMATE PARTNER - AGGRAVATED ASSAULT')\n",
      "Row(DR_NO='170304120', Vict_Age=64, Crm Cd Desc='ASSAULT WITH DEADLY WEAPON, AGGRAVATED ASSAULT')\n",
      "Row(DR_NO='231406706', Vict_Age=64, Crm Cd Desc='ASSAULT WITH DEADLY WEAPON, AGGRAVATED ASSAULT')\n",
      "Row(DR_NO='160315156', Vict_Age=64, Crm Cd Desc='ASSAULT WITH DEADLY WEAPON, AGGRAVATED ASSAULT')\n",
      "Row(DR_NO='231910301', Vict_Age=64, Crm Cd Desc='ASSAULT WITH DEADLY WEAPON, AGGRAVATED ASSAULT')\n",
      "Row(DR_NO='160117989', Vict_Age=64, Crm Cd Desc='ASSAULT WITH DEADLY WEAPON, AGGRAVATED ASSAULT')\n",
      "Row(DR_NO='230311571', Vict_Age=64, Crm Cd Desc='ASSAULT WITH DEADLY WEAPON, AGGRAVATED ASSAULT')\n",
      "Row(DR_NO='160210743', Vict_Age=64, Crm Cd Desc='ASSAULT WITH DEADLY WEAPON, AGGRAVATED ASSAULT')\n",
      "Row(DR_NO='231517681', Vict_Age=64, Crm Cd Desc='ASSAULT WITH DEADLY WEAPON, AGGRAVATED ASSAULT')\n",
      "Row(DR_NO='161317074', Vict_Age=64, Crm Cd Desc='ASSAULT WITH DEADLY WEAPON, AGGRAVATED ASSAULT')\n",
      "Row(DR_NO='231008517', Vict_Age=64, Crm Cd Desc='ASSAULT WITH DEADLY WEAPON, AGGRAVATED ASSAULT')\n",
      "Row(DR_NO='160128347', Vict_Age=64, Crm Cd Desc='ASSAULT WITH DEADLY WEAPON, AGGRAVATED ASSAULT')\n",
      "Row(DR_NO='231807526', Vict_Age=64, Crm Cd Desc='INTIMATE PARTNER - AGGRAVATED ASSAULT')\n",
      "Row(DR_NO='161307598', Vict_Age=64, Crm Cd Desc='ASSAULT WITH DEADLY WEAPON, AGGRAVATED ASSAULT')\n",
      "Row(DR_NO='231707571', Vict_Age=64, Crm Cd Desc='ASSAULT WITH DEADLY WEAPON, AGGRAVATED ASSAULT')\n",
      "Row(DR_NO='161305222', Vict_Age=64, Crm Cd Desc='ASSAULT WITH DEADLY WEAPON, AGGRAVATED ASSAULT')\n",
      "Row(DR_NO='110112775', Vict_Age=64, Crm Cd Desc='ASSAULT WITH DEADLY WEAPON, AGGRAVATED ASSAULT')\n",
      "Row(DR_NO='161106913', Vict_Age=64, Crm Cd Desc='ASSAULT WITH DEADLY WEAPON, AGGRAVATED ASSAULT')\n",
      "Row(DR_NO='230409174', Vict_Age=64, Crm Cd Desc='ASSAULT WITH DEADLY WEAPON, AGGRAVATED ASSAULT')\n",
      "Row(DR_NO='160110377', Vict_Age=64, Crm Cd Desc='ASSAULT WITH DEADLY WEAPON, AGGRAVATED ASSAULT')"
     ]
    }
   ],
   "source": [
    "# Φιλτράρισμα δεδομένων για να περιλαμβάνει μόνο ακέραιες τιμές στη στήλη \"Vict Age\" και ηλικίες από 25 έως 64\n",
    "filtered_data = data.filter(\n",
    "    (data[\"Crm Cd Desc\"].isin(\n",
    "        \"ASSAULT WITH DEADLY WEAPON, AGGRAVATED ASSAULT\",\n",
    "        \"INTIMATE PARTNER - AGGRAVATED ASSAULT\"\n",
    "    )) & \n",
    "    (data[\"Vict Age\"].rlike(\"^[0-9]+$\")) &  # Έλεγχος αν το \"Vict Age\" περιέχει μόνο αριθμούς\n",
    "    (data[\"Vict Age\"].cast(\"int\").between(25, 64))  # Επιπλέον φίλτρο για ηλικίες 25-64\n",
    ").select(\n",
    "    data[\"DR_NO\"],\n",
    "    data[\"Vict Age\"].cast(\"int\").alias(\"Vict_Age\"),\n",
    "    data[\"Crm Cd Desc\"]\n",
    ")\n",
    "\n",
    "# Φιλτράρισμα δεδομένων για το δεύτερο DataFrame με παρόμοιο τρόπο\n",
    "filtered_data_2 = data_2.filter(\n",
    "    (data_2[\"Crm Cd Desc\"].isin(\n",
    "        \"ASSAULT WITH DEADLY WEAPON, AGGRAVATED ASSAULT\",\n",
    "        \"INTIMATE PARTNER - AGGRAVATED ASSAULT\"\n",
    "    )) & \n",
    "    (data_2[\"Vict Age\"].rlike(\"^[0-9]+$\")) &  # Έλεγχος αν το \"Vict Age\" περιέχει μόνο αριθμούς\n",
    "    (data_2[\"Vict Age\"].cast(\"int\").between(25, 64))  # Επιπλέον φίλτρο για ηλικίες 25-64\n",
    ").select(\n",
    "    data_2[\"DR_NO\"],\n",
    "    data_2[\"Vict Age\"].cast(\"int\").alias(\"Vict_Age\"),\n",
    "    data_2[\"Crm Cd Desc\"]\n",
    ")\n",
    "\n",
    "# Συνένωση των φιλτραρισμένων δεδομένων\n",
    "combined_data = filtered_data.union(filtered_data_2)\n",
    "\n",
    "# Ταξινόμηση με βάση την ηλικία\n",
    "sorted_data = combined_data.orderBy(combined_data[\"Vict_Age\"].desc())\n",
    "\n",
    "for item in sorted_data.take(20):\n",
    "    print(item)"
   ]
  },
  {
   "cell_type": "code",
   "execution_count": 4,
   "id": "365e0f6e-783e-46d1-a0c4-edce34e5e828",
   "metadata": {
    "tags": []
   },
   "outputs": [
    {
     "data": {
      "application/vnd.jupyter.widget-view+json": {
       "model_id": "",
       "version_major": 2,
       "version_minor": 0
      },
      "text/plain": [
       "FloatProgress(value=0.0, bar_style='info', description='Progress:', layout=Layout(height='25px', width='50%'),…"
      ]
     },
     "metadata": {},
     "output_type": "display_data"
    },
    {
     "name": "stdout",
     "output_type": "stream",
     "text": [
      "Row(DR_NO='101918849', Vict_Age=24, Crm Cd Desc='ASSAULT WITH DEADLY WEAPON, AGGRAVATED ASSAULT')\n",
      "Row(DR_NO='221816811', Vict_Age=24, Crm Cd Desc='ASSAULT WITH DEADLY WEAPON, AGGRAVATED ASSAULT')\n",
      "Row(DR_NO='221813012', Vict_Age=24, Crm Cd Desc='ASSAULT WITH DEADLY WEAPON, AGGRAVATED ASSAULT')\n",
      "Row(DR_NO='222005646', Vict_Age=24, Crm Cd Desc='INTIMATE PARTNER - AGGRAVATED ASSAULT')\n",
      "Row(DR_NO='230400960', Vict_Age=24, Crm Cd Desc='INTIMATE PARTNER - AGGRAVATED ASSAULT')\n",
      "Row(DR_NO='221909539', Vict_Age=24, Crm Cd Desc='ASSAULT WITH DEADLY WEAPON, AGGRAVATED ASSAULT')\n",
      "Row(DR_NO='221821668', Vict_Age=24, Crm Cd Desc='INTIMATE PARTNER - AGGRAVATED ASSAULT')\n",
      "Row(DR_NO='220900927', Vict_Age=24, Crm Cd Desc='ASSAULT WITH DEADLY WEAPON, AGGRAVATED ASSAULT')\n",
      "Row(DR_NO='231301013', Vict_Age=24, Crm Cd Desc='ASSAULT WITH DEADLY WEAPON, AGGRAVATED ASSAULT')\n",
      "Row(DR_NO='220319017', Vict_Age=24, Crm Cd Desc='ASSAULT WITH DEADLY WEAPON, AGGRAVATED ASSAULT')\n",
      "Row(DR_NO='220414808', Vict_Age=24, Crm Cd Desc='ASSAULT WITH DEADLY WEAPON, AGGRAVATED ASSAULT')\n",
      "Row(DR_NO='222009621', Vict_Age=24, Crm Cd Desc='INTIMATE PARTNER - AGGRAVATED ASSAULT')\n",
      "Row(DR_NO='231805403', Vict_Age=24, Crm Cd Desc='ASSAULT WITH DEADLY WEAPON, AGGRAVATED ASSAULT')\n",
      "Row(DR_NO='220904198', Vict_Age=24, Crm Cd Desc='ASSAULT WITH DEADLY WEAPON, AGGRAVATED ASSAULT')\n",
      "Row(DR_NO='220517132', Vict_Age=24, Crm Cd Desc='ASSAULT WITH DEADLY WEAPON, AGGRAVATED ASSAULT')\n",
      "Row(DR_NO='221913505', Vict_Age=24, Crm Cd Desc='ASSAULT WITH DEADLY WEAPON, AGGRAVATED ASSAULT')\n",
      "Row(DR_NO='232010587', Vict_Age=24, Crm Cd Desc='ASSAULT WITH DEADLY WEAPON, AGGRAVATED ASSAULT')\n",
      "Row(DR_NO='220811263', Vict_Age=24, Crm Cd Desc='INTIMATE PARTNER - AGGRAVATED ASSAULT')\n",
      "Row(DR_NO='220211360', Vict_Age=24, Crm Cd Desc='ASSAULT WITH DEADLY WEAPON, AGGRAVATED ASSAULT')\n",
      "Row(DR_NO='221420847', Vict_Age=24, Crm Cd Desc='ASSAULT WITH DEADLY WEAPON, AGGRAVATED ASSAULT')"
     ]
    }
   ],
   "source": [
    "# Φιλτράρισμα δεδομένων για να περιλαμβάνει μόνο ακέραιες τιμές στη στήλη \"Vict Age\" και ηλικίες από 18 έως 24\n",
    "filtered_data = data.filter(\n",
    "    (data[\"Crm Cd Desc\"].isin(\n",
    "        \"ASSAULT WITH DEADLY WEAPON, AGGRAVATED ASSAULT\",\n",
    "        \"INTIMATE PARTNER - AGGRAVATED ASSAULT\"\n",
    "    )) & \n",
    "    (data[\"Vict Age\"].rlike(\"^[0-9]+$\")) &  # Έλεγχος αν το \"Vict Age\" περιέχει μόνο αριθμούς\n",
    "    (data[\"Vict Age\"].cast(\"int\").between(18, 24))  # Επιπλέον φίλτρο για ηλικίες 18-24\n",
    ").select(\n",
    "    data[\"DR_NO\"],\n",
    "    data[\"Vict Age\"].cast(\"int\").alias(\"Vict_Age\"),\n",
    "    data[\"Crm Cd Desc\"]\n",
    ")\n",
    "\n",
    "# Φιλτράρισμα δεδομένων για το δεύτερο DataFrame με παρόμοιο τρόπο\n",
    "filtered_data_2 = data_2.filter(\n",
    "    (data_2[\"Crm Cd Desc\"].isin(\n",
    "        \"ASSAULT WITH DEADLY WEAPON, AGGRAVATED ASSAULT\",\n",
    "        \"INTIMATE PARTNER - AGGRAVATED ASSAULT\"\n",
    "    )) & \n",
    "    (data_2[\"Vict Age\"].rlike(\"^[0-9]+$\")) &  # Έλεγχος αν το \"Vict Age\" περιέχει μόνο αριθμούς\n",
    "    (data_2[\"Vict Age\"].cast(\"int\").between(18, 24))  # Επιπλέον φίλτρο για ηλικίες 18-24\n",
    ").select(\n",
    "    data_2[\"DR_NO\"],\n",
    "    data_2[\"Vict Age\"].cast(\"int\").alias(\"Vict_Age\"),\n",
    "    data_2[\"Crm Cd Desc\"]\n",
    ")\n",
    "\n",
    "# Συνένωση των φιλτραρισμένων δεδομένων\n",
    "combined_data = filtered_data.union(filtered_data_2)\n",
    "\n",
    "# Ταξινόμηση με βάση την ηλικία\n",
    "sorted_data = combined_data.orderBy(combined_data[\"Vict_Age\"].desc())\n",
    "\n",
    "for item in sorted_data.take(20):\n",
    "    print(item)"
   ]
  },
  {
   "cell_type": "code",
   "execution_count": 5,
   "id": "72c8183e-b495-4aa9-8382-9691f4a5ee4d",
   "metadata": {
    "tags": []
   },
   "outputs": [
    {
     "data": {
      "application/vnd.jupyter.widget-view+json": {
       "model_id": "",
       "version_major": 2,
       "version_minor": 0
      },
      "text/plain": [
       "FloatProgress(value=0.0, bar_style='info', description='Progress:', layout=Layout(height='25px', width='50%'),…"
      ]
     },
     "metadata": {},
     "output_type": "display_data"
    },
    {
     "name": "stdout",
     "output_type": "stream",
     "text": [
      "Row(DR_NO='161217859', Vict_Age=17, Crm Cd Desc='ASSAULT WITH DEADLY WEAPON, AGGRAVATED ASSAULT')\n",
      "Row(DR_NO='231700766', Vict_Age=17, Crm Cd Desc='ASSAULT WITH DEADLY WEAPON, AGGRAVATED ASSAULT')\n",
      "Row(DR_NO='220901179', Vict_Age=17, Crm Cd Desc='ASSAULT WITH DEADLY WEAPON, AGGRAVATED ASSAULT')\n",
      "Row(DR_NO='231205118', Vict_Age=17, Crm Cd Desc='ASSAULT WITH DEADLY WEAPON, AGGRAVATED ASSAULT')\n",
      "Row(DR_NO='211107303', Vict_Age=17, Crm Cd Desc='INTIMATE PARTNER - AGGRAVATED ASSAULT')\n",
      "Row(DR_NO='232108079', Vict_Age=17, Crm Cd Desc='ASSAULT WITH DEADLY WEAPON, AGGRAVATED ASSAULT')\n",
      "Row(DR_NO='221000545', Vict_Age=17, Crm Cd Desc='ASSAULT WITH DEADLY WEAPON, AGGRAVATED ASSAULT')\n",
      "Row(DR_NO='231604081', Vict_Age=17, Crm Cd Desc='ASSAULT WITH DEADLY WEAPON, AGGRAVATED ASSAULT')\n",
      "Row(DR_NO='240307102', Vict_Age=17, Crm Cd Desc='ASSAULT WITH DEADLY WEAPON, AGGRAVATED ASSAULT')\n",
      "Row(DR_NO='230400866', Vict_Age=17, Crm Cd Desc='ASSAULT WITH DEADLY WEAPON, AGGRAVATED ASSAULT')\n",
      "Row(DR_NO='221205673', Vict_Age=17, Crm Cd Desc='ASSAULT WITH DEADLY WEAPON, AGGRAVATED ASSAULT')\n",
      "Row(DR_NO='231300518', Vict_Age=17, Crm Cd Desc='INTIMATE PARTNER - AGGRAVATED ASSAULT')\n",
      "Row(DR_NO='211804596', Vict_Age=17, Crm Cd Desc='ASSAULT WITH DEADLY WEAPON, AGGRAVATED ASSAULT')\n",
      "Row(DR_NO='231225230', Vict_Age=17, Crm Cd Desc='ASSAULT WITH DEADLY WEAPON, AGGRAVATED ASSAULT')\n",
      "Row(DR_NO='221715277', Vict_Age=17, Crm Cd Desc='ASSAULT WITH DEADLY WEAPON, AGGRAVATED ASSAULT')\n",
      "Row(DR_NO='231116873', Vict_Age=17, Crm Cd Desc='ASSAULT WITH DEADLY WEAPON, AGGRAVATED ASSAULT')\n",
      "Row(DR_NO='231222137', Vict_Age=17, Crm Cd Desc='ASSAULT WITH DEADLY WEAPON, AGGRAVATED ASSAULT')\n",
      "Row(DR_NO='231305275', Vict_Age=17, Crm Cd Desc='ASSAULT WITH DEADLY WEAPON, AGGRAVATED ASSAULT')\n",
      "Row(DR_NO='220314149', Vict_Age=17, Crm Cd Desc='ASSAULT WITH DEADLY WEAPON, AGGRAVATED ASSAULT')\n",
      "Row(DR_NO='231011617', Vict_Age=17, Crm Cd Desc='ASSAULT WITH DEADLY WEAPON, AGGRAVATED ASSAULT')\n",
      "Time taken: 14.28 seconds"
     ]
    }
   ],
   "source": [
    "# Φιλτράρισμα δεδομένων για να περιλαμβάνει μόνο ακέραιες τιμές στη στήλη \"Vict Age\" και ηλικίες από 0 έως 17\n",
    "filtered_data = data.filter(\n",
    "    (data[\"Crm Cd Desc\"].isin(\n",
    "        \"ASSAULT WITH DEADLY WEAPON, AGGRAVATED ASSAULT\",\n",
    "        \"INTIMATE PARTNER - AGGRAVATED ASSAULT\"\n",
    "    )) & \n",
    "    (data[\"Vict Age\"].rlike(\"^[0-9]+$\")) &  # Έλεγχος αν το \"Vict Age\" περιέχει μόνο αριθμούς\n",
    "    (data[\"Vict Age\"].cast(\"int\").between(0, 17))  # Επιπλέον φίλτρο για ηλικίες 0-17\n",
    ").select(\n",
    "    data[\"DR_NO\"],\n",
    "    data[\"Vict Age\"].cast(\"int\").alias(\"Vict_Age\"),\n",
    "    data[\"Crm Cd Desc\"]\n",
    ")\n",
    "\n",
    "# Φιλτράρισμα δεδομένων για το δεύτερο DataFrame με παρόμοιο τρόπο\n",
    "filtered_data_2 = data_2.filter(\n",
    "    (data_2[\"Crm Cd Desc\"].isin(\n",
    "        \"ASSAULT WITH DEADLY WEAPON, AGGRAVATED ASSAULT\",\n",
    "        \"INTIMATE PARTNER - AGGRAVATED ASSAULT\"\n",
    "    )) & \n",
    "    (data_2[\"Vict Age\"].rlike(\"^[0-9]+$\")) &  # Έλεγχος αν το \"Vict Age\" περιέχει μόνο αριθμούς\n",
    "    (data_2[\"Vict Age\"].cast(\"int\").between(0, 17))  # Επιπλέον φίλτρο για ηλικίες 0-17\n",
    ").select(\n",
    "    data_2[\"DR_NO\"],\n",
    "    data_2[\"Vict Age\"].cast(\"int\").alias(\"Vict_Age\"),\n",
    "    data_2[\"Crm Cd Desc\"]\n",
    ")\n",
    "\n",
    "# Συνένωση των φιλτραρισμένων δεδομένων\n",
    "combined_data = filtered_data.union(filtered_data_2)\n",
    "\n",
    "# Ταξινόμηση με βάση την ηλικία\n",
    "sorted_data = combined_data.orderBy(combined_data[\"Vict_Age\"].desc())\n",
    "\n",
    "for item in sorted_data.take(20):\n",
    "    print(item)\n",
    "\n",
    "end_time = time.time()\n",
    "elapsed_time = end_time - start_time\n",
    "print(f\"Time taken: {elapsed_time:.2f} seconds\")\n"
   ]
  }
 ],
 "metadata": {
  "kernelspec": {
   "display_name": "Sparkmagic (PySpark)",
   "language": "python",
   "name": "pysparkkernel"
  },
  "language_info": {
   "codemirror_mode": {
    "name": "python",
    "version": 3
   },
   "file_extension": ".py",
   "mimetype": "text/x-python",
   "name": "pyspark",
   "pygments_lexer": "python3"
  }
 },
 "nbformat": 4,
 "nbformat_minor": 5
}
