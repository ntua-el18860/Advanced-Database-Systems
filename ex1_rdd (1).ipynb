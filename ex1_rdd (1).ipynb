{
 "cells": [
  {
   "cell_type": "code",
   "execution_count": 1,
   "id": "6ecaf78b-c891-4c58-add6-30737c0a2dcb",
   "metadata": {
    "tags": []
   },
   "outputs": [
    {
     "name": "stdout",
     "output_type": "stream",
     "text": [
      "Starting Spark application\n"
     ]
    },
    {
     "data": {
      "text/html": [
       "<table>\n",
       "<tr><th>ID</th><th>YARN Application ID</th><th>Kind</th><th>State</th><th>Spark UI</th><th>Driver log</th><th>User</th><th>Current session?</th></tr><tr><td>3474</td><td>application_1732639283265_3430</td><td>pyspark</td><td>idle</td><td><a target=\"_blank\" href=\"http://ip-192-168-1-36.eu-central-1.compute.internal:20888/proxy/application_1732639283265_3430/\">Link</a></td><td><a target=\"_blank\" href=\"http://ip-192-168-1-119.eu-central-1.compute.internal:8042/node/containerlogs/container_1732639283265_3430_01_000001/livy\">Link</a></td><td>None</td><td>✔</td></tr></table>"
      ],
      "text/plain": [
       "<IPython.core.display.HTML object>"
      ]
     },
     "metadata": {},
     "output_type": "display_data"
    },
    {
     "data": {
      "application/vnd.jupyter.widget-view+json": {
       "model_id": "",
       "version_major": 2,
       "version_minor": 0
      },
      "text/plain": [
       "FloatProgress(value=0.0, bar_style='info', description='Progress:', layout=Layout(height='25px', width='50%'),…"
      ]
     },
     "metadata": {},
     "output_type": "display_data"
    },
    {
     "name": "stdout",
     "output_type": "stream",
     "text": [
      "SparkSession available as 'spark'.\n"
     ]
    },
    {
     "data": {
      "application/vnd.jupyter.widget-view+json": {
       "model_id": "",
       "version_major": 2,
       "version_minor": 0
      },
      "text/plain": [
       "FloatProgress(value=0.0, bar_style='info', description='Progress:', layout=Layout(height='25px', width='50%'),…"
      ]
     },
     "metadata": {},
     "output_type": "display_data"
    },
    {
     "name": "stdout",
     "output_type": "stream",
     "text": [
      "root\n",
      " |-- DR_NO: integer (nullable = true)\n",
      " |-- Date Rptd: string (nullable = true)\n",
      " |-- DATE OCC: string (nullable = true)\n",
      " |-- TIME OCC: integer (nullable = true)\n",
      " |-- AREA : integer (nullable = true)\n",
      " |-- AREA NAME: string (nullable = true)\n",
      " |-- Rpt Dist No: integer (nullable = true)\n",
      " |-- Part 1-2: integer (nullable = true)\n",
      " |-- Crm Cd: integer (nullable = true)\n",
      " |-- Crm Cd Desc: string (nullable = true)\n",
      " |-- Mocodes: string (nullable = true)\n",
      " |-- Vict Age: integer (nullable = true)\n",
      " |-- Vict Sex: string (nullable = true)\n",
      " |-- Vict Descent: string (nullable = true)\n",
      " |-- Premis Cd: integer (nullable = true)\n",
      " |-- Premis Desc: string (nullable = true)\n",
      " |-- Weapon Used Cd: integer (nullable = true)\n",
      " |-- Weapon Desc: string (nullable = true)\n",
      " |-- Status: string (nullable = true)\n",
      " |-- Status Desc: string (nullable = true)\n",
      " |-- Crm Cd 1: integer (nullable = true)\n",
      " |-- Crm Cd 2: integer (nullable = true)\n",
      " |-- Crm Cd 3: integer (nullable = true)\n",
      " |-- Crm Cd 4: integer (nullable = true)\n",
      " |-- LOCATION: string (nullable = true)\n",
      " |-- Cross Street: string (nullable = true)\n",
      " |-- LAT: double (nullable = true)\n",
      " |-- LON: double (nullable = true)"
     ]
    }
   ],
   "source": [
    "from pyspark.sql import SparkSession\n",
    "import time\n",
    "\n",
    "sc = SparkSession \\\n",
    "    .builder \\\n",
    "    .appName(\"RDD query 1 execution\") \\\n",
    "    .config(\"spark.executor.instances\", \"4\") \\\n",
    "    .getOrCreate() \\\n",
    "    .sparkContext\n",
    "\n",
    "# Load the CSV data\n",
    "data_path = 's3://initial-notebook-data-bucket-dblab-905418150721/CrimeData/Crime_Data_from_2010_to_2019_20241101.csv'\n",
    "\n",
    "df = spark.read.csv(data_path, header=True, inferSchema=True)\n",
    "\n",
    "# Print the schema of the dataframe\n",
    "df.printSchema()\n"
   ]
  },
  {
   "cell_type": "code",
   "execution_count": 2,
   "id": "cc098e47-4339-496a-96ba-38ee3cedccb1",
   "metadata": {
    "tags": []
   },
   "outputs": [
    {
     "data": {
      "application/vnd.jupyter.widget-view+json": {
       "model_id": "",
       "version_major": 2,
       "version_minor": 0
      },
      "text/plain": [
       "FloatProgress(value=0.0, bar_style='info', description='Progress:', layout=Layout(height='25px', width='50%'),…"
      ]
     },
     "metadata": {},
     "output_type": "display_data"
    },
    {
     "name": "stdout",
     "output_type": "stream",
     "text": [
      "root\n",
      " |-- DR_NO: integer (nullable = true)\n",
      " |-- Date Rptd: string (nullable = true)\n",
      " |-- DATE OCC: string (nullable = true)\n",
      " |-- TIME OCC: integer (nullable = true)\n",
      " |-- AREA : integer (nullable = true)\n",
      " |-- AREA NAME: string (nullable = true)\n",
      " |-- Rpt Dist No: integer (nullable = true)\n",
      " |-- Part 1-2: integer (nullable = true)\n",
      " |-- Crm Cd: integer (nullable = true)\n",
      " |-- Crm Cd Desc: string (nullable = true)\n",
      " |-- Mocodes: string (nullable = true)\n",
      " |-- Vict Age: integer (nullable = true)\n",
      " |-- Vict Sex: string (nullable = true)\n",
      " |-- Vict Descent: string (nullable = true)\n",
      " |-- Premis Cd: integer (nullable = true)\n",
      " |-- Premis Desc: string (nullable = true)\n",
      " |-- Weapon Used Cd: integer (nullable = true)\n",
      " |-- Weapon Desc: string (nullable = true)\n",
      " |-- Status: string (nullable = true)\n",
      " |-- Status Desc: string (nullable = true)\n",
      " |-- Crm Cd 1: integer (nullable = true)\n",
      " |-- Crm Cd 2: integer (nullable = true)\n",
      " |-- Crm Cd 3: integer (nullable = true)\n",
      " |-- Crm Cd 4: integer (nullable = true)\n",
      " |-- LOCATION: string (nullable = true)\n",
      " |-- Cross Street: string (nullable = true)\n",
      " |-- LAT: double (nullable = true)\n",
      " |-- LON: double (nullable = true)"
     ]
    }
   ],
   "source": [
    "data2_path = 's3://initial-notebook-data-bucket-dblab-905418150721/CrimeData/Crime_Data_from_2020_to_Present_20241101.csv'\n",
    "df2 = spark.read.csv(data2_path,header = True, inferSchema = True)\n",
    "df.printSchema()"
   ]
  },
  {
   "cell_type": "code",
   "execution_count": 3,
   "id": "2b7cc0d1-8a78-4646-99ca-0d406ef502ed",
   "metadata": {
    "tags": []
   },
   "outputs": [
    {
     "data": {
      "application/vnd.jupyter.widget-view+json": {
       "model_id": "",
       "version_major": 2,
       "version_minor": 0
      },
      "text/plain": [
       "FloatProgress(value=0.0, bar_style='info', description='Progress:', layout=Layout(height='25px', width='50%'),…"
      ]
     },
     "metadata": {},
     "output_type": "display_data"
    },
    {
     "name": "stdout",
     "output_type": "stream",
     "text": [
      "df rows: 2123044, columns: 28\n",
      "df2 rows: 990293, columns: 28\n",
      "df_combined rows: 3113337, columns: 28"
     ]
    }
   ],
   "source": [
    "# Number of rows and columns in df\n",
    "print(f\"df rows: {df.count()}, columns: {len(df.columns)}\")\n",
    "\n",
    "# Number of rows and columns in df2\n",
    "print(f\"df2 rows: {df2.count()}, columns: {len(df2.columns)}\")\n",
    "\n",
    "# Combined DataFrame\n",
    "df_combined = df.union(df2)\n",
    "\n",
    "# Number of rows and columns in df_combined\n",
    "print(f\"df_combined rows: {df_combined.count()}, columns: {len(df_combined.columns)}\")\n"
   ]
  },
  {
   "cell_type": "code",
   "execution_count": 4,
   "id": "988ab14c-67bd-4d5a-9f67-7d5c838dbd37",
   "metadata": {
    "tags": []
   },
   "outputs": [
    {
     "data": {
      "application/vnd.jupyter.widget-view+json": {
       "model_id": "",
       "version_major": 2,
       "version_minor": 0
      },
      "text/plain": [
       "FloatProgress(value=0.0, bar_style='info', description='Progress:', layout=Layout(height='25px', width='50%'),…"
      ]
     },
     "metadata": {},
     "output_type": "display_data"
    },
    {
     "name": "stdout",
     "output_type": "stream",
     "text": [
      "['DR_NO', 'Date Rptd', 'DATE OCC', 'TIME OCC', 'AREA ', 'AREA NAME', 'Rpt Dist No', 'Part 1-2', 'Crm Cd', 'Crm Cd Desc', 'Mocodes', 'Vict Age', 'Vict Sex', 'Vict Descent', 'Premis Cd', 'Premis Desc', 'Weapon Used Cd', 'Weapon Desc', 'Status', 'Status Desc', 'Crm Cd 1', 'Crm Cd 2', 'Crm Cd 3', 'Crm Cd 4', 'LOCATION', 'Cross Street', 'LAT', 'LON']"
     ]
    }
   ],
   "source": [
    "df_combined.columns"
   ]
  },
  {
   "cell_type": "markdown",
   "id": "a5c8bc84-cdbf-4a44-92c7-d04f0a46063c",
   "metadata": {},
   "source": [
    "## RDD - Sorted AGGRAVATED ASSAULT CRIMES BY AGE GROUP"
   ]
  },
  {
   "cell_type": "code",
   "execution_count": 5,
   "id": "a6904e82-03e4-4d0b-8c2f-bb5008391bab",
   "metadata": {
    "tags": []
   },
   "outputs": [
    {
     "data": {
      "application/vnd.jupyter.widget-view+json": {
       "model_id": "",
       "version_major": 2,
       "version_minor": 0
      },
      "text/plain": [
       "FloatProgress(value=0.0, bar_style='info', description='Progress:', layout=Layout(height='25px', width='50%'),…"
      ]
     },
     "metadata": {},
     "output_type": "display_data"
    }
   ],
   "source": [
    "import csv\n",
    "\n",
    "# Λειτουργία για να διαβάσεις τα δεδομένα CSV και να τα επεξεργαστείς με csv.reader\n",
    "def parse_csv(line):\n",
    "    # Χρησιμοποιούμε το csv.reader για να επεξεργαστούμε σωστά την γραμμή\n",
    "    return list(csv.reader([line]))[0]\n",
    "\n",
    "# Διαβάζουμε τα δεδομένα από το S3 και τα περνάμε μέσω του csv.reader\n",
    "data = sc.textFile(\"s3://initial-notebook-data-bucket-dblab-905418150721/CrimeData/Crime_Data_from_2010_to_2019_20241101.csv\") \\\n",
    "            .map(parse_csv)\n",
    "\n",
    "data2 = sc.textFile(\"s3://initial-notebook-data-bucket-dblab-905418150721/CrimeData/Crime_Data_from_2020_to_Present_20241101.csv\") \\\n",
    "            .map(parse_csv)\n"
   ]
  },
  {
   "cell_type": "code",
   "execution_count": 6,
   "id": "1d3059c1-500d-4059-a0d8-c7ade59c2af9",
   "metadata": {
    "tags": []
   },
   "outputs": [
    {
     "data": {
      "application/vnd.jupyter.widget-view+json": {
       "model_id": "",
       "version_major": 2,
       "version_minor": 0
      },
      "text/plain": [
       "FloatProgress(value=0.0, bar_style='info', description='Progress:', layout=Layout(height='25px', width='50%'),…"
      ]
     },
     "metadata": {},
     "output_type": "display_data"
    },
    {
     "name": "stdout",
     "output_type": "stream",
     "text": [
      "Sorted by Elderly\n",
      "(120, ['200808494', 'ASSAULT WITH DEADLY WEAPON, AGGRAVATED ASSAULT'])\n",
      "(99, ['170132132', 'ASSAULT WITH DEADLY WEAPON, AGGRAVATED ASSAULT'])\n",
      "(99, ['171805899', 'ASSAULT WITH DEADLY WEAPON, AGGRAVATED ASSAULT'])\n",
      "(99, ['180121778', 'INTIMATE PARTNER - AGGRAVATED ASSAULT'])\n",
      "(99, ['181805391', 'INTIMATE PARTNER - AGGRAVATED ASSAULT'])\n",
      "(99, ['180112253', 'ASSAULT WITH DEADLY WEAPON, AGGRAVATED ASSAULT'])\n",
      "(99, ['180514402', 'INTIMATE PARTNER - AGGRAVATED ASSAULT'])\n",
      "(99, ['101408873', 'ASSAULT WITH DEADLY WEAPON, AGGRAVATED ASSAULT'])\n",
      "(99, ['210510500', 'ASSAULT WITH DEADLY WEAPON, AGGRAVATED ASSAULT'])\n",
      "(99, ['210817606', 'INTIMATE PARTNER - AGGRAVATED ASSAULT'])\n",
      "(99, ['210912586', 'INTIMATE PARTNER - AGGRAVATED ASSAULT'])\n",
      "(99, ['210401098', 'ASSAULT WITH DEADLY WEAPON, AGGRAVATED ASSAULT'])\n",
      "(99, ['221816955', 'ASSAULT WITH DEADLY WEAPON, AGGRAVATED ASSAULT'])\n",
      "(99, ['160108922', 'ASSAULT WITH DEADLY WEAPON, AGGRAVATED ASSAULT'])\n",
      "(99, ['160509846', 'ASSAULT WITH DEADLY WEAPON, AGGRAVATED ASSAULT'])\n",
      "(99, ['170504067', 'ASSAULT WITH DEADLY WEAPON, AGGRAVATED ASSAULT'])\n",
      "(99, ['170207284', 'ASSAULT WITH DEADLY WEAPON, AGGRAVATED ASSAULT'])\n",
      "(99, ['131209628', 'ASSAULT WITH DEADLY WEAPON, AGGRAVATED ASSAULT'])\n",
      "(99, ['131012876', 'ASSAULT WITH DEADLY WEAPON, AGGRAVATED ASSAULT'])\n",
      "(99, ['132005705', 'ASSAULT WITH DEADLY WEAPON, AGGRAVATED ASSAULT'])"
     ]
    }
   ],
   "source": [
    "# Διαβάζουμε και φιλτράρουμε τα δύο RDDs\n",
    "start_time = time.time()\n",
    "\n",
    "# Διαβάζω και φιλτράρω τα δύο RDDs\n",
    "data_filtered = data.filter(lambda x: x[11].isdigit() and 64 < int(x[11]) and \n",
    "                            (x[9] == \"ASSAULT WITH DEADLY WEAPON, AGGRAVATED ASSAULT\" or \n",
    "                             x[9] == \"INTIMATE PARTNER - AGGRAVATED ASSAULT\")) \\\n",
    "                    .map(lambda x: [int(x[11]), [x[0], x[9]]])\n",
    "\n",
    "data2_filtered = data2.filter(lambda x: x[11].isdigit() and 64 < int(x[11]) and \n",
    "                              (x[9] == \"ASSAULT WITH DEADLY WEAPON, AGGRAVATED ASSAULT\" or \n",
    "                               x[9] == \"INTIMATE PARTNER - AGGRAVATED ASSAULT\")) \\\n",
    "                     .map(lambda x: [int(x[11]), [x[0], x[9]]])\n",
    "\n",
    "# Ενώνω τα δύο RDDs\n",
    "combined_data = data_filtered.union(data2_filtered)\n",
    "\n",
    "# Ταξινομώ τα δεδομένα με βάση το key (ηλικία)\n",
    "sorted_combined_data = combined_data.sortByKey(ascending=False)\n",
    "\n",
    "# Εκτύπωση αποτελεσμάτων\n",
    "print(\"Sorted by Elderly\")\n",
    "for item in sorted_combined_data.take(20):\n",
    "    print(item)\n",
    "\n"
   ]
  },
  {
   "cell_type": "code",
   "execution_count": 7,
   "id": "ce46771c-1f3e-4ddf-91ef-849fd0e9afea",
   "metadata": {
    "tags": []
   },
   "outputs": [
    {
     "data": {
      "application/vnd.jupyter.widget-view+json": {
       "model_id": "",
       "version_major": 2,
       "version_minor": 0
      },
      "text/plain": [
       "FloatProgress(value=0.0, bar_style='info', description='Progress:', layout=Layout(height='25px', width='50%'),…"
      ]
     },
     "metadata": {},
     "output_type": "display_data"
    },
    {
     "name": "stdout",
     "output_type": "stream",
     "text": [
      "Sorted by Adult\n",
      "(64, ['100115360', 'ASSAULT WITH DEADLY WEAPON, AGGRAVATED ASSAULT'])\n",
      "(64, ['100116279', 'ASSAULT WITH DEADLY WEAPON, AGGRAVATED ASSAULT'])\n",
      "(64, ['100117603', 'ASSAULT WITH DEADLY WEAPON, AGGRAVATED ASSAULT'])\n",
      "(64, ['100120120', 'ASSAULT WITH DEADLY WEAPON, AGGRAVATED ASSAULT'])\n",
      "(64, ['100120846', 'ASSAULT WITH DEADLY WEAPON, AGGRAVATED ASSAULT'])\n",
      "(64, ['100214001', 'ASSAULT WITH DEADLY WEAPON, AGGRAVATED ASSAULT'])\n",
      "(64, ['100311109', 'ASSAULT WITH DEADLY WEAPON, AGGRAVATED ASSAULT'])\n",
      "(64, ['100319816', 'ASSAULT WITH DEADLY WEAPON, AGGRAVATED ASSAULT'])\n",
      "(64, ['100410531', 'ASSAULT WITH DEADLY WEAPON, AGGRAVATED ASSAULT'])\n",
      "(64, ['100514181', 'ASSAULT WITH DEADLY WEAPON, AGGRAVATED ASSAULT'])\n",
      "(64, ['100716850', 'ASSAULT WITH DEADLY WEAPON, AGGRAVATED ASSAULT'])\n",
      "(64, ['100816337', 'ASSAULT WITH DEADLY WEAPON, AGGRAVATED ASSAULT'])\n",
      "(64, ['100919279', 'ASSAULT WITH DEADLY WEAPON, AGGRAVATED ASSAULT'])\n",
      "(64, ['101208131', 'ASSAULT WITH DEADLY WEAPON, AGGRAVATED ASSAULT'])\n",
      "(64, ['101214774', 'ASSAULT WITH DEADLY WEAPON, AGGRAVATED ASSAULT'])\n",
      "(64, ['101316890', 'ASSAULT WITH DEADLY WEAPON, AGGRAVATED ASSAULT'])\n",
      "(64, ['101120873', 'ASSAULT WITH DEADLY WEAPON, AGGRAVATED ASSAULT'])\n",
      "(64, ['101325069', 'ASSAULT WITH DEADLY WEAPON, AGGRAVATED ASSAULT'])\n",
      "(64, ['101815473', 'ASSAULT WITH DEADLY WEAPON, AGGRAVATED ASSAULT'])\n",
      "(64, ['102020564', 'ASSAULT WITH DEADLY WEAPON, AGGRAVATED ASSAULT'])"
     ]
    }
   ],
   "source": [
    "# Διαβάζω και φιλτράρω τα δύο RDDs\n",
    "data_filtered = data.filter(lambda x: x[11].isdigit() and 25 <= int(x[11]) <= 64 and \n",
    "                            (x[9] == \"ASSAULT WITH DEADLY WEAPON, AGGRAVATED ASSAULT\" or \n",
    "                             x[9] == \"INTIMATE PARTNER - AGGRAVATED ASSAULT\")) \\\n",
    "                    .map(lambda x: [int(x[11]), [x[0], x[9]]])\n",
    "\n",
    "data2_filtered = data2.filter(lambda x: x[11].isdigit() and 25 <= int(x[11]) <= 64 and \n",
    "                              (x[9] == \"ASSAULT WITH DEADLY WEAPON, AGGRAVATED ASSAULT\" or \n",
    "                               x[9] == \"INTIMATE PARTNER - AGGRAVATED ASSAULT\")) \\\n",
    "                     .map(lambda x: [int(x[11]), [x[0], x[9]]])\n",
    "\n",
    "# Ενώνω τα δύο RDDs\n",
    "combined_data = data_filtered.union(data2_filtered)\n",
    "\n",
    "# Ταξινομώ τα δεδομένα με βάση το key (ηλικία)\n",
    "sorted_combined_data = combined_data.sortByKey(ascending=False)\n",
    "\n",
    "# Εκτύπωση αποτελεσμάτων\n",
    "print(\"Sorted by Adult\")\n",
    "for item in sorted_combined_data.take(20):\n",
    "    print(item)"
   ]
  },
  {
   "cell_type": "code",
   "execution_count": 8,
   "id": "fc294e9d-5f7c-42df-93bc-fc4885c1cce4",
   "metadata": {
    "tags": []
   },
   "outputs": [
    {
     "data": {
      "application/vnd.jupyter.widget-view+json": {
       "model_id": "",
       "version_major": 2,
       "version_minor": 0
      },
      "text/plain": [
       "FloatProgress(value=0.0, bar_style='info', description='Progress:', layout=Layout(height='25px', width='50%'),…"
      ]
     },
     "metadata": {},
     "output_type": "display_data"
    },
    {
     "name": "stdout",
     "output_type": "stream",
     "text": [
      "Sorted by Youth Adult\n",
      "(24, ['121900610', 'ASSAULT WITH DEADLY WEAPON, AGGRAVATED ASSAULT'])\n",
      "(24, ['120625403', 'ASSAULT WITH DEADLY WEAPON, AGGRAVATED ASSAULT'])\n",
      "(24, ['122100506', 'ASSAULT WITH DEADLY WEAPON, AGGRAVATED ASSAULT'])\n",
      "(24, ['122110725', 'ASSAULT WITH DEADLY WEAPON, AGGRAVATED ASSAULT'])\n",
      "(24, ['121300985', 'ASSAULT WITH DEADLY WEAPON, AGGRAVATED ASSAULT'])\n",
      "(24, ['121816515', 'ASSAULT WITH DEADLY WEAPON, AGGRAVATED ASSAULT'])\n",
      "(24, ['120216516', 'ASSAULT WITH DEADLY WEAPON, AGGRAVATED ASSAULT'])\n",
      "(24, ['122020335', 'ASSAULT WITH DEADLY WEAPON, AGGRAVATED ASSAULT'])\n",
      "(24, ['121906512', 'INTIMATE PARTNER - AGGRAVATED ASSAULT'])\n",
      "(24, ['121901525', 'ASSAULT WITH DEADLY WEAPON, AGGRAVATED ASSAULT'])\n",
      "(24, ['120115458', 'ASSAULT WITH DEADLY WEAPON, AGGRAVATED ASSAULT'])\n",
      "(24, ['121906101', 'ASSAULT WITH DEADLY WEAPON, AGGRAVATED ASSAULT'])\n",
      "(24, ['120621113', 'ASSAULT WITH DEADLY WEAPON, AGGRAVATED ASSAULT'])\n",
      "(24, ['130605157', 'ASSAULT WITH DEADLY WEAPON, AGGRAVATED ASSAULT'])\n",
      "(24, ['121904162', 'ASSAULT WITH DEADLY WEAPON, AGGRAVATED ASSAULT'])\n",
      "(24, ['120305696', 'ASSAULT WITH DEADLY WEAPON, AGGRAVATED ASSAULT'])\n",
      "(24, ['121918764', 'ASSAULT WITH DEADLY WEAPON, AGGRAVATED ASSAULT'])\n",
      "(24, ['121922633', 'ASSAULT WITH DEADLY WEAPON, AGGRAVATED ASSAULT'])\n",
      "(24, ['122111904', 'ASSAULT WITH DEADLY WEAPON, AGGRAVATED ASSAULT'])\n",
      "(24, ['121211484', 'ASSAULT WITH DEADLY WEAPON, AGGRAVATED ASSAULT'])"
     ]
    }
   ],
   "source": [
    "# Διαβάζω και φιλτράρω τα δύο RDDs\n",
    "data_filtered = data.filter(lambda x: x[11].isdigit() and 18 <= int(x[11]) <= 24 and \n",
    "                            (x[9] == \"ASSAULT WITH DEADLY WEAPON, AGGRAVATED ASSAULT\" or \n",
    "                             x[9] == \"INTIMATE PARTNER - AGGRAVATED ASSAULT\")) \\\n",
    "                    .map(lambda x: [int(x[11]), [x[0], x[9]]])\n",
    "\n",
    "data2_filtered = data2.filter(lambda x: x[11].isdigit() and 18 <= int(x[11]) <= 24 and \n",
    "                              (x[9] == \"ASSAULT WITH DEADLY WEAPON, AGGRAVATED ASSAULT\" or \n",
    "                               x[9] == \"INTIMATE PARTNER - AGGRAVATED ASSAULT\")) \\\n",
    "                     .map(lambda x: [int(x[11]), [x[0], x[9]]])\n",
    "\n",
    "# Ενώνω τα δύο RDDs\n",
    "combined_data = data_filtered.union(data2_filtered)\n",
    "\n",
    "# Ταξινομώ τα δεδομένα με βάση το key (ηλικία)\n",
    "sorted_combined_data = combined_data.sortByKey(ascending=False)\n",
    "\n",
    "# Εκτύπωση αποτελεσμάτων\n",
    "print(\"Sorted by Youth Adult\")\n",
    "for item in sorted_combined_data.take(20):\n",
    "    print(item)"
   ]
  },
  {
   "cell_type": "code",
   "execution_count": 9,
   "id": "e7bbad49-07d9-40d2-b9b7-3a563a9b0a1e",
   "metadata": {
    "tags": []
   },
   "outputs": [
    {
     "data": {
      "application/vnd.jupyter.widget-view+json": {
       "model_id": "",
       "version_major": 2,
       "version_minor": 0
      },
      "text/plain": [
       "FloatProgress(value=0.0, bar_style='info', description='Progress:', layout=Layout(height='25px', width='50%'),…"
      ]
     },
     "metadata": {},
     "output_type": "display_data"
    },
    {
     "name": "stdout",
     "output_type": "stream",
     "text": [
      "Sorted by Children\n",
      "(17, ['200408755', 'ASSAULT WITH DEADLY WEAPON, AGGRAVATED ASSAULT'])\n",
      "(17, ['201113788', 'ASSAULT WITH DEADLY WEAPON, AGGRAVATED ASSAULT'])\n",
      "(17, ['201820292', 'ASSAULT WITH DEADLY WEAPON, AGGRAVATED ASSAULT'])\n",
      "(17, ['200705347', 'ASSAULT WITH DEADLY WEAPON, AGGRAVATED ASSAULT'])\n",
      "(17, ['200612219', 'INTIMATE PARTNER - AGGRAVATED ASSAULT'])\n",
      "(17, ['200305246', 'INTIMATE PARTNER - AGGRAVATED ASSAULT'])\n",
      "(17, ['200612388', 'ASSAULT WITH DEADLY WEAPON, AGGRAVATED ASSAULT'])\n",
      "(17, ['201208407', 'ASSAULT WITH DEADLY WEAPON, AGGRAVATED ASSAULT'])\n",
      "(17, ['200904420', 'ASSAULT WITH DEADLY WEAPON, AGGRAVATED ASSAULT'])\n",
      "(17, ['200811596', 'ASSAULT WITH DEADLY WEAPON, AGGRAVATED ASSAULT'])\n",
      "(17, ['201100618', 'ASSAULT WITH DEADLY WEAPON, AGGRAVATED ASSAULT'])\n",
      "(17, ['200212935', 'ASSAULT WITH DEADLY WEAPON, AGGRAVATED ASSAULT'])\n",
      "(17, ['200408928', 'ASSAULT WITH DEADLY WEAPON, AGGRAVATED ASSAULT'])\n",
      "(17, ['200312712', 'ASSAULT WITH DEADLY WEAPON, AGGRAVATED ASSAULT'])\n",
      "(17, ['201500734', 'INTIMATE PARTNER - AGGRAVATED ASSAULT'])\n",
      "(17, ['201014612', 'ASSAULT WITH DEADLY WEAPON, AGGRAVATED ASSAULT'])\n",
      "(17, ['201014614', 'ASSAULT WITH DEADLY WEAPON, AGGRAVATED ASSAULT'])\n",
      "(17, ['201015182', 'ASSAULT WITH DEADLY WEAPON, AGGRAVATED ASSAULT'])\n",
      "(17, ['201223341', 'ASSAULT WITH DEADLY WEAPON, AGGRAVATED ASSAULT'])\n",
      "(17, ['201225235', 'ASSAULT WITH DEADLY WEAPON, AGGRAVATED ASSAULT'])\n",
      "Time taken: 35.24 seconds"
     ]
    }
   ],
   "source": [
    "# Φιλτράρισμα για τις συγκεκριμένες περιγραφές εγκλημάτων και την ηλικία\n",
    "data_filtered = data.filter(lambda x: x[11].isdigit() and int(x[11]) < 18 and \n",
    "                            (x[9] == \"ASSAULT WITH DEADLY WEAPON, AGGRAVATED ASSAULT\" or \n",
    "                             x[9] == \"INTIMATE PARTNER - AGGRAVATED ASSAULT\")) \\\n",
    "                    .map(lambda x: [int(x[11]), [x[0], x[9]]])\n",
    "\n",
    "data2_filtered = data2.filter(lambda x: x[11].isdigit() and int(x[11]) < 18 and \n",
    "                              (x[9] == \"ASSAULT WITH DEADLY WEAPON, AGGRAVATED ASSAULT\" or \n",
    "                               x[9] == \"INTIMATE PARTNER - AGGRAVATED ASSAULT\")) \\\n",
    "                     .map(lambda x: [int(x[11]), [x[0], x[9]]])\n",
    "\n",
    "# Ενώνουμε τα δύο RDDs\n",
    "combined_data = data_filtered.union(data2_filtered)\n",
    "\n",
    "# Ταξινομούμε τα δεδομένα με βάση το key (ηλικία)\n",
    "sorted_combined_data = combined_data.sortByKey(ascending=False)\n",
    "\n",
    "# Εκτύπωση αποτελεσμάτων\n",
    "print(\"Sorted by Children\")\n",
    "for item in sorted_combined_data.take(20):\n",
    "    print(item)\n",
    "# Stop timing and print out the execution duration\n",
    "end_time = time.time()\n",
    "elapsed_time = end_time - start_time\n",
    "print(f\"Time taken: {elapsed_time:.2f} seconds\")"
   ]
  }
 ],
 "metadata": {
  "kernelspec": {
   "display_name": "Sparkmagic (PySpark)",
   "language": "python",
   "name": "pysparkkernel"
  },
  "language_info": {
   "codemirror_mode": {
    "name": "python",
    "version": 3
   },
   "file_extension": ".py",
   "mimetype": "text/x-python",
   "name": "pyspark",
   "pygments_lexer": "python3"
  }
 },
 "nbformat": 4,
 "nbformat_minor": 5
}
