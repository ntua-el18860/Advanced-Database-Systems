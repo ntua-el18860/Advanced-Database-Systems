{
 "cells": [
  {
   "cell_type": "markdown",
   "id": "34f577d9-6152-43c8-b716-5fa220ac7167",
   "metadata": {},
   "source": [
    "## SQL API - Sorted AGGRAVATED ASSAULT CRIMES BY AGE GROUP"
   ]
  },
  {
   "cell_type": "code",
   "execution_count": 1,
   "id": "b58fcf71-3be6-4a08-810d-57f88a52507e",
   "metadata": {
    "tags": []
   },
   "outputs": [
    {
     "name": "stdout",
     "output_type": "stream",
     "text": [
      "Starting Spark application\n"
     ]
    },
    {
     "data": {
      "text/html": [
       "<table>\n",
       "<tr><th>ID</th><th>YARN Application ID</th><th>Kind</th><th>State</th><th>Spark UI</th><th>Driver log</th><th>User</th><th>Current session?</th></tr><tr><td>353</td><td>application_1732639283265_0322</td><td>pyspark</td><td>idle</td><td><a target=\"_blank\" href=\"http://ip-192-168-1-36.eu-central-1.compute.internal:20888/proxy/application_1732639283265_0322/\">Link</a></td><td><a target=\"_blank\" href=\"http://ip-192-168-1-178.eu-central-1.compute.internal:8042/node/containerlogs/container_1732639283265_0322_01_000001/livy\">Link</a></td><td>None</td><td>✔</td></tr></table>"
      ],
      "text/plain": [
       "<IPython.core.display.HTML object>"
      ]
     },
     "metadata": {},
     "output_type": "display_data"
    },
    {
     "data": {
      "application/vnd.jupyter.widget-view+json": {
       "model_id": "",
       "version_major": 2,
       "version_minor": 0
      },
      "text/plain": [
       "FloatProgress(value=0.0, bar_style='info', description='Progress:', layout=Layout(height='25px', width='50%'),…"
      ]
     },
     "metadata": {},
     "output_type": "display_data"
    },
    {
     "name": "stdout",
     "output_type": "stream",
     "text": [
      "SparkSession available as 'spark'.\n"
     ]
    },
    {
     "data": {
      "application/vnd.jupyter.widget-view+json": {
       "model_id": "",
       "version_major": 2,
       "version_minor": 0
      },
      "text/plain": [
       "FloatProgress(value=0.0, bar_style='info', description='Progress:', layout=Layout(height='25px', width='50%'),…"
      ]
     },
     "metadata": {},
     "output_type": "display_data"
    },
    {
     "name": "stdout",
     "output_type": "stream",
     "text": [
      "Schema of data_1\n",
      "root\n",
      " |-- DR_NO: string (nullable = true)\n",
      " |-- Date Rptd: string (nullable = true)\n",
      " |-- DATE OCC: string (nullable = true)\n",
      " |-- TIME OCC: string (nullable = true)\n",
      " |-- AREA : string (nullable = true)\n",
      " |-- AREA NAME: string (nullable = true)\n",
      " |-- Rpt Dist No: string (nullable = true)\n",
      " |-- Part 1-2: string (nullable = true)\n",
      " |-- Crm Cd: string (nullable = true)\n",
      " |-- Crm Cd Desc: string (nullable = true)\n",
      " |-- Mocodes: string (nullable = true)\n",
      " |-- Vict Age: string (nullable = true)\n",
      " |-- Vict Sex: string (nullable = true)\n",
      " |-- Vict Descent: string (nullable = true)\n",
      " |-- Premis Cd: string (nullable = true)\n",
      " |-- Premis Desc: string (nullable = true)\n",
      " |-- Weapon Used Cd: string (nullable = true)\n",
      " |-- Weapon Desc: string (nullable = true)\n",
      " |-- Status: string (nullable = true)\n",
      " |-- Status Desc: string (nullable = true)\n",
      " |-- Crm Cd 1: string (nullable = true)\n",
      " |-- Crm Cd 2: string (nullable = true)\n",
      " |-- Crm Cd 3: string (nullable = true)\n",
      " |-- Crm Cd 4: string (nullable = true)\n",
      " |-- LOCATION: string (nullable = true)\n",
      " |-- Cross Street: string (nullable = true)\n",
      " |-- LAT: string (nullable = true)\n",
      " |-- LON: string (nullable = true)\n",
      "\n",
      "Schema of data_2\n",
      "root\n",
      " |-- DR_NO: string (nullable = true)\n",
      " |-- Date Rptd: string (nullable = true)\n",
      " |-- DATE OCC: string (nullable = true)\n",
      " |-- TIME OCC: string (nullable = true)\n",
      " |-- AREA: string (nullable = true)\n",
      " |-- AREA NAME: string (nullable = true)\n",
      " |-- Rpt Dist No: string (nullable = true)\n",
      " |-- Part 1-2: string (nullable = true)\n",
      " |-- Crm Cd: string (nullable = true)\n",
      " |-- Crm Cd Desc: string (nullable = true)\n",
      " |-- Mocodes: string (nullable = true)\n",
      " |-- Vict Age: string (nullable = true)\n",
      " |-- Vict Sex: string (nullable = true)\n",
      " |-- Vict Descent: string (nullable = true)\n",
      " |-- Premis Cd: string (nullable = true)\n",
      " |-- Premis Desc: string (nullable = true)\n",
      " |-- Weapon Used Cd: string (nullable = true)\n",
      " |-- Weapon Desc: string (nullable = true)\n",
      " |-- Status: string (nullable = true)\n",
      " |-- Status Desc: string (nullable = true)\n",
      " |-- Crm Cd 1: string (nullable = true)\n",
      " |-- Crm Cd 2: string (nullable = true)\n",
      " |-- Crm Cd 3: string (nullable = true)\n",
      " |-- Crm Cd 4: string (nullable = true)\n",
      " |-- LOCATION: string (nullable = true)\n",
      " |-- Cross Street: string (nullable = true)\n",
      " |-- LAT: string (nullable = true)\n",
      " |-- LON: string (nullable = true)"
     ]
    }
   ],
   "source": [
    "from pyspark.sql import SparkSession\n",
    "from pyspark.sql.functions import col\n",
    "import time\n",
    "\n",
    "# Δημιουργία SparkSession\n",
    "spark = SparkSession \\\n",
    "    .builder \\\n",
    "    .appName(\"Query 1 execution\") \\\n",
    "    .config(\"spark.executor.instances\", \"4\") \\\n",
    "    .getOrCreate()\n",
    "\n",
    "# Φόρτωση δεδομένων από CSV\n",
    "data = spark.read.csv(\n",
    "    \"s3://initial-notebook-data-bucket-dblab-905418150721/CrimeData/Crime_Data_from_2010_to_2019_20241101.csv\",\n",
    "    header='true'\n",
    ")\n",
    "data_2 = spark.read.csv(\n",
    "    \"s3://initial-notebook-data-bucket-dblab-905418150721/CrimeData/Crime_Data_from_2020_to_Present_20241101.csv\",\n",
    "    header='true'\n",
    ")\n",
    "print(\"Schema of data_1\")\n",
    "data.printSchema()\n",
    "\n",
    "print(\"Schema of data_2\")\n",
    "data_2.printSchema()"
   ]
  },
  {
   "cell_type": "code",
   "execution_count": 2,
   "id": "98511886-85e4-4834-a262-b21c53ef8636",
   "metadata": {},
   "outputs": [
    {
     "data": {
      "application/vnd.jupyter.widget-view+json": {
       "model_id": "",
       "version_major": 2,
       "version_minor": 0
      },
      "text/plain": [
       "FloatProgress(value=0.0, bar_style='info', description='Progress:', layout=Layout(height='25px', width='50%'),…"
      ]
     },
     "metadata": {},
     "output_type": "display_data"
    }
   ],
   "source": [
    "# Χρονική μέτρηση\n",
    "start_time = time.time()\n",
    "\n",
    "# Καταχώρηση ως προσωρινό view για χρήση SQL\n",
    "data.createOrReplaceTempView(\"data\")\n",
    "data_2.createOrReplaceTempView(\"data_2\")\n",
    "\n",
    "id_query = \"\"\"\n",
    "    SELECT a.DR_NO, CAST(a.`Vict Age` AS INT) AS `Vict Age`, a.`Crm Cd Desc`\n",
    "    FROM data a\n",
    "    LEFT JOIN data_2 b ON a.DR_NO = b.DR_NO\n",
    "    WHERE (a.`Crm Cd Desc` = 'ASSAULT WITH DEADLY WEAPON, AGGRAVATED ASSAULT' \n",
    "           OR a.`Crm Cd Desc` = 'INTIMATE PARTNER - AGGRAVATED ASSAULT')\n",
    "      AND CAST(a.`Vict Age` AS INT) BETWEEN 0 AND 17\n",
    "    ORDER BY `Vict Age`\n",
    "\"\"\"\n",
    "\n",
    "# Εκτέλεση του query\n",
    "sorted_data = spark.sql(id_query)\n",
    "\n",
    "# Εμφάνιση των πρώτων αποτελεσμάτων\n",
    "# Εμφάνιση όλων των δεδομένων\n",
    "#print(\"Sorted by Youth Adult\")\n",
    "#for row in sorted_data.collect():\n",
    "#    print(row)\n",
    "# Αποθήκευση δεδομένων σε ένα μόνο αρχείο Parquet\n",
    "group_number = \"9\"\n",
    "s3_path = \"s3://groups-bucket-dblab-905418150721/group\"+group_number+\"/Query1_SQL/Children/\"\n",
    "\n",
    "# Χρήση coalesce(1) για να αποθηκεύσουμε τα δεδομένα σε ένα αρχείο\n",
    "sorted_data.coalesce(1).write.mode(\"overwrite\").parquet(s3_path)\n"
   ]
  },
  {
   "cell_type": "code",
   "execution_count": 3,
   "id": "2c567152-db8b-4f93-83ba-559558b93534",
   "metadata": {},
   "outputs": [
    {
     "data": {
      "application/vnd.jupyter.widget-view+json": {
       "model_id": "",
       "version_major": 2,
       "version_minor": 0
      },
      "text/plain": [
       "FloatProgress(value=0.0, bar_style='info', description='Progress:', layout=Layout(height='25px', width='50%'),…"
      ]
     },
     "metadata": {},
     "output_type": "display_data"
    }
   ],
   "source": [
    "id_query = \"\"\"\n",
    "    SELECT a.DR_NO, CAST(a.`Vict Age` AS INT) AS `Vict Age`, a.`Crm Cd Desc`\n",
    "    FROM data a\n",
    "    LEFT JOIN data_2 b ON a.DR_NO = b.DR_NO\n",
    "    WHERE (a.`Crm Cd Desc` = 'ASSAULT WITH DEADLY WEAPON, AGGRAVATED ASSAULT' \n",
    "           OR a.`Crm Cd Desc` = 'INTIMATE PARTNER - AGGRAVATED ASSAULT')\n",
    "      AND CAST(a.`Vict Age` AS INT) BETWEEN 18 AND 24\n",
    "    ORDER BY `Vict Age`\n",
    "\"\"\"\n",
    "\n",
    "# Εκτέλεση του query\n",
    "sorted_data = spark.sql(id_query)\n",
    "\n",
    "# Εμφάνιση όλων των δεδομένων\n",
    "#print(\"Sorted by Youth Adult\")\n",
    "#for row in sorted_data.collect():\n",
    "#    print(row)\n",
    "group_number = \"9\"\n",
    "s3_path = \"s3://groups-bucket-dblab-905418150721/group\"+group_number+\"/Query1_SQL/Youth_Adult/\"\n",
    "sorted_data.coalesce(1).write.mode(\"overwrite\").parquet(s3_path)\n"
   ]
  },
  {
   "cell_type": "code",
   "execution_count": 4,
   "id": "04539769-9e50-4728-9752-bb43f2223d83",
   "metadata": {
    "tags": []
   },
   "outputs": [
    {
     "data": {
      "application/vnd.jupyter.widget-view+json": {
       "model_id": "",
       "version_major": 2,
       "version_minor": 0
      },
      "text/plain": [
       "FloatProgress(value=0.0, bar_style='info', description='Progress:', layout=Layout(height='25px', width='50%'),…"
      ]
     },
     "metadata": {},
     "output_type": "display_data"
    }
   ],
   "source": [
    "id_query = \"\"\"\n",
    "    SELECT a.DR_NO, CAST(a.`Vict Age` AS INT) AS `Vict Age`, a.`Crm Cd Desc`\n",
    "    FROM data a\n",
    "    LEFT JOIN data_2 b ON a.DR_NO = b.DR_NO\n",
    "    WHERE (a.`Crm Cd Desc` = 'ASSAULT WITH DEADLY WEAPON, AGGRAVATED ASSAULT' \n",
    "           OR a.`Crm Cd Desc` = 'INTIMATE PARTNER - AGGRAVATED ASSAULT')\n",
    "      AND CAST(a.`Vict Age` AS INT) BETWEEN 25 AND 64\n",
    "    ORDER BY `Vict Age`\n",
    "\"\"\"\n",
    "\n",
    "# Εκτέλεση του query\n",
    "sorted_data = spark.sql(id_query)\n",
    "\n",
    "# Εμφάνιση όλων των δεδομένων\n",
    "#print(\"Sorted by Adult\")\n",
    "#for row in sorted_data.collect():\n",
    "#    print(row)\n",
    "\n",
    "group_number = \"9\"\n",
    "s3_path = \"s3://groups-bucket-dblab-905418150721/group\"+group_number+\"/Query1_SQL/Adult/\"\n",
    "sorted_data.coalesce(1).write.mode(\"overwrite\").parquet(s3_path)\n"
   ]
  },
  {
   "cell_type": "code",
   "execution_count": 5,
   "id": "689b5324-65ce-412b-80b4-04d4ce7195bf",
   "metadata": {
    "tags": []
   },
   "outputs": [
    {
     "data": {
      "application/vnd.jupyter.widget-view+json": {
       "model_id": "",
       "version_major": 2,
       "version_minor": 0
      },
      "text/plain": [
       "FloatProgress(value=0.0, bar_style='info', description='Progress:', layout=Layout(height='25px', width='50%'),…"
      ]
     },
     "metadata": {},
     "output_type": "display_data"
    },
    {
     "name": "stdout",
     "output_type": "stream",
     "text": [
      "Time taken: 22.95 seconds"
     ]
    }
   ],
   "source": [
    "id_query = \"\"\"\n",
    "    SELECT a.DR_NO, CAST(a.`Vict Age` AS INT) AS `Vict Age`, a.`Crm Cd Desc`\n",
    "    FROM data a\n",
    "    LEFT JOIN data_2 b ON a.DR_NO = b.DR_NO\n",
    "    WHERE (a.`Crm Cd Desc` = 'ASSAULT WITH DEADLY WEAPON, AGGRAVATED ASSAULT' \n",
    "           OR a.`Crm Cd Desc` = 'INTIMATE PARTNER - AGGRAVATED ASSAULT')\n",
    "      AND CAST(a.`Vict Age` AS INT) > 64\n",
    "    ORDER BY `Vict Age`\n",
    "\"\"\"\n",
    "\n",
    "# Εκτέλεση του query\n",
    "sorted_data = spark.sql(id_query)\n",
    "\n",
    "\n",
    "# Εμφάνιση όλων των δεδομένων\n",
    "#print(\"Sorted by Youth Elderly\")\n",
    "#for row in sorted_data.collect():\n",
    "#   print(row)\n",
    "group_number = \"9\"\n",
    "s3_path = \"s3://groups-bucket-dblab-905418150721/group\"+group_number+\"/Query1_SQL/Elderly/\"\n",
    "sorted_data.coalesce(1).write.mode(\"overwrite\").parquet(s3_path)\n",
    "# Υπολογισμός και εκτύπωση χρόνου εκτέλεσης\n",
    "end_time = time.time()\n",
    "elapsed_time = end_time - start_time\n",
    "print(f\"Time taken: {elapsed_time:.2f} seconds\")\n"
   ]
  }
 ],
 "metadata": {
  "kernelspec": {
   "display_name": "Sparkmagic (PySpark)",
   "language": "python",
   "name": "pysparkkernel"
  },
  "language_info": {
   "codemirror_mode": {
    "name": "python",
    "version": 3
   },
   "file_extension": ".py",
   "mimetype": "text/x-python",
   "name": "pyspark",
   "pygments_lexer": "python3"
  }
 },
 "nbformat": 4,
 "nbformat_minor": 5
}
